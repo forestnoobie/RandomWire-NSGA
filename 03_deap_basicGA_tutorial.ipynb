{
 "cells": [
  {
   "cell_type": "markdown",
   "metadata": {},
   "source": [
    "## GA 적용을 위해 deap package 튜토리얼 진행"
   ]
  },
  {
   "cell_type": "markdown",
   "metadata": {},
   "source": [
    "### 1. basic GA"
   ]
  },
  {
   "cell_type": "markdown",
   "metadata": {},
   "source": [
    "[Reference] https://deap.readthedocs.io/en/0.9.2/tutorials/index.html"
   ]
  },
  {
   "cell_type": "code",
   "execution_count": 3,
   "metadata": {},
   "outputs": [],
   "source": [
    "\"\"\"\n",
    "1. Types\n",
    " By using 'creator', appropriate type for your problem\n",
    " \n",
    "- base.Fitness의 attribute\n",
    "    1) valid: Assess if a fitness is valid or not.\n",
    "    2) values: Fitness values. Use directly individual.fitness.values\n",
    "    3) weights = None\n",
    "        The weights are used in the fitness comparison.\n",
    "        => negative weight element corresponds to the minimization fo the associated objective\n",
    "           and positive weight to the maximization\n",
    "\"\"\"\n",
    "from deap import base, creator\n",
    "\n",
    "# Creates a new class named name inheriting from base in the creator module.\n",
    "creator.create('FitnessMin', base.Fitness, weights=(-1.0, ))  # name, base (class), attribute\n",
    "creator.create('Individual', list, fitness=creator.FitnessMin)\n",
    "# => Individual.fitness attribute에 위에서 만든 FitnessMin이 들어감. (base.Fitness 클래스를 inherit)\n",
    "\n",
    "# [참고] https://deap.readthedocs.io/en/0.9.2/tutorials/types.html#creating-types\n",
    "# creator.create(\"Individual\", numpy.ndarray, typecode=\"d\", fitness=creator.FitnessMax)"
   ]
  },
  {
   "cell_type": "code",
   "execution_count": 40,
   "metadata": {},
   "outputs": [
    {
     "data": {
      "text/plain": [
       "(-1.0,)"
      ]
     },
     "execution_count": 40,
     "metadata": {},
     "output_type": "execute_result"
    }
   ],
   "source": [
    "creator.FitnessMin.weights"
   ]
  },
  {
   "cell_type": "code",
   "execution_count": 49,
   "metadata": {},
   "outputs": [
    {
     "data": {
      "text/plain": [
       "deap.creator.Individual"
      ]
     },
     "execution_count": 49,
     "metadata": {},
     "output_type": "execute_result"
    }
   ],
   "source": [
    "creator.Individual"
   ]
  },
  {
   "cell_type": "code",
   "execution_count": 10,
   "metadata": {},
   "outputs": [],
   "source": [
    "\"\"\"\n",
    "2. Initialization\n",
    " Once the types are created you need to fill them with sometimes random values, sometime guessed ones.\n",
    "... The 'Toolbox' is a container for tools of all sorts including initializers that can do what is needed of them.\n",
    "\n",
    " Below codes,\n",
    "- to create the initializers for individuals containing random floating point numbers\n",
    "- for a population that contains them.\n",
    "\"\"\"\n",
    "\n",
    "\"\"\"\n",
    "This creates functions to initialize populations from individuals that are themselves initialized\n",
    "with random float numbers.\n",
    "The functions are registered in the toolbox with there default arguments under the given name.\n",
    "\n",
    "[More 'Creating types'] Fitness, Individual, \n",
    "https://deap.readthedocs.io/en/0.9.2/tutorials/types.html#creating-types\n",
    "\"\"\"\n",
    "\n",
    "import random\n",
    "from deap import tools\n",
    "\n",
    "IND_SIZE = 10\n",
    "\n",
    "toolbox = base.Toolbox()\n",
    "# register(alias, method, argument ...)\n",
    "#   Register a method in the toolbox under the name alias.\n",
    "#   => toolbox.alias(가명)으로 해당 함수 접근 가능.\n",
    "toolbox.register('attribute', random.random)\n",
    "\n",
    "# tools.initRepeat(container, func)\n",
    "#    - container: the type to put in the data from func\n",
    "#    - func: the function that will be called n times to fill the container\n",
    "#    - n: the number of times to repeat func\n",
    "#    return 'An instance of the container filled with data from func.'\n",
    "toolbox.register('individual', tools.initRepeat,\n",
    "                 creator.Individual, toolbox.attribute, n=IND_SIZE)\n",
    "# => IND_SIZE 횟수만큼 toolbox.attribute method를 반복해서 container인 creator.Individual에 넣음\n",
    "#    => 해당 container의 instance를 반환하는 함수인 'toolbox.individual'이 register됨.\n",
    "\n",
    "# 앞서 만든 ,toolbox.individual 이라는, individual instance를 반환하는 함수를 이용하여\n",
    "# population 을 만드는 method를 toolbox에 register함.\n",
    "\n",
    "# container 는 list, func는 이전에 만들었던 toolbox.individual.\n",
    "#   => toolbox.population은 intanec of container.\n",
    "# 즉, toolbox.individual이 IND_SIZE만큼 담겨있는 population을 반환함.\n",
    "toolbox.register('population', tools.initRepeat,\n",
    "                 list, toolbox.individual)\n",
    "# => (alias, method, method's argument-[initRepeat의 container는 list, func은 toolbox.individual])"
   ]
  },
  {
   "cell_type": "code",
   "execution_count": 33,
   "metadata": {},
   "outputs": [],
   "source": [
    "\"\"\"\n",
    "3. Operators\n",
    " Operators are just like initalizers, excepted that some are already implemented in the tools module.\n",
    "\"\"\"\n",
    "\n",
    "\"\"\"\n",
    "- Note that fitness values must be iterable, that is why we return tuple in the evaluate function.\n",
    "- The registered functions are renamed by the toolbox to allows genericity \n",
    "  so that the algorithm does not depend on operators name.\n",
    "  \n",
    "[More 'Next step toward evolution']  ## Mutation, Crossover, Seletion을 custom으로 정의할 때 활용 ##\n",
    "https://deap.readthedocs.io/en/0.9.2/tutorials/next_step.html#next-step\n",
    "\n",
    "[deap Operators table]\n",
    "https://deap.readthedocs.io/en/master/api/tools.html\n",
    "\"\"\"\n",
    "\n",
    "# individual 에 랜덤 그래프?를 넣고,\n",
    "# evaluate 에서 해당 랜덤그래프를 이용하여 하나의 stage를 만들고\n",
    "# 해당 stage를 train 시키면 될 듯\n",
    "\n",
    "# selection operator 에 selNSGA2() 도 있음\n",
    "\n",
    "def evaluate(individual):\n",
    "    # list 형식의 individual 객체를 받아서, sum을 return 함\n",
    "    return sum(individual),   # => return tuple\n",
    "\n",
    "# toolbox.mate(), toolbox.select() 등의 이름으로 해당 함수에 접근할 수 있음.\n",
    "toolbox.register('mate', tools.cxTwoPoint)  # crossover\n",
    "# => return A tuple of two individuals.\n",
    "# Execute a two points crossover on the input individuals.\n",
    "# The two individuals are modified 'in place'\n",
    "\n",
    "toolbox.register('mutate', tools.mutGaussian, mu=0, sigma=1, indpb=0.1)  # mutation\n",
    "# => return A tuple of one individual\n",
    "# This function applies a gaussian mutation of mean mu and standard deviation sigma on the input individual.\n",
    "\n",
    "toolbox.register('select', tools.selTournament, tournsize=3)  # selection.\n",
    "# => return A list of selected individuals.\n",
    "# tools.selTournament의 arguement 중 torunsize는 미리 지정해줌\n",
    "\n",
    "toolbox.register('evaluate', evaluate)"
   ]
  },
  {
   "cell_type": "code",
   "execution_count": 50,
   "metadata": {},
   "outputs": [
    {
     "name": "stdout",
     "output_type": "stream",
     "text": [
      "Initial minimum fitness: (2.7721210608938773,)\n",
      "Final minimum fitness: (-34.870576681792606,)\n"
     ]
    }
   ],
   "source": [
    "\"\"\"\n",
    "4. Algorithms\n",
    " For the purpose of completeness we will develop the complete generational algorithm.\n",
    "\"\"\"\n",
    "# population 생성.  (toolbox.population은 creator.Individual n개를 담은 list를 반환. (=> population)\n",
    "pop = toolbox.population(n=50)\n",
    "CXPB, MUTPB, NGEN = 0.5, 0.2, 40\n",
    "\n",
    "# Evaluate the entire population\n",
    "fitnesses = list(map(toolbox.evaluate, pop))\n",
    "# (function, iterable) => 'iterable 객체인 pop' 내 individual 각각에 toolbox.evaluate 함수 적용\n",
    "print(\"Initial minimum fitness:\", min(fitnesses))\n",
    "\n",
    "for ind, fit in zip(pop, fitnesses):\n",
    "    ind.fitness.values = fit\n",
    "\n",
    "\n",
    "# NGEN 만큼 세대(generation) 반복\n",
    "for g in range(NGEN):\n",
    "    # Select the next generation individuals\n",
    "    offspring = toolbox.select(pop, len(pop))  # len(pop) 만큼 select함.\n",
    "    # Clone the selected individuals\n",
    "    offspring = list(map(toolbox.clone, offspring))\n",
    "    # offspring을 iterate하며, 각각 toolbox.clone 적용\n",
    "    \n",
    "    # Apply crossover and mutation on the offspring\n",
    "    # crossover 나 mutation 적용한 individuals 는 .fitness.values를 삭제 후, 나중에 다시 계산해줌.\n",
    "    for child1, child2 in zip(offspring[::2], offspring[1::2]):\n",
    "        if random.random() < CXPB:\n",
    "            toolbox.mate(child1, child2)\n",
    "            del child1.fitness.values\n",
    "            del child2.fitness.values\n",
    "    \n",
    "    for mutant in offspring:\n",
    "        if random.random() < MUTPB:\n",
    "            toolbox.mutate(mutant)\n",
    "            del mutant.fitness.values\n",
    "    \n",
    "    # crossover, mutation 적용된 individuals 는 fitness.values가 비어있으므로, 다시 계산해줌.\n",
    "    # Evaluate the individuals with an invalid fitness\n",
    "    invalid_ind = [ind for ind in offspring if not ind.fitness.valid]\n",
    "    fitnesses = map(toolbox.evaluate, invalid_ind)\n",
    "    for ind, fit in zip(invalid_ind, fitnesses):\n",
    "        ind.fitness.values = fit\n",
    "    \n",
    "    # The population is entirely replaced by the offspring\n",
    "    pop[:] = offspring\n",
    "    \n",
    "min_ind_fitness = min( list(map(toolbox.evaluate, pop)) )\n",
    "print(\"Final minimum fitness:\", min_ind_fitness)"
   ]
  },
  {
   "cell_type": "markdown",
   "metadata": {},
   "source": [
    "### 1-2. basic GA - One Max problem"
   ]
  },
  {
   "cell_type": "markdown",
   "metadata": {},
   "source": [
    "[Reference] https://www.tutorialspoint.com/artificial_intelligence_with_python/artificial_intelligence_with_python_genetic_algorithms\n",
    "\n",
    "- One max problem\n",
    "\n",
    "\n",
    "integer vectors randomly filled with 0 and 1.\n",
    "   =>  let our population evolve until one of its members contains only 1 and no 0 anymore."
   ]
  },
  {
   "cell_type": "code",
   "execution_count": 1,
   "metadata": {},
   "outputs": [],
   "source": [
    "import random\n",
    "from deap import base, creator, tools"
   ]
  },
  {
   "cell_type": "code",
   "execution_count": 8,
   "metadata": {},
   "outputs": [],
   "source": [
    "# Define fitness function\n",
    "# len(individual) - abs(ind의 성분합 - target_sum)\n",
    "def eval_func(individual):\n",
    "    target_sum = 15\n",
    "    return len(individual) - abs(sum(individual) - target_sum),"
   ]
  },
  {
   "cell_type": "code",
   "execution_count": 13,
   "metadata": {},
   "outputs": [],
   "source": [
    "# create the toolbox with the right parameters\n",
    "def create_toolbox(num_bits):\n",
    "    creator.create('FitnessMax', base.Fitness, weights=(1.0, ))  # maximization\n",
    "    creator.create('Individual', list, fitness=creator.FitnessMax)  # name, base (class), attribute\n",
    "    \n",
    "    # Initialize the toolbox\n",
    "    toolbox = base.Toolbox()\n",
    "\n",
    "    toolbox.register('attr_bool', random.randint, 0, 1)  # register(alias, method, argument ...)\n",
    "    toolbox.register('individuals', tools.initRepeat,\n",
    "                    creator.Individual, toolbox.attr_bool, num_bits)\n",
    "    \n",
    "    # tools.initRepeat(container, func)\n",
    "    #   return 'An instance of the container filled with data from func.'\n",
    "    toolbox.register('population', tools.initRepeat,\n",
    "                    list, toolbox.individuals)    \n",
    "    \n",
    "    # evaluation\n",
    "    toolbox.register('evaluate', eval_func)\n",
    "    \n",
    "    # crossover\n",
    "    toolbox.register('mate', tools.cxTwoPoint)\n",
    "    \n",
    "    # mutation\n",
    "    toolbox.register('mutate', tools.mutFlipBit, indpb=0.05)\n",
    "    \n",
    "    # selection\n",
    "    toolbox.register('select', tools.selTournament, tournsize=3)\n",
    "    \n",
    "    return toolbox"
   ]
  },
  {
   "cell_type": "code",
   "execution_count": 22,
   "metadata": {
    "scrolled": true
   },
   "outputs": [
    {
     "name": "stderr",
     "output_type": "stream",
     "text": [
      "/usr/local/lib/python3.5/dist-packages/deap/creator.py:141: RuntimeWarning: A class named 'FitnessMax' has already been created and it will be overwritten. Consider deleting previous creation of that class or rename it.\n",
      "  RuntimeWarning)\n",
      "/usr/local/lib/python3.5/dist-packages/deap/creator.py:141: RuntimeWarning: A class named 'Individual' has already been created and it will be overwritten. Consider deleting previous creation of that class or rename it.\n",
      "  RuntimeWarning)\n"
     ]
    },
    {
     "name": "stdout",
     "output_type": "stream",
     "text": [
      "\n",
      "Evolution process starts\n",
      "\n",
      "Evaluated 500 individuals\n",
      "\n",
      "- Generation 0\n",
      "Evaluated 295 individuals\n",
      "\n",
      "Min = 32.0 , Max = 45.0\n",
      "Average = 40.29 , Standard deviation = 2.61\n",
      "\n",
      "- Generation 1\n",
      "Evaluated 292 individuals\n",
      "\n",
      "Min = 34.0 , Max = 45.0\n",
      "Average = 42.35 , Standard deviation = 1.91\n",
      "\n",
      "- Generation 2\n",
      "Evaluated 277 individuals\n",
      "\n",
      "Min = 37.0 , Max = 45.0\n",
      "Average = 43.39 , Standard deviation = 1.46\n",
      "\n",
      "- Generation 3\n",
      "Evaluated 321 individuals\n",
      "\n",
      "Min = 39.0 , Max = 45.0\n",
      "Average = 43.79 , Standard deviation = 1.18\n",
      "\n",
      "- Generation 4\n",
      "Evaluated 303 individuals\n",
      "\n",
      "Min = 39.0 , Max = 45.0\n",
      "Average = 44.0 , Standard deviation = 1.19\n",
      "\n",
      "- Generation 5\n",
      "Evaluated 292 individuals\n",
      "\n",
      "Min = 40.0 , Max = 45.0\n",
      "Average = 44.07 , Standard deviation = 1.1\n",
      "\n",
      "- Generation 6\n",
      "Evaluated 283 individuals\n",
      "\n",
      "Min = 39.0 , Max = 45.0\n",
      "Average = 44.22 , Standard deviation = 1.11\n",
      "\n",
      "- Generation 7\n",
      "Evaluated 292 individuals\n",
      "\n",
      "Min = 40.0 , Max = 45.0\n",
      "Average = 44.15 , Standard deviation = 1.14\n",
      "\n",
      "- Generation 8\n",
      "Evaluated 296 individuals\n",
      "\n",
      "Min = 39.0 , Max = 45.0\n",
      "Average = 44.08 , Standard deviation = 1.27\n",
      "\n",
      "- Generation 9\n",
      "Evaluated 299 individuals\n",
      "\n",
      "Min = 40.0 , Max = 45.0\n",
      "Average = 44.12 , Standard deviation = 1.11\n",
      "\n",
      "- Evolution ends\n"
     ]
    }
   ],
   "source": [
    "num_bits = 45\n",
    "toolbox = create_toolbox(num_bits)\n",
    "\n",
    "random.seed(7)\n",
    "population = toolbox.population(n=500)\n",
    "\n",
    "CXPB, MUTPB, NGEN = 0.5, 0.2, 10\n",
    "min_list = []\n",
    "max_list = []\n",
    "avg_list = []\n",
    "\n",
    "print('\\nEvolution process starts')\n",
    "\n",
    "# initialize\n",
    "fitnesses = list(map(toolbox.evaluate, population))\n",
    "for ind, fit in zip(population, fitnesses):\n",
    "    ind.fitness.values = fit\n",
    "print('\\nEvaluated', len(population), 'individuals')\n",
    "\n",
    "# generations\n",
    "for g in range(NGEN):\n",
    "    print('\\n- Generation', g)\n",
    "    \n",
    "    # select the next generation individuals\n",
    "    offspring = toolbox.select(population, len(population))\n",
    "    \n",
    "    # clone the selected individuals\n",
    "    offspring = list(map(toolbox.clone, offspring))\n",
    "    \n",
    "    # crossover on the offspring\n",
    "    for child1, child2 in zip(offspring[::2], offspring[1::2]):  # offspring의 짝수번째(0, 2, ...)와 홀수번째(1, 3,...)\n",
    "        if random.random() < CXPB:\n",
    "            toolbox.mate(child1, child2)\n",
    "            del child1.fitness.values\n",
    "            del child2.fitness.values\n",
    "    \n",
    "    # mutation on the offspring\n",
    "    for mutant in offspring:\n",
    "        if random.random() < MUTPB:\n",
    "            toolbox.mutate(mutant)\n",
    "            del mutant.fitness.values\n",
    "            \n",
    "    # evaluate the individuals with an invalid fitness\n",
    "    invalid_ind = [ind for ind in offspring if not ind.fitness.valid]\n",
    "    fitnesses = map(toolbox.evaluate, invalid_ind)\n",
    "    for ind, fit in zip(invalid_ind, fitnesses):\n",
    "        ind.fitness.values = fit\n",
    "    print('Evaluated', len(invalid_ind), 'individuals')\n",
    "    \n",
    "    # replace population with next generation individual\n",
    "    population[:] = offspring\n",
    "    \n",
    "    \n",
    "    # print the statistics for the current generations\n",
    "    fits = [ind.fitness.values[0] for ind in population]\n",
    "    length = len(population)\n",
    "    mean = sum(fits) / length\n",
    "    sum2 = sum(x*x for x in fits)\n",
    "    std = abs(sum2 / length - mean**2)**0.5\n",
    "    print('\\nMin =', min(fits), ', Max =', max(fits))\n",
    "    print('Average =', round(mean, 2), ', Standard deviation =', round(std, 2))\n",
    "    \n",
    "    min_list.append(min(fits))\n",
    "    max_list.append(max(fits))\n",
    "    avg_list.append(mean)\n",
    "    \n",
    "print('\\n- Evolution ends')"
   ]
  },
  {
   "cell_type": "code",
   "execution_count": 23,
   "metadata": {},
   "outputs": [],
   "source": [
    "import matplotlib.pyplot as plt\n",
    "%matplotlib inline"
   ]
  },
  {
   "cell_type": "code",
   "execution_count": 24,
   "metadata": {},
   "outputs": [
    {
     "data": {
      "image/png": "[encoded data removed]",
      "text/plain": [
       "<Figure size 432x288 with 1 Axes>"
      ]
     },
     "metadata": {
      "needs_background": "light"
     },
     "output_type": "display_data"
    }
   ],
   "source": [
    "plt.plot(min_list)\n",
    "plt.show()"
   ]
  },
  {
   "cell_type": "code",
   "execution_count": 25,
   "metadata": {},
   "outputs": [
    {
     "data": {
      "image/png": "[encoded data removed]",
      "text/plain": [
       "<Figure size 432x288 with 1 Axes>"
      ]
     },
     "metadata": {
      "needs_background": "light"
     },
     "output_type": "display_data"
    }
   ],
   "source": [
    "plt.plot(max_list)\n",
    "plt.show()"
   ]
  },
  {
   "cell_type": "code",
   "execution_count": 26,
   "metadata": {},
   "outputs": [
    {
     "data": {
      "image/png": "[encoded data removed]",
      "text/plain": [
       "<Figure size 432x288 with 1 Axes>"
      ]
     },
     "metadata": {
      "needs_background": "light"
     },
     "output_type": "display_data"
    }
   ],
   "source": [
    "plt.plot(avg_list)\n",
    "plt.show()"
   ]
  },
  {
   "cell_type": "code",
   "execution_count": null,
   "metadata": {},
   "outputs": [],
   "source": []
  },
  {
   "cell_type": "code",
   "execution_count": null,
   "metadata": {},
   "outputs": [],
   "source": []
  },
  {
   "cell_type": "code",
   "execution_count": null,
   "metadata": {},
   "outputs": [],
   "source": []
  },
  {
   "cell_type": "code",
   "execution_count": null,
   "metadata": {},
   "outputs": [],
   "source": []
  }
 ],
 "metadata": {
  "kernelspec": {
   "display_name": "Python 3",
   "language": "python",
   "name": "python3"
  },
  "language_info": {
   "codemirror_mode": {
    "name": "ipython",
    "version": 3
   },
   "file_extension": ".py",
   "mimetype": "text/x-python",
   "name": "python",
   "nbconvert_exporter": "python",
   "pygments_lexer": "ipython3",
   "version": "3.5.2"
  }
 },
 "nbformat": 4,
 "nbformat_minor": 2
}
