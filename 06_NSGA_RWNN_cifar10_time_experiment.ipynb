{
 "cells": [
  {
   "cell_type": "markdown",
   "metadata": {},
   "source": [
    "# 06 => Cifar-10. 30 에폭 학습시켜보기. val_accuracy의 변화 추이 알아보기\n",
    "\n",
    "\n",
    "=> 이후에는 CIFAR-10, CIFAR-100, ImageNet dataset에 대해 validation accuracy 줄어들지 않을 때까지 몇 epoch 학습시켜야하며, 시간 얼마나 소요되는지 실험 진행해야함."
   ]
  },
  {
   "cell_type": "markdown",
   "metadata": {},
   "source": [
    "[Reference] https://pytorch.org/tutorials/intermediate/ddp_tutorial.html"
   ]
  },
  {
   "cell_type": "markdown",
   "metadata": {},
   "source": [
    "# Main"
   ]
  },
  {
   "cell_type": "code",
   "execution_count": 1,
   "metadata": {},
   "outputs": [],
   "source": [
    "import os\n",
    "import logging\n",
    "from easydict import EasyDict\n",
    "import numpy as np\n",
    "import random\n",
    "\n",
    "import time\n",
    "import datetime\n",
    "\n",
    "from deap import tools"
   ]
  },
  {
   "cell_type": "code",
   "execution_count": 2,
   "metadata": {},
   "outputs": [],
   "source": [
    "from utils_kyy.utils_graph import make_random_graph\n",
    "from utils_kyy.create_toolbox import create_toolbox_for_NSGA_RWNN"
   ]
  },
  {
   "cell_type": "markdown",
   "metadata": {},
   "source": [
    "## 1. generation pool 구성하기 (Small RWNN 대상)"
   ]
  },
  {
   "cell_type": "code",
   "execution_count": 3,
   "metadata": {},
   "outputs": [],
   "source": [
    "# 실험을 위한 환경 셋팅\n",
    "run_code = 'test_kyy_CIFAR10_time_check'\n",
    "stage_pool_path = './graph_pool' + '/' + run_code + '/'\n",
    "log_path = './logs/' + run_code + '/'\n",
    "\n",
    "# check & make the directory\n",
    "if not os.path.exists(stage_pool_path): os.makedirs(stage_pool_path)\n",
    "if not os.path.isdir(log_path): os.makedirs(log_path)\n",
    "\n",
    "# write the log\n",
    "log_file_name = log_path + 'logging.log'\n",
    "logging.basicConfig(filename=log_file_name, level=logging.INFO)\n",
    "logging.info('Start to write log.')"
   ]
  },
  {
   "cell_type": "code",
   "execution_count": 4,
   "metadata": {},
   "outputs": [
    {
     "name": "stdout",
     "output_type": "stream",
     "text": [
      "Start to make random graph pool...\n",
      "Finished\n"
     ]
    }
   ],
   "source": [
    "# make random graph pool\n",
    "num_graph = 100\n",
    "make_random_graph(num_graph, stage_pool_path)\n",
    "\n",
    "######################################################\n",
    "# => 최종적으로, num_graph와 stage_pool_path 를 인수로 받아서, 해당 path에 num_graph 수 만큼의 그래프 떨궈주는 함수 만들기\n",
    "#    일단은 정해진 graph_model은 'WS', K, P 는 인수로 받지 말고 구현\n",
    "#      =>  이후에 확장하기.\n",
    "######################################################"
   ]
  },
  {
   "cell_type": "markdown",
   "metadata": {},
   "source": [
    "## 2. Main NSGA_RWNN"
   ]
  },
  {
   "cell_type": "code",
   "execution_count": 5,
   "metadata": {},
   "outputs": [],
   "source": [
    "# define 'args_train' for evaluation\n",
    "args_train = EasyDict({\n",
    "    'lr_mode': 'cosine',\n",
    "    'warmup_mode': 'linear',    # default\n",
    "    'base_lr': 0.1,\n",
    "    'momentum': 0.9, \n",
    "    'weight_decay': 0.00005,\n",
    "    'print_freq': 100,\n",
    "\n",
    "    'epochs': 30,\n",
    "    'batch_size': 256,   # 128 => 256\n",
    "\n",
    "    'workers': 32,  # 2 => \n",
    "\n",
    "    'warmup_epochs': 0,\n",
    "    'warmup_lr': 0.0,\n",
    "    'targetlr': 0.0,\n",
    "\n",
    "})"
   ]
  },
  {
   "cell_type": "code",
   "execution_count": 6,
   "metadata": {},
   "outputs": [],
   "source": [
    "# create custom_toolbox\n",
    "# num_graph, args_train, stage_pool_path => to define the 'evaluate' function \n",
    "toolbox = create_toolbox_for_NSGA_RWNN(num_graph, args_train, stage_pool_path, log_file_name)"
   ]
  },
  {
   "cell_type": "code",
   "execution_count": 7,
   "metadata": {
    "scrolled": true
   },
   "outputs": [
    {
     "name": "stdout",
     "output_type": "stream",
     "text": [
      "Initialion starts ...\n",
      "\t - Epoch: [0][0/196]\tTime 15.846 (15.846)\tLoss 6.9489 (6.9489)\tPrec@1 0.000 (0.000)\tPrec@5 0.000 (0.000)\n",
      "\t - Epoch: [0][100/196]\tTime 0.763 (0.936)\tLoss 1.7401 (2.0449)\tPrec@1 38.672 (29.220)\tPrec@5 83.984 (79.649)\n",
      "Validation_time 18.390 Prec@1 40.810 Prec@5 89.870\n",
      "\t - Epoch: [1][0/196]\tTime 8.796 (8.796)\tLoss 1.4197 (1.4197)\tPrec@1 50.000 (50.000)\tPrec@5 92.188 (92.188)\n",
      "\t - Epoch: [1][100/196]\tTime 0.773 (0.869)\tLoss 1.4152 (1.4213)\tPrec@1 51.172 (48.298)\tPrec@5 92.188 (92.528)\n",
      "Validation_time 17.918 Prec@1 48.850 Prec@5 93.540\n",
      "\t - Epoch: [2][0/196]\tTime 7.113 (7.113)\tLoss 1.2195 (1.2195)\tPrec@1 56.250 (56.250)\tPrec@5 94.922 (94.922)\n",
      "\t - Epoch: [2][100/196]\tTime 0.783 (0.858)\tLoss 0.9407 (1.0767)\tPrec@1 64.453 (61.680)\tPrec@5 96.875 (96.001)\n",
      "Validation_time 17.680 Prec@1 66.390 Prec@5 97.150\n",
      "\t - Epoch: [3][0/196]\tTime 7.002 (7.002)\tLoss 0.7479 (0.7479)\tPrec@1 71.875 (71.875)\tPrec@5 97.656 (97.656)\n",
      "\t - Epoch: [3][100/196]\tTime 0.813 (0.850)\tLoss 0.8698 (0.8165)\tPrec@1 70.703 (71.059)\tPrec@5 97.266 (97.838)\n",
      "Validation_time 17.709 Prec@1 73.960 Prec@5 98.230\n",
      "\t - Epoch: [4][0/196]\tTime 7.157 (7.157)\tLoss 0.5961 (0.5961)\tPrec@1 76.562 (76.562)\tPrec@5 98.438 (98.438)\n",
      "\t - Epoch: [4][100/196]\tTime 0.810 (0.852)\tLoss 0.6645 (0.6433)\tPrec@1 78.516 (77.514)\tPrec@5 98.047 (98.755)\n",
      "Validation_time 17.964 Prec@1 64.230 Prec@5 98.060\n",
      "\t - Epoch: [5][0/196]\tTime 7.179 (7.179)\tLoss 0.6284 (0.6284)\tPrec@1 80.469 (80.469)\tPrec@5 99.219 (99.219)\n",
      "\t - Epoch: [5][100/196]\tTime 0.793 (0.853)\tLoss 0.5624 (0.5599)\tPrec@1 81.641 (80.689)\tPrec@5 98.438 (99.002)\n",
      "Validation_time 17.872 Prec@1 81.180 Prec@5 98.940\n",
      "\t - Epoch: [6][0/196]\tTime 7.196 (7.196)\tLoss 0.3278 (0.3278)\tPrec@1 85.547 (85.547)\tPrec@5 99.219 (99.219)\n",
      "\t - Epoch: [6][100/196]\tTime 0.805 (0.855)\tLoss 0.5649 (0.4541)\tPrec@1 80.859 (84.309)\tPrec@5 98.828 (99.335)\n",
      "Validation_time 17.978 Prec@1 78.220 Prec@5 98.860\n",
      "\t - Epoch: [7][0/196]\tTime 7.238 (7.238)\tLoss 0.4647 (0.4647)\tPrec@1 82.031 (82.031)\tPrec@5 100.000 (100.000)\n",
      "\t - Epoch: [7][100/196]\tTime 0.769 (0.855)\tLoss 0.4437 (0.4000)\tPrec@1 85.938 (86.200)\tPrec@5 100.000 (99.509)\n",
      "Validation_time 17.917 Prec@1 82.820 Prec@5 99.060\n",
      "\t - Epoch: [8][0/196]\tTime 6.794 (6.794)\tLoss 0.3555 (0.3555)\tPrec@1 88.281 (88.281)\tPrec@5 99.609 (99.609)\n",
      "\t - Epoch: [8][100/196]\tTime 0.748 (0.852)\tLoss 0.3667 (0.3528)\tPrec@1 87.109 (87.678)\tPrec@5 100.000 (99.671)\n",
      "Validation_time 17.877 Prec@1 82.310 Prec@5 99.200\n",
      "\t - Epoch: [9][0/196]\tTime 7.319 (7.319)\tLoss 0.2943 (0.2943)\tPrec@1 90.234 (90.234)\tPrec@5 100.000 (100.000)\n",
      "\t - Epoch: [9][100/196]\tTime 0.810 (0.854)\tLoss 0.2962 (0.3097)\tPrec@1 90.625 (89.240)\tPrec@5 99.609 (99.745)\n",
      "Validation_time 17.836 Prec@1 83.710 Prec@5 99.140\n",
      "\t - Epoch: [10][0/196]\tTime 7.186 (7.186)\tLoss 0.2927 (0.2927)\tPrec@1 90.625 (90.625)\tPrec@5 100.000 (100.000)\n",
      "\t - Epoch: [10][100/196]\tTime 0.813 (0.856)\tLoss 0.2647 (0.2638)\tPrec@1 90.625 (90.722)\tPrec@5 100.000 (99.834)\n",
      "Validation_time 17.907 Prec@1 85.650 Prec@5 99.420\n",
      "\t - Epoch: [11][0/196]\tTime 7.095 (7.095)\tLoss 0.2463 (0.2463)\tPrec@1 92.578 (92.578)\tPrec@5 99.609 (99.609)\n",
      "\t - Epoch: [11][100/196]\tTime 0.804 (0.855)\tLoss 0.3002 (0.2304)\tPrec@1 88.672 (91.913)\tPrec@5 100.000 (99.845)\n",
      "Validation_time 18.034 Prec@1 85.150 Prec@5 99.250\n",
      "\t - Epoch: [12][0/196]\tTime 7.425 (7.425)\tLoss 0.1527 (0.1527)\tPrec@1 94.531 (94.531)\tPrec@5 100.000 (100.000)\n",
      "\t - Epoch: [12][100/196]\tTime 0.777 (0.861)\tLoss 0.1969 (0.1880)\tPrec@1 94.141 (93.398)\tPrec@5 100.000 (99.911)\n",
      "Validation_time 17.807 Prec@1 85.410 Prec@5 99.430\n",
      "\t - Epoch: [13][0/196]\tTime 7.107 (7.107)\tLoss 0.1501 (0.1501)\tPrec@1 95.312 (95.312)\tPrec@5 99.609 (99.609)\n",
      "\t - Epoch: [13][100/196]\tTime 0.772 (0.853)\tLoss 0.1936 (0.1605)\tPrec@1 94.141 (94.326)\tPrec@5 100.000 (99.934)\n",
      "Validation_time 17.758 Prec@1 86.990 Prec@5 99.410\n",
      "\t - Epoch: [14][0/196]\tTime 7.181 (7.181)\tLoss 0.1377 (0.1377)\tPrec@1 94.922 (94.922)\tPrec@5 100.000 (100.000)\n",
      "\t - Epoch: [14][100/196]\tTime 0.800 (0.854)\tLoss 0.1222 (0.1332)\tPrec@1 94.922 (95.517)\tPrec@5 100.000 (99.961)\n",
      "Validation_time 17.885 Prec@1 87.420 Prec@5 99.450\n",
      "\t - Epoch: [15][0/196]\tTime 6.353 (6.353)\tLoss 0.0960 (0.0960)\tPrec@1 96.875 (96.875)\tPrec@5 100.000 (100.000)\n",
      "\t - Epoch: [15][100/196]\tTime 0.837 (0.849)\tLoss 0.0881 (0.1029)\tPrec@1 96.094 (96.527)\tPrec@5 100.000 (99.988)\n",
      "Validation_time 18.284 Prec@1 87.710 Prec@5 99.500\n",
      "\t - Epoch: [16][0/196]\tTime 7.049 (7.049)\tLoss 0.0667 (0.0667)\tPrec@1 98.047 (98.047)\tPrec@5 100.000 (100.000)\n",
      "\t - Epoch: [16][100/196]\tTime 0.844 (0.854)\tLoss 0.1204 (0.0742)\tPrec@1 95.703 (97.478)\tPrec@5 100.000 (99.992)\n",
      "Validation_time 18.016 Prec@1 88.010 Prec@5 99.640\n",
      "\t - Epoch: [17][0/196]\tTime 6.869 (6.869)\tLoss 0.0504 (0.0504)\tPrec@1 98.438 (98.438)\tPrec@5 100.000 (100.000)\n",
      "\t - Epoch: [17][100/196]\tTime 0.780 (0.853)\tLoss 0.0369 (0.0561)\tPrec@1 99.609 (98.229)\tPrec@5 100.000 (99.996)\n",
      "Validation_time 17.973 Prec@1 88.000 Prec@5 99.570\n",
      "\t - Epoch: [18][0/196]\tTime 6.977 (6.977)\tLoss 0.0418 (0.0418)\tPrec@1 99.219 (99.219)\tPrec@5 100.000 (100.000)\n",
      "\t - Epoch: [18][100/196]\tTime 0.796 (0.853)\tLoss 0.0686 (0.0412)\tPrec@1 96.875 (98.743)\tPrec@5 100.000 (99.996)\n",
      "Validation_time 17.734 Prec@1 89.010 Prec@5 99.670\n",
      "\t - Epoch: [19][0/196]\tTime 7.457 (7.457)\tLoss 0.0345 (0.0345)\tPrec@1 98.828 (98.828)\tPrec@5 100.000 (100.000)\n",
      "\t - Epoch: [19][100/196]\tTime 0.772 (0.855)\tLoss 0.0262 (0.0291)\tPrec@1 99.609 (99.110)\tPrec@5 100.000 (100.000)\n",
      "Validation_time 17.866 Prec@1 89.230 Prec@5 99.690\n",
      "\t - Epoch: [20][0/196]\tTime 7.175 (7.175)\tLoss 0.0289 (0.0289)\tPrec@1 98.438 (98.438)\tPrec@5 100.000 (100.000)\n",
      "\t - Epoch: [20][100/196]\tTime 0.756 (0.850)\tLoss 0.0148 (0.0188)\tPrec@1 100.000 (99.536)\tPrec@5 100.000 (100.000)\n",
      "Validation_time 17.700 Prec@1 89.500 Prec@5 99.670\n",
      "\t - Epoch: [21][0/196]\tTime 7.160 (7.160)\tLoss 0.0062 (0.0062)\tPrec@1 100.000 (100.000)\tPrec@5 100.000 (100.000)\n",
      "\t - Epoch: [21][100/196]\tTime 0.801 (0.859)\tLoss 0.0145 (0.0103)\tPrec@1 99.609 (99.803)\tPrec@5 100.000 (100.000)\n",
      "Validation_time 18.254 Prec@1 89.800 Prec@5 99.700\n",
      "\t - Epoch: [22][0/196]\tTime 6.976 (6.976)\tLoss 0.0071 (0.0071)\tPrec@1 100.000 (100.000)\tPrec@5 100.000 (100.000)\n",
      "\t - Epoch: [22][100/196]\tTime 0.799 (0.853)\tLoss 0.0134 (0.0075)\tPrec@1 99.609 (99.869)\tPrec@5 100.000 (100.000)\n",
      "Validation_time 17.788 Prec@1 89.710 Prec@5 99.730\n",
      "\t - Epoch: [23][0/196]\tTime 7.223 (7.223)\tLoss 0.0055 (0.0055)\tPrec@1 100.000 (100.000)\tPrec@5 100.000 (100.000)\n",
      "\t - Epoch: [23][100/196]\tTime 0.781 (0.857)\tLoss 0.0076 (0.0057)\tPrec@1 99.609 (99.930)\tPrec@5 100.000 (100.000)\n",
      "Validation_time 18.017 Prec@1 89.820 Prec@5 99.650\n",
      "\t - Epoch: [24][0/196]\tTime 7.213 (7.213)\tLoss 0.0034 (0.0034)\tPrec@1 100.000 (100.000)\tPrec@5 100.000 (100.000)\n",
      "\t - Epoch: [24][100/196]\tTime 0.773 (0.858)\tLoss 0.0032 (0.0051)\tPrec@1 100.000 (99.923)\tPrec@5 100.000 (100.000)\n",
      "Validation_time 17.729 Prec@1 89.640 Prec@5 99.720\n",
      "\t - Epoch: [25][0/196]\tTime 7.224 (7.224)\tLoss 0.0055 (0.0055)\tPrec@1 100.000 (100.000)\tPrec@5 100.000 (100.000)\n",
      "\t - Epoch: [25][100/196]\tTime 0.783 (0.855)\tLoss 0.0032 (0.0044)\tPrec@1 100.000 (99.942)\tPrec@5 100.000 (100.000)\n",
      "Validation_time 17.632 Prec@1 89.800 Prec@5 99.690\n",
      "\t - Epoch: [26][0/196]\tTime 7.202 (7.202)\tLoss 0.0041 (0.0041)\tPrec@1 100.000 (100.000)\tPrec@5 100.000 (100.000)\n",
      "\t - Epoch: [26][100/196]\tTime 0.801 (0.857)\tLoss 0.0027 (0.0039)\tPrec@1 100.000 (99.973)\tPrec@5 100.000 (100.000)\n",
      "Validation_time 18.101 Prec@1 89.790 Prec@5 99.720\n",
      "\t - Epoch: [27][0/196]\tTime 7.328 (7.328)\tLoss 0.0072 (0.0072)\tPrec@1 100.000 (100.000)\tPrec@5 100.000 (100.000)\n",
      "\t - Epoch: [27][100/196]\tTime 0.810 (0.857)\tLoss 0.0014 (0.0037)\tPrec@1 100.000 (99.973)\tPrec@5 100.000 (100.000)\n",
      "Validation_time 17.617 Prec@1 89.810 Prec@5 99.740\n",
      "\t - Epoch: [28][0/196]\tTime 7.086 (7.086)\tLoss 0.0064 (0.0064)\tPrec@1 100.000 (100.000)\tPrec@5 100.000 (100.000)\n",
      "\t - Epoch: [28][100/196]\tTime 0.813 (0.853)\tLoss 0.0043 (0.0037)\tPrec@1 100.000 (99.981)\tPrec@5 100.000 (100.000)\n",
      "Validation_time 18.421 Prec@1 89.740 Prec@5 99.750\n",
      "\t - Epoch: [29][0/196]\tTime 7.184 (7.184)\tLoss 0.0038 (0.0038)\tPrec@1 100.000 (100.000)\tPrec@5 100.000 (100.000)\n",
      "\t - Epoch: [29][100/196]\tTime 0.765 (0.852)\tLoss 0.0082 (0.0037)\tPrec@1 99.609 (99.977)\tPrec@5 100.000 (100.000)\n",
      "Validation_time 18.150 Prec@1 89.780 Prec@5 99.690\n"
     ]
    },
    {
     "name": "stdout",
     "output_type": "stream",
     "text": [
      "\t - Epoch: [0][0/196]\tTime 9.442 (9.442)\tLoss 6.8902 (6.8902)\tPrec@1 0.000 (0.000)\tPrec@5 0.000 (0.000)\n",
      "\t - Epoch: [0][100/196]\tTime 0.956 (1.058)\tLoss 1.6264 (2.0192)\tPrec@1 39.844 (29.533)\tPrec@5 87.891 (80.299)\n",
      "Validation_time 21.703 Prec@1 36.030 Prec@5 90.060\n",
      "\t - Epoch: [1][0/196]\tTime 7.751 (7.751)\tLoss 1.5032 (1.5032)\tPrec@1 42.578 (42.578)\tPrec@5 92.969 (92.969)\n",
      "\t - Epoch: [1][100/196]\tTime 1.018 (1.048)\tLoss 1.3085 (1.3914)\tPrec@1 51.172 (49.520)\tPrec@5 92.969 (92.837)\n",
      "Validation_time 21.038 Prec@1 46.960 Prec@5 91.620\n",
      "\t - Epoch: [2][0/196]\tTime 7.697 (7.697)\tLoss 1.0410 (1.0410)\tPrec@1 65.234 (65.234)\tPrec@5 95.312 (95.312)\n",
      "\t - Epoch: [2][100/196]\tTime 0.943 (1.043)\tLoss 1.0889 (1.0596)\tPrec@1 61.328 (62.616)\tPrec@5 96.484 (96.094)\n",
      "Validation_time 21.189 Prec@1 56.840 Prec@5 94.940\n",
      "\t - Epoch: [3][0/196]\tTime 7.628 (7.628)\tLoss 0.9223 (0.9223)\tPrec@1 67.578 (67.578)\tPrec@5 97.656 (97.656)\n",
      "\t - Epoch: [3][100/196]\tTime 0.990 (1.036)\tLoss 0.8415 (0.8125)\tPrec@1 69.531 (71.465)\tPrec@5 96.875 (97.958)\n",
      "Validation_time 21.533 Prec@1 71.510 Prec@5 98.290\n",
      "\t - Epoch: [4][0/196]\tTime 7.700 (7.700)\tLoss 0.6556 (0.6556)\tPrec@1 78.125 (78.125)\tPrec@5 99.609 (99.609)\n",
      "\t - Epoch: [4][100/196]\tTime 0.947 (1.034)\tLoss 0.5174 (0.6341)\tPrec@1 83.984 (77.947)\tPrec@5 98.828 (98.759)\n",
      "Validation_time 21.361 Prec@1 73.740 Prec@5 97.640\n",
      "\t - Epoch: [5][0/196]\tTime 7.656 (7.656)\tLoss 0.6504 (0.6504)\tPrec@1 78.906 (78.906)\tPrec@5 99.219 (99.219)\n",
      "\t - Epoch: [5][100/196]\tTime 1.011 (1.039)\tLoss 0.4736 (0.5357)\tPrec@1 83.984 (81.281)\tPrec@5 99.609 (99.087)\n",
      "Validation_time 21.640 Prec@1 77.080 Prec@5 98.540\n",
      "\t - Epoch: [6][0/196]\tTime 7.552 (7.552)\tLoss 0.5030 (0.5030)\tPrec@1 82.031 (82.031)\tPrec@5 98.828 (98.828)\n",
      "\t - Epoch: [6][100/196]\tTime 0.957 (1.038)\tLoss 0.4703 (0.4606)\tPrec@1 84.766 (84.139)\tPrec@5 99.609 (99.269)\n",
      "Validation_time 21.332 Prec@1 80.820 Prec@5 98.940\n",
      "\t - Epoch: [7][0/196]\tTime 7.642 (7.642)\tLoss 0.3176 (0.3176)\tPrec@1 88.281 (88.281)\tPrec@5 100.000 (100.000)\n",
      "\t - Epoch: [7][100/196]\tTime 1.006 (1.039)\tLoss 0.4003 (0.3927)\tPrec@1 85.938 (86.502)\tPrec@5 100.000 (99.520)\n",
      "Validation_time 21.270 Prec@1 80.720 Prec@5 98.890\n",
      "\t - Epoch: [8][0/196]\tTime 7.718 (7.718)\tLoss 0.3545 (0.3545)\tPrec@1 88.281 (88.281)\tPrec@5 99.219 (99.219)\n",
      "\t - Epoch: [8][100/196]\tTime 0.969 (1.041)\tLoss 0.3922 (0.3417)\tPrec@1 84.766 (88.165)\tPrec@5 100.000 (99.648)\n",
      "Validation_time 21.286 Prec@1 79.870 Prec@5 98.310\n",
      "\t - Epoch: [9][0/196]\tTime 7.788 (7.788)\tLoss 0.2682 (0.2682)\tPrec@1 91.016 (91.016)\tPrec@5 99.609 (99.609)\n",
      "\t - Epoch: [9][100/196]\tTime 0.966 (1.039)\tLoss 0.3179 (0.2934)\tPrec@1 88.672 (89.701)\tPrec@5 99.219 (99.764)\n",
      "Validation_time 21.188 Prec@1 83.680 Prec@5 99.130\n",
      "\t - Epoch: [10][0/196]\tTime 7.593 (7.593)\tLoss 0.3380 (0.3380)\tPrec@1 89.062 (89.062)\tPrec@5 100.000 (100.000)\n",
      "\t - Epoch: [10][100/196]\tTime 0.942 (1.038)\tLoss 0.2657 (0.2609)\tPrec@1 90.234 (90.969)\tPrec@5 100.000 (99.818)\n",
      "Validation_time 21.264 Prec@1 85.270 Prec@5 99.440\n",
      "\t - Epoch: [11][0/196]\tTime 7.725 (7.725)\tLoss 0.2157 (0.2157)\tPrec@1 94.531 (94.531)\tPrec@5 100.000 (100.000)\n",
      "\t - Epoch: [11][100/196]\tTime 0.973 (1.043)\tLoss 0.2451 (0.2226)\tPrec@1 91.016 (92.172)\tPrec@5 100.000 (99.876)\n",
      "Validation_time 21.002 Prec@1 85.590 Prec@5 99.290\n",
      "\t - Epoch: [12][0/196]\tTime 7.561 (7.561)\tLoss 0.2158 (0.2158)\tPrec@1 93.359 (93.359)\tPrec@5 99.609 (99.609)\n",
      "\t - Epoch: [12][100/196]\tTime 0.932 (1.042)\tLoss 0.1335 (0.1997)\tPrec@1 95.703 (93.123)\tPrec@5 100.000 (99.896)\n",
      "Validation_time 21.297 Prec@1 84.750 Prec@5 99.490\n",
      "\t - Epoch: [13][0/196]\tTime 7.754 (7.754)\tLoss 0.2011 (0.2011)\tPrec@1 92.188 (92.188)\tPrec@5 100.000 (100.000)\n",
      "\t - Epoch: [13][100/196]\tTime 0.997 (1.037)\tLoss 0.1279 (0.1577)\tPrec@1 94.531 (94.609)\tPrec@5 100.000 (99.915)\n",
      "Validation_time 21.846 Prec@1 86.170 Prec@5 99.550\n",
      "\t - Epoch: [14][0/196]\tTime 7.503 (7.503)\tLoss 0.0850 (0.0850)\tPrec@1 98.438 (98.438)\tPrec@5 100.000 (100.000)\n",
      "\t - Epoch: [14][100/196]\tTime 0.971 (1.041)\tLoss 0.1649 (0.1355)\tPrec@1 94.531 (95.312)\tPrec@5 100.000 (99.954)\n",
      "Validation_time 21.050 Prec@1 86.880 Prec@5 99.400\n",
      "\t - Epoch: [15][0/196]\tTime 7.689 (7.689)\tLoss 0.0961 (0.0961)\tPrec@1 96.094 (96.094)\tPrec@5 100.000 (100.000)\n",
      "\t - Epoch: [15][100/196]\tTime 0.985 (1.040)\tLoss 0.0806 (0.1120)\tPrec@1 97.266 (96.129)\tPrec@5 100.000 (99.973)\n",
      "Validation_time 22.167 Prec@1 88.280 Prec@5 99.610\n",
      "\t - Epoch: [16][0/196]\tTime 7.570 (7.570)\tLoss 0.1060 (0.1060)\tPrec@1 96.484 (96.484)\tPrec@5 100.000 (100.000)\n",
      "\t - Epoch: [16][100/196]\tTime 0.919 (1.040)\tLoss 0.0834 (0.0893)\tPrec@1 96.484 (96.918)\tPrec@5 100.000 (99.996)\n",
      "Validation_time 21.769 Prec@1 87.880 Prec@5 99.600\n",
      "\t - Epoch: [17][0/196]\tTime 7.628 (7.628)\tLoss 0.0322 (0.0322)\tPrec@1 99.609 (99.609)\tPrec@5 100.000 (100.000)\n",
      "\t - Epoch: [17][100/196]\tTime 0.985 (1.040)\tLoss 0.0368 (0.0607)\tPrec@1 99.219 (97.970)\tPrec@5 100.000 (99.992)\n",
      "Validation_time 20.857 Prec@1 88.640 Prec@5 99.520\n",
      "\t - Epoch: [18][0/196]\tTime 7.522 (7.522)\tLoss 0.0497 (0.0497)\tPrec@1 97.266 (97.266)\tPrec@5 100.000 (100.000)\n",
      "\t - Epoch: [18][100/196]\tTime 1.022 (1.039)\tLoss 0.0512 (0.0464)\tPrec@1 98.047 (98.468)\tPrec@5 100.000 (99.996)\n",
      "Validation_time 22.164 Prec@1 88.710 Prec@5 99.540\n",
      "\t - Epoch: [19][0/196]\tTime 7.680 (7.680)\tLoss 0.0378 (0.0378)\tPrec@1 98.828 (98.828)\tPrec@5 100.000 (100.000)\n",
      "\t - Epoch: [19][100/196]\tTime 1.006 (1.039)\tLoss 0.0206 (0.0345)\tPrec@1 99.219 (98.890)\tPrec@5 100.000 (99.996)\n",
      "Validation_time 21.905 Prec@1 89.070 Prec@5 99.520\n",
      "\t - Epoch: [20][0/196]\tTime 7.509 (7.509)\tLoss 0.0235 (0.0235)\tPrec@1 99.609 (99.609)\tPrec@5 100.000 (100.000)\n",
      "\t - Epoch: [20][100/196]\tTime 0.944 (1.041)\tLoss 0.0255 (0.0234)\tPrec@1 99.219 (99.304)\tPrec@5 100.000 (100.000)\n",
      "Validation_time 22.370 Prec@1 89.560 Prec@5 99.640\n",
      "\t - Epoch: [21][0/196]\tTime 7.425 (7.425)\tLoss 0.0143 (0.0143)\tPrec@1 99.609 (99.609)\tPrec@5 100.000 (100.000)\n",
      "\t - Epoch: [21][100/196]\tTime 0.979 (1.032)\tLoss 0.0194 (0.0148)\tPrec@1 99.219 (99.613)\tPrec@5 100.000 (100.000)\n",
      "Validation_time 21.113 Prec@1 89.710 Prec@5 99.610\n",
      "\t - Epoch: [22][0/196]\tTime 7.532 (7.532)\tLoss 0.0054 (0.0054)\tPrec@1 100.000 (100.000)\tPrec@5 100.000 (100.000)\n",
      "\t - Epoch: [22][100/196]\tTime 0.939 (1.039)\tLoss 0.0066 (0.0083)\tPrec@1 99.609 (99.841)\tPrec@5 100.000 (100.000)\n",
      "Validation_time 21.215 Prec@1 89.850 Prec@5 99.610\n",
      "\t - Epoch: [23][0/196]\tTime 7.760 (7.760)\tLoss 0.0035 (0.0035)\tPrec@1 100.000 (100.000)\tPrec@5 100.000 (100.000)\n",
      "\t - Epoch: [23][100/196]\tTime 1.014 (1.038)\tLoss 0.0036 (0.0067)\tPrec@1 100.000 (99.907)\tPrec@5 100.000 (100.000)\n",
      "Validation_time 21.224 Prec@1 89.790 Prec@5 99.610\n",
      "\t - Epoch: [24][0/196]\tTime 7.718 (7.718)\tLoss 0.0124 (0.0124)\tPrec@1 99.609 (99.609)\tPrec@5 100.000 (100.000)\n",
      "\t - Epoch: [24][100/196]\tTime 0.948 (1.034)\tLoss 0.0057 (0.0055)\tPrec@1 100.000 (99.923)\tPrec@5 100.000 (100.000)\n",
      "Validation_time 21.405 Prec@1 89.730 Prec@5 99.600\n",
      "\t - Epoch: [25][0/196]\tTime 7.568 (7.568)\tLoss 0.0044 (0.0044)\tPrec@1 100.000 (100.000)\tPrec@5 100.000 (100.000)\n",
      "\t - Epoch: [25][100/196]\tTime 0.988 (1.039)\tLoss 0.0044 (0.0044)\tPrec@1 100.000 (99.969)\tPrec@5 100.000 (100.000)\n",
      "Validation_time 21.403 Prec@1 89.820 Prec@5 99.640\n",
      "\t - Epoch: [26][0/196]\tTime 7.750 (7.750)\tLoss 0.0041 (0.0041)\tPrec@1 100.000 (100.000)\tPrec@5 100.000 (100.000)\n",
      "\t - Epoch: [26][100/196]\tTime 0.941 (1.044)\tLoss 0.0051 (0.0043)\tPrec@1 100.000 (99.954)\tPrec@5 100.000 (100.000)\n",
      "Validation_time 21.648 Prec@1 89.780 Prec@5 99.620\n",
      "\t - Epoch: [27][0/196]\tTime 7.684 (7.684)\tLoss 0.0045 (0.0045)\tPrec@1 100.000 (100.000)\tPrec@5 100.000 (100.000)\n",
      "\t - Epoch: [27][100/196]\tTime 0.996 (1.039)\tLoss 0.0034 (0.0040)\tPrec@1 100.000 (99.946)\tPrec@5 100.000 (100.000)\n",
      "Validation_time 20.980 Prec@1 89.830 Prec@5 99.590\n",
      "\t - Epoch: [28][0/196]\tTime 7.581 (7.581)\tLoss 0.0058 (0.0058)\tPrec@1 100.000 (100.000)\tPrec@5 100.000 (100.000)\n",
      "\t - Epoch: [28][100/196]\tTime 0.958 (1.037)\tLoss 0.0079 (0.0039)\tPrec@1 99.609 (99.961)\tPrec@5 100.000 (100.000)\n",
      "Validation_time 21.421 Prec@1 89.680 Prec@5 99.580\n",
      "\t - Epoch: [29][0/196]\tTime 7.629 (7.629)\tLoss 0.0028 (0.0028)\tPrec@1 100.000 (100.000)\tPrec@5 100.000 (100.000)\n",
      "\t - Epoch: [29][100/196]\tTime 0.999 (1.040)\tLoss 0.0066 (0.0038)\tPrec@1 100.000 (99.950)\tPrec@5 100.000 (100.000)\n",
      "Validation_time 21.099 Prec@1 89.900 Prec@5 99.590\n",
      "gen\tevals\tmin                              \tmax                              \tevals_time\tgen_time\n",
      "0  \t2    \t[-8.99000000e+01  1.95208154e+09]\t[-8.98200000e+01  2.16807219e+09]\t          \t        \n",
      "Initialization is finished at 2019-08-19 05:34:38\n",
      "\n",
      "##### 1 th generation starts at 2019-08-19 05:34:38\n"
     ]
    },
    {
     "ename": "ValueError",
     "evalue": "selTournamentDCD: individuals length must be a multiple of 4",
     "output_type": "error",
     "traceback": [
      "\u001b[0;31m---------------------------------------------------------------------------\u001b[0m",
      "\u001b[0;31mValueError\u001b[0m                                Traceback (most recent call last)",
      "\u001b[0;32m<ipython-input-7-373afeb8f86e>\u001b[0m in \u001b[0;36m<module>\u001b[0;34m\u001b[0m\n\u001b[1;32m     61\u001b[0m     \u001b[0mstart_gen\u001b[0m \u001b[0;34m=\u001b[0m \u001b[0mtime\u001b[0m\u001b[0;34m.\u001b[0m\u001b[0mtime\u001b[0m\u001b[0;34m(\u001b[0m\u001b[0;34m)\u001b[0m\u001b[0;34m\u001b[0m\u001b[0m\n\u001b[1;32m     62\u001b[0m     \u001b[0;31m# Vary the population\u001b[0m\u001b[0;34m\u001b[0m\u001b[0;34m\u001b[0m\u001b[0m\n\u001b[0;32m---> 63\u001b[0;31m     \u001b[0moffspring\u001b[0m \u001b[0;34m=\u001b[0m \u001b[0mtools\u001b[0m\u001b[0;34m.\u001b[0m\u001b[0mselTournamentDCD\u001b[0m\u001b[0;34m(\u001b[0m\u001b[0mpop\u001b[0m\u001b[0;34m,\u001b[0m \u001b[0mlen\u001b[0m\u001b[0;34m(\u001b[0m\u001b[0mpop\u001b[0m\u001b[0;34m)\u001b[0m\u001b[0;34m)\u001b[0m\u001b[0;34m\u001b[0m\u001b[0m\n\u001b[0m\u001b[1;32m     64\u001b[0m     \u001b[0moffspring\u001b[0m \u001b[0;34m=\u001b[0m \u001b[0;34m[\u001b[0m\u001b[0mtoolbox\u001b[0m\u001b[0;34m.\u001b[0m\u001b[0mclone\u001b[0m\u001b[0;34m(\u001b[0m\u001b[0mind\u001b[0m\u001b[0;34m)\u001b[0m \u001b[0;32mfor\u001b[0m \u001b[0mind\u001b[0m \u001b[0;32min\u001b[0m \u001b[0moffspring\u001b[0m\u001b[0;34m]\u001b[0m\u001b[0;34m\u001b[0m\u001b[0m\n\u001b[1;32m     65\u001b[0m \u001b[0;34m\u001b[0m\u001b[0m\n",
      "\u001b[0;32m/usr/local/lib/python3.5/dist-packages/deap/tools/emo.py\u001b[0m in \u001b[0;36mselTournamentDCD\u001b[0;34m(individuals, k)\u001b[0m\n\u001b[1;32m    161\u001b[0m \u001b[0;34m\u001b[0m\u001b[0m\n\u001b[1;32m    162\u001b[0m     \u001b[0;32mif\u001b[0m \u001b[0mlen\u001b[0m\u001b[0;34m(\u001b[0m\u001b[0mindividuals\u001b[0m\u001b[0;34m)\u001b[0m \u001b[0;34m%\u001b[0m \u001b[0;36m4\u001b[0m \u001b[0;34m!=\u001b[0m \u001b[0;36m0\u001b[0m\u001b[0;34m:\u001b[0m\u001b[0;34m\u001b[0m\u001b[0m\n\u001b[0;32m--> 163\u001b[0;31m         \u001b[0;32mraise\u001b[0m \u001b[0mValueError\u001b[0m\u001b[0;34m(\u001b[0m\u001b[0;34m\"selTournamentDCD: individuals length must be a multiple of 4\"\u001b[0m\u001b[0;34m)\u001b[0m\u001b[0;34m\u001b[0m\u001b[0m\n\u001b[0m\u001b[1;32m    164\u001b[0m \u001b[0;34m\u001b[0m\u001b[0m\n\u001b[1;32m    165\u001b[0m     \u001b[0;32mif\u001b[0m \u001b[0mk\u001b[0m \u001b[0;34m%\u001b[0m \u001b[0;36m4\u001b[0m \u001b[0;34m!=\u001b[0m \u001b[0;36m0\u001b[0m\u001b[0;34m:\u001b[0m\u001b[0;34m\u001b[0m\u001b[0m\n",
      "\u001b[0;31mValueError\u001b[0m: selTournamentDCD: individuals length must be a multiple of 4"
     ]
    }
   ],
   "source": [
    "\"\"\"\n",
    "4. Algorithms\n",
    " For the purpose of completeness we will develop the complete generational algorithm.\n",
    "\"\"\"\n",
    "\n",
    "POP_SIZE = 2    # population size\n",
    "NGEN = 4    # number of Generation\n",
    "CXPB = 0.5    # crossover probability \n",
    "MUTPB = 0.5    # mutation probability\n",
    "\n",
    "\n",
    "# log에 기록할 stats\n",
    "stats = tools.Statistics(lambda ind: ind.fitness.values)\n",
    "stats.register(\"min\", np.min, axis=0)\n",
    "stats.register(\"max\", np.max, axis=0)\n",
    "\n",
    "logbook = tools.Logbook()\n",
    "logbook.header = \"gen\", \"evals\", \"min\", \"max\", \"evals_time\", \"gen_time\"\n",
    "\n",
    "# population 생성.  (toolbox.population은 creator.Individual n개를 담은 list를 반환. (=> population)\n",
    "now = datetime.datetime.now()\n",
    "now_str = now.strftime('%Y-%m-%d %H:%M:%S')\n",
    "print(\"Initialion starts ...\")\n",
    "logging.info(\"Initialion starts at \" + now_str)\n",
    "init_start_time = time.time()\n",
    "\n",
    "pop = toolbox.population(n=POP_SIZE)\n",
    "\n",
    "# Evaluate the individuals with an invalid fitness\n",
    "invalid_ind = [ind for ind in pop if not ind.fitness.valid]\n",
    "fitnesses = toolbox.map(toolbox.evaluate, invalid_ind)    # .evaluate는 tuple을 반환. 따라서 fitnesses는 튜플을 원소로 가지는 list\n",
    "for ind, fit in zip(invalid_ind, fitnesses):\n",
    "    ind.fitness.values = fit   # ind.fitness.values = (val_accuracy, flops) 튜플\n",
    "\n",
    "# This is just to assign the crowding distance to the individuals\n",
    "# no actual selection is done\n",
    "pop = toolbox.select(pop, len(pop))\n",
    "\n",
    "record = stats.compile(pop)\n",
    "logbook.record(gen=0, evals=len(invalid_ind), **record)\n",
    "print(logbook.stream)\n",
    "\n",
    "now = datetime.datetime.now()\n",
    "now_str = now.strftime('%Y-%m-%d %H:%M:%S')\n",
    "print(\"Initialization is finished at\", now_str)\n",
    "logging.info(\"Initialion is finished at \" + now_str)\n",
    "\n",
    "init_time = time.time() - init_start_time\n",
    "logging.info(\"Initialion time = \" + str(init_time) + \"s\")\n",
    "\n",
    "\n",
    "print()\n",
    "\n",
    "# Begin the generational process\n",
    "for gen in range(1, NGEN):\n",
    "    now = datetime.datetime.now()\n",
    "    now_str = now.strftime('%Y-%m-%d %H:%M:%S')\n",
    "    print(\"#####\", gen, \"th generation starts at\", now_str)\n",
    "    logging.info(str(gen) + \"th generation starts at\" + now_str)\n",
    "    \n",
    "    start_gen = time.time()\n",
    "    # Vary the population\n",
    "    offspring = tools.selTournamentDCD(pop, len(pop))\n",
    "    offspring = [toolbox.clone(ind) for ind in offspring]\n",
    "\n",
    "    for ind1, ind2 in zip(offspring[::2], offspring[1::2]):\n",
    "        if random.random() <= CXPB:\n",
    "            toolbox.mate(ind1, ind2)\n",
    "\n",
    "        toolbox.mutate(ind1, indpb=MUTPB)\n",
    "        toolbox.mutate(ind2, indpb=MUTPB)\n",
    "        del ind1.fitness.values, ind2.fitness.values\n",
    "\n",
    "    # Evaluate the individuals with an invalid fitness\n",
    "    print(\"##### Evaluation starts\")\n",
    "    start_time = time.time()\n",
    "    \n",
    "    invalid_ind = [ind for ind in offspring if not ind.fitness.valid]\n",
    "    fitnesses = toolbox.map(toolbox.evaluate, invalid_ind)\n",
    "    for ind, fit in zip(invalid_ind, fitnesses):\n",
    "        ind.fitness.values = fit\n",
    "        \n",
    "    eval_time_for_one_generation = time.time() - start_time        \n",
    "    print(\"##### Evaluation ends (Time : %.3f)\" % eval_time_for_one_generation)\n",
    "    \n",
    "    # Select the next generation population\n",
    "    pop = toolbox.select(pop + offspring, POP_SIZE)\n",
    "    \n",
    "    gen_time = time.time() - start_gen\n",
    "    print('##### [gen_time: %.3fs]' % gen_time, gen, 'th generation is finished.')\n",
    "    \n",
    "    record = stats.compile(pop)\n",
    "    logbook.record(gen=gen, evals=len(invalid_ind), **record,\n",
    "                   evals_time=eval_time_for_one_generation, gen_time=gen_time)\n",
    "    \n",
    "    logging.info('Gen [%03d/%03d] -- evals: %03d, evals_time: %.4fs, gen_time: %.4fs' % (gen, NGEN, len(invalid_ind), eval_time_for_one_generation, gen_time))\n",
    "    print(logbook.stream)"
   ]
  },
  {
   "cell_type": "code",
   "execution_count": null,
   "metadata": {},
   "outputs": [],
   "source": [
    "# Check logbook\n",
    "logbook"
   ]
  },
  {
   "cell_type": "code",
   "execution_count": null,
   "metadata": {},
   "outputs": [],
   "source": []
  },
  {
   "cell_type": "code",
   "execution_count": null,
   "metadata": {},
   "outputs": [],
   "source": []
  },
  {
   "cell_type": "code",
   "execution_count": null,
   "metadata": {},
   "outputs": [],
   "source": []
  },
  {
   "cell_type": "markdown",
   "metadata": {},
   "source": [
    "### logbook - plot"
   ]
  },
  {
   "cell_type": "code",
   "execution_count": null,
   "metadata": {},
   "outputs": [],
   "source": [
    "type(logbook)"
   ]
  },
  {
   "cell_type": "code",
   "execution_count": null,
   "metadata": {},
   "outputs": [],
   "source": [
    "len(logbook)"
   ]
  },
  {
   "cell_type": "code",
   "execution_count": null,
   "metadata": {},
   "outputs": [],
   "source": [
    "logbook[0]"
   ]
  },
  {
   "cell_type": "code",
   "execution_count": null,
   "metadata": {},
   "outputs": [],
   "source": [
    "logbook[0]['min']"
   ]
  },
  {
   "cell_type": "code",
   "execution_count": null,
   "metadata": {},
   "outputs": [],
   "source": [
    "-logbook[0]['min'][0], logbook[0]['min'][1]"
   ]
  },
  {
   "cell_type": "code",
   "execution_count": null,
   "metadata": {},
   "outputs": [],
   "source": [
    "min_val_acc = []\n",
    "min_flops = []\n",
    "\n",
    "max_val_acc = []\n",
    "max_flops = []\n",
    "\n",
    "for i in range(len(logbook)):\n",
    "    min_val_acc_i, min_flops_i = -logbook[i]['min'][0], logbook[i]['min'][1]\n",
    "    max_val_acc_i, max_flops_i = -logbook[i]['max'][0], logbook[i]['max'][1]\n",
    "    \n",
    "    min_val_acc.append(min_val_acc_i)\n",
    "    min_flops.append(min_flops_i)\n",
    "    max_val_acc.append(max_val_acc_i)\n",
    "    max_flops.append(max_flops_i)    "
   ]
  },
  {
   "cell_type": "code",
   "execution_count": null,
   "metadata": {},
   "outputs": [],
   "source": [
    "from matplotlib import pyplot as plt\n",
    "%matplotlib inline"
   ]
  },
  {
   "cell_type": "code",
   "execution_count": null,
   "metadata": {},
   "outputs": [],
   "source": [
    "# NSGA-2가 제대로 동작함을 알 수 있음.\n",
    "plt.plot(min_val_acc, min_flops)\n",
    "\n",
    "plt.xlabel('min_val_acc')\n",
    "plt.ylabel('min_flops')\n",
    "plt.title('Experiment Result')\n",
    "\n",
    "plt.show()"
   ]
  },
  {
   "cell_type": "code",
   "execution_count": null,
   "metadata": {},
   "outputs": [],
   "source": [
    "# gen time 확인\n",
    "gen_time_list = []\n",
    "\n",
    "for i in range(1, len(logbook)):\n",
    "    # 첫번째 initialize 에는 gen_time이 없음\n",
    "    gen_time_i = logbook[i]['gen_time']\n",
    "    gen_time_list.append(gen_time_i)"
   ]
  },
  {
   "cell_type": "code",
   "execution_count": null,
   "metadata": {},
   "outputs": [],
   "source": [
    "plt.plot(gen_time_list)\n",
    "\n",
    "plt.xlabel('generation')\n",
    "plt.ylabel('gen_time_list')\n",
    "plt.title('Experiment Result')\n",
    "\n",
    "plt.show()"
   ]
  },
  {
   "cell_type": "code",
   "execution_count": null,
   "metadata": {},
   "outputs": [],
   "source": []
  }
 ],
 "metadata": {
  "kernelspec": {
   "display_name": "Python 3",
   "language": "python",
   "name": "python3"
  },
  "language_info": {
   "codemirror_mode": {
    "name": "ipython",
    "version": 3
   },
   "file_extension": ".py",
   "mimetype": "text/x-python",
   "name": "python",
   "nbconvert_exporter": "python",
   "pygments_lexer": "ipython3",
   "version": "3.5.2"
  }
 },
 "nbformat": 4,
 "nbformat_minor": 2
}
