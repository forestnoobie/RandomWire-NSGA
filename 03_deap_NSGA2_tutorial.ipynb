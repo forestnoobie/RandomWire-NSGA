{
 "cells": [
  {
   "cell_type": "markdown",
   "metadata": {},
   "source": [
    "## NSGA-2 tutorial "
   ]
  },
  {
   "cell_type": "markdown",
   "metadata": {},
   "source": [
    "[Reference] https://github.com/DEAP/deap/blob/master/examples/ga/nsga2.py"
   ]
  },
  {
   "cell_type": "code",
   "execution_count": 1,
   "metadata": {},
   "outputs": [],
   "source": [
    "import array\n",
    "import random\n",
    "import json\n",
    "\n",
    "import numpy\n",
    "\n",
    "from math import sqrt\n",
    "\n",
    "from deap import algorithms\n",
    "from deap import base\n",
    "from deap import benchmarks\n",
    "from deap.benchmarks.tools import diversity, convergence, hypervolume\n",
    "from deap import creator\n",
    "from deap import tools"
   ]
  },
  {
   "cell_type": "code",
   "execution_count": 2,
   "metadata": {},
   "outputs": [],
   "source": [
    "# creator.create는 나의 problem에 활용학 위한 새로운 class 를 정의해줌/\n",
    "# Creates a new class named name inheriting from base in the creator module.\n",
    "creator.create(\"FitnessMin\", base.Fitness, weights=(-1.0, -1.0))\n",
    "creator.create(\"Individual\", array.array, typecode='d', fitness=creator.FitnessMin) # typecode='d' => float"
   ]
  },
  {
   "cell_type": "code",
   "execution_count": 3,
   "metadata": {},
   "outputs": [],
   "source": [
    "toolbox = base.Toolbox()\n",
    "\n",
    "# Problem definition\n",
    "# Functions zdt1, zdt2, zdt3, zdt6 have bounds [0, 1]\n",
    "BOUND_LOW, BOUND_UP = 0.0, 1.0\n",
    "\n",
    "# Functions zdt4 has bounds x1 = [0, 1], xn = [-5, 5], with n = 2, ..., 10\n",
    "# BOUND_LOW, BOUND_UP = [0.0] + [-5.0]*9, [1.0] + [5.0]*9\n",
    "\n",
    "# Functions zdt1, zdt2, zdt3 have 30 dimensions, zdt4 and zdt6 have 10\n",
    "NDIM = 30\n",
    "\n",
    "def uniform(low, up, size=None):\n",
    "    try:\n",
    "        return [random.uniform(a, b) for a, b in zip(low ,up)]\n",
    "    except TypeError:\n",
    "        return [random.uniform(a, b) for a, b in zip([low] * size, [up] * size)]"
   ]
  },
  {
   "cell_type": "code",
   "execution_count": 4,
   "metadata": {},
   "outputs": [],
   "source": [
    "toolbox.register(\"attr_float\", uniform, BOUND_LOW, BOUND_UP, NDIM)\n",
    "toolbox.register(\"individual\", tools.initIterate, creator.Individual, toolbox.attr_float)\n",
    "toolbox.register(\"population\", tools.initRepeat, list, toolbox.individual)\n",
    "\n",
    "toolbox.register(\"evaluate\", benchmarks.zdt1)\n",
    "toolbox.register(\"mate\", tools.cxSimulatedBinaryBounded, low=BOUND_LOW, up=BOUND_UP, eta=20.0)\n",
    "toolbox.register(\"mutate\", tools.mutPolynomialBounded, low=BOUND_LOW, up=BOUND_UP, eta=20.0, indpb=1.0/NDIM)\n",
    "toolbox.register(\"select\", tools.selNSGA2)"
   ]
  },
  {
   "cell_type": "code",
   "execution_count": 5,
   "metadata": {},
   "outputs": [],
   "source": [
    "NGEN = 10\n",
    "MU = 100\n",
    "CXPB = 0.9\n",
    "\n",
    "stats = tools.Statistics(lambda ind: ind.fitness.values)\n",
    "stats.register(\"min\", numpy.min, axis=0)\n",
    "stats.register(\"max\", numpy.max, axis=0)\n",
    "\n",
    "logbook = tools.Logbook()\n",
    "logbook.header = \"gen\", \"evals\", \"std\", \"min\", \"avg\", \"max\""
   ]
  },
  {
   "cell_type": "code",
   "execution_count": 6,
   "metadata": {},
   "outputs": [
    {
     "name": "stdout",
     "output_type": "stream",
     "text": [
      "(0.9707127995696945, 3.33852520293121)\n"
     ]
    }
   ],
   "source": [
    "# test evaluate function\n",
    "temp_pop = toolbox.population(n=MU)\n",
    "\n",
    "# Evaluate the individuals with an invalid fitness\n",
    "invalid_ind = [ind for ind in temp_pop if not ind.fitness.valid]\n",
    "fitnesses = toolbox.map(toolbox.evaluate, invalid_ind)\n",
    "for ind, fit in zip(invalid_ind, fitnesses):\n",
    "    ind.fitness.values = fit\n",
    "\n",
    "print(temp_pop[0].fitness.values)   # tuple로 나옴"
   ]
  },
  {
   "cell_type": "code",
   "execution_count": 7,
   "metadata": {},
   "outputs": [
    {
     "data": {
      "text/plain": [
       "<map at 0x2368b0e7588>"
      ]
     },
     "execution_count": 7,
     "metadata": {},
     "output_type": "execute_result"
    }
   ],
   "source": []
  },
  {
   "cell_type": "code",
   "execution_count": 13,
   "metadata": {
    "scrolled": true
   },
   "outputs": [
    {
     "name": "stdout",
     "output_type": "stream",
     "text": [
      "gen\tevals\tstd\tmin                    \tavg\tmax                    \n",
      "0  \t100  \t   \t[0.0179958  2.85784202]\t   \t[0.99742835 5.49229231]\n",
      "1\n",
      "1  \t70   \t   \t[0.01265331 2.29968841]\t   \t[0.99742835 6.1155061 ]\n",
      "2\n",
      "2  \t88   \t   \t[0.03231548 2.75753113]\t   \t[0.97335026 5.33379696]\n",
      "3\n",
      "3  \t96   \t   \t[0.02833166 2.6557321 ]\t   \t[0.97425288 4.94926443]\n",
      "4\n",
      "4  \t98   \t   \t[0.06621399 2.61909052]\t   \t[0.96217521 4.10519841]\n",
      "5\n",
      "5  \t100  \t   \t[0.04431125 2.5115665 ]\t   \t[0.98057048 4.39050907]\n",
      "6\n",
      "6  \t99   \t   \t[0.01096197 2.43469644]\t   \t[0.99975126 4.74298999]\n",
      "7\n",
      "7  \t100  \t   \t[0.00403217 2.59386912]\t   \t[0.99975126 4.90165977]\n",
      "8\n",
      "8  \t100  \t   \t[0.14897283 2.52347448]\t   \t[0.95963882 4.03501141]\n",
      "9\n",
      "9  \t100  \t   \t[0.18322284 2.58789129]\t   \t[0.91564551 4.06423997]\n",
      "Final population hypervolume is 89.910594\n"
     ]
    }
   ],
   "source": [
    "pop = toolbox.population(n=MU)\n",
    "\n",
    "# Evaluate the individuals with an invalid fitness\n",
    "invalid_ind = [ind for ind in pop if not ind.fitness.valid]\n",
    "fitnesses = toolbox.map(toolbox.evaluate, invalid_ind)\n",
    "for ind, fit in zip(invalid_ind, fitnesses):\n",
    "    ind.fitness.values = fit\n",
    "\n",
    "# This is just to assign the crowding distance to the individuals\n",
    "# no actual selection is done\n",
    "pop = toolbox.select(pop, len(pop))\n",
    "\n",
    "record = stats.compile(pop)  # {'min': array([0.01830773, 2.3857476 ]), 'max': array([0.99300382, 5.40637677])}\n",
    "logbook.record(gen=0, evals=len(invalid_ind), **record)\n",
    "print(logbook.stream)\n",
    "\n",
    "# Begin the generational process\n",
    "for gen in range(1, NGEN):\n",
    "    print(gen)\n",
    "    \n",
    "    # Vary the population\n",
    "    # Tournament selection based on dominance (D) between two individuals,\n",
    "    # if the two individuals do not interdominate the selection is made based on crowding distance (CD).    \n",
    "    offspring = tools.selTournamentDCD(pop, len(pop))\n",
    "    sffspring = [toolbox.clone(ind) for ind in offspring]\n",
    "    \n",
    "    # crossover & mutation\n",
    "    for ind1, ind2 in zip(offspring[::2], offspring[1::2]):\n",
    "        if random.random() <= CXPB:\n",
    "            toolbox.mate(ind1, ind2)\n",
    "            \n",
    "        toolbox.mutate(ind1)\n",
    "        toolbox.mutate(ind2)\n",
    "        del ind1.fitness.values, ind2.fitness.values\n",
    "        \n",
    "    # Evaluate the individuals with an invaid fitness\n",
    "    invalid_ind = [ind for ind in offspring if not ind.fitness.valid]\n",
    "    fitnesses = toolbox.map(toolbox.evaluate, invalid_ind)\n",
    "    for ind, fit in zip(invalid_ind, fitnesses):\n",
    "        ind.fitness.values = fit\n",
    "        \n",
    "    # Select the next generation population\n",
    "    pop = toolbox.select(pop + offspring, MU)\n",
    "    record = stats.compile(pop)\n",
    "    logbook.record(gen=gen, evals=len(invalid_ind), **record)\n",
    "    print(logbook.stream)\n",
    "    \n",
    "print(\"Final population hypervolume is %f\" % hypervolume(pop, [11.0, 11.0]))"
   ]
  },
  {
   "cell_type": "code",
   "execution_count": 14,
   "metadata": {},
   "outputs": [
    {
     "name": "stdout",
     "output_type": "stream",
     "text": [
      "100\n"
     ]
    },
    {
     "data": {
      "image/png": "[encoded data removed]",
      "text/plain": [
       "<Figure size 432x288 with 1 Axes>"
      ]
     },
     "metadata": {
      "needs_background": "light"
     },
     "output_type": "display_data"
    }
   ],
   "source": [
    "pop.sort(key=lambda x: x.fitness.values)\n",
    "\n",
    "import matplotlib.pyplot as plt\n",
    "%matplotlib inline\n",
    "import numpy\n",
    "\n",
    "front = numpy.array([ind.fitness.values for ind in pop])\n",
    "print(len(front))\n",
    "# optimal_front = numpy.array(optimal_front)\n",
    "# plt.scatter(optimal_front[:,0], optimal_front[:,1], c=\"r\")\n",
    "plt.scatter(front[:,0], front[:,1], c=\"b\")\n",
    "plt.axis(\"tight\")\n",
    "plt.show()"
   ]
  },
  {
   "cell_type": "code",
   "execution_count": null,
   "metadata": {},
   "outputs": [],
   "source": []
  },
  {
   "cell_type": "code",
   "execution_count": null,
   "metadata": {},
   "outputs": [],
   "source": []
  }
 ],
 "metadata": {
  "kernelspec": {
   "display_name": "'newrw'",
   "language": "python",
   "name": "newrw"
  },
  "language_info": {
   "codemirror_mode": {
    "name": "ipython",
    "version": 3
   },
   "file_extension": ".py",
   "mimetype": "text/x-python",
   "name": "python",
   "nbconvert_exporter": "python",
   "pygments_lexer": "ipython3",
   "version": "3.6.7"
  },
  "toc": {
   "base_numbering": 1,
   "nav_menu": {},
   "number_sections": true,
   "sideBar": true,
   "skip_h1_title": false,
   "title_cell": "Table of Contents",
   "title_sidebar": "Contents",
   "toc_cell": false,
   "toc_position": {},
   "toc_section_display": true,
   "toc_window_display": false
  }
 },
 "nbformat": 4,
 "nbformat_minor": 2
}
