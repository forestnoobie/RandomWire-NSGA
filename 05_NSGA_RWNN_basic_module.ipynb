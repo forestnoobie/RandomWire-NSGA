{
 "cells": [
  {
   "cell_type": "markdown",
   "metadata": {},
   "source": [
    "# 04_ NSGA_RWNN 모듈화  => 이후 multi-gpu 최적화 진행해야함\n",
    "\n",
    "\n",
    "- 기존 nn.DataParallel(RWNN) 만 하니까, GPU 사용률이 30~70퍼 정도를 왔다갔다함."
   ]
  },
  {
   "cell_type": "markdown",
   "metadata": {},
   "source": [
    "[Reference] https://pytorch.org/tutorials/intermediate/ddp_tutorial.html"
   ]
  },
  {
   "cell_type": "markdown",
   "metadata": {},
   "source": [
    "# Main"
   ]
  },
  {
   "cell_type": "code",
   "execution_count": 1,
   "metadata": {},
   "outputs": [],
   "source": [
    "import os\n",
    "import logging\n",
    "from easydict import EasyDict\n",
    "import numpy as np\n",
    "import random\n",
    "\n",
    "import time\n",
    "import datetime\n",
    "\n",
    "from deap import tools"
   ]
  },
  {
   "cell_type": "code",
   "execution_count": 2,
   "metadata": {},
   "outputs": [],
   "source": [
    "from utils_kyy.utils_graph import make_random_graph\n",
    "from utils_kyy.create_toolbox import create_toolbox_for_NSGA_RWNN"
   ]
  },
  {
   "cell_type": "markdown",
   "metadata": {},
   "source": [
    "## 1. generation pool 구성하기 (Small RWNN 대상)"
   ]
  },
  {
   "cell_type": "code",
   "execution_count": 3,
   "metadata": {},
   "outputs": [],
   "source": [
    "# 실험을 위한 환경 셋팅\n",
    "run_code = 'test_kyy_module'\n",
    "stage_pool_path = './graph_pool' + '/' + run_code + '/'\n",
    "log_path = './logs/' + run_code + '/'\n",
    "\n",
    "# check & make the directory\n",
    "if not os.path.exists(stage_pool_path): os.makedirs(stage_pool_path)\n",
    "if not os.path.isdir(log_path): os.makedirs(log_path)\n",
    "    \n",
    "# write the log\n",
    "logging.basicConfig(filename=log_path + 'logging.log', level=logging.INFO)\n",
    "logging.info('Start to write log.')"
   ]
  },
  {
   "cell_type": "code",
   "execution_count": 4,
   "metadata": {},
   "outputs": [
    {
     "name": "stdout",
     "output_type": "stream",
     "text": [
      "Start to make random graph pool...\n",
      "Finished\n"
     ]
    }
   ],
   "source": [
    "# make random graph pool\n",
    "num_graph = 100\n",
    "make_random_graph(num_graph, stage_pool_path)\n",
    "\n",
    "######################################################\n",
    "# => 최종적으로, num_graph와 stage_pool_path 를 인수로 받아서, 해당 path에 num_graph 수 만큼의 그래프 떨궈주는 함수 만들기\n",
    "#    일단은 정해진 graph_model은 'WS', K, P 는 인수로 받지 말고 구현\n",
    "#      =>  이후에 확장하기.\n",
    "######################################################"
   ]
  },
  {
   "cell_type": "markdown",
   "metadata": {},
   "source": [
    "## 2. Main NSGA_RWNN"
   ]
  },
  {
   "cell_type": "code",
   "execution_count": 5,
   "metadata": {},
   "outputs": [],
   "source": [
    "# define 'args_train' for evaluation\n",
    "args_train = EasyDict({\n",
    "    'lr_mode': 'cosine',\n",
    "    'warmup_mode': 'linear',    # default\n",
    "    'base_lr': 0.1,\n",
    "    'momentum': 0.9, \n",
    "    'weight_decay': 0.00005,\n",
    "    'print_freq': 100,\n",
    "\n",
    "    'epochs': 2,\n",
    "    'batch_size': 256,   # 128 => 256\n",
    "\n",
    "    'workers': 32,  # 2 => \n",
    "\n",
    "    'warmup_epochs': 0,\n",
    "    'warmup_lr': 0.0,\n",
    "    'targetlr': 0.0,\n",
    "\n",
    "})"
   ]
  },
  {
   "cell_type": "code",
   "execution_count": 6,
   "metadata": {},
   "outputs": [],
   "source": [
    "# create custom_toolbox\n",
    "# num_graph, args_train, stage_pool_path => to define the 'evaluate' function \n",
    "toolbox = create_toolbox_for_NSGA_RWNN(num_graph, args_train, stage_pool_path)"
   ]
  },
  {
   "cell_type": "code",
   "execution_count": null,
   "metadata": {
    "scrolled": true
   },
   "outputs": [
    {
     "name": "stdout",
     "output_type": "stream",
     "text": [
      "Initialion starts ...\n",
      "\t - Epoch: [0][0/196]\tTime 14.699 (14.699)\tLoss 7.0175 (7.0175)\tPrec@1 0.000 (0.000)\tPrec@5 0.000 (0.000)\n",
      "\t - Epoch: [0][100/196]\tTime 0.559 (0.725)\tLoss 1.6201 (1.9692)\tPrec@1 41.406 (30.871)\tPrec@5 90.234 (81.946)\n",
      "Validation_time 14.767 Prec@1 43.760 Prec@5 91.240\n",
      "\t - Epoch: [1][0/196]\tTime 7.812 (7.812)\tLoss 1.4326 (1.4326)\tPrec@1 47.266 (47.266)\tPrec@5 93.750 (93.750)\n",
      "\t - Epoch: [1][100/196]\tTime 0.614 (0.662)\tLoss 1.1036 (1.2394)\tPrec@1 60.938 (55.190)\tPrec@5 94.922 (94.833)\n",
      "Validation_time 14.345 Prec@1 61.010 Prec@5 96.350\n",
      "\t - Epoch: [0][0/196]\tTime 8.393 (8.393)\tLoss 6.8680 (6.8680)\tPrec@1 0.000 (0.000)\tPrec@5 0.000 (0.000)\n",
      "\t - Epoch: [0][100/196]\tTime 0.635 (0.714)\tLoss 1.7573 (2.0802)\tPrec@1 33.203 (27.750)\tPrec@5 86.328 (78.899)\n",
      "Validation_time 15.128 Prec@1 44.220 Prec@5 91.900\n",
      "\t - Epoch: [1][0/196]\tTime 6.939 (6.939)\tLoss 1.5746 (1.5746)\tPrec@1 41.797 (41.797)\tPrec@5 89.844 (89.844)\n",
      "\t - Epoch: [1][100/196]\tTime 0.618 (0.701)\tLoss 1.2626 (1.3715)\tPrec@1 51.172 (49.462)\tPrec@5 95.312 (93.367)\n",
      "Validation_time 16.153 Prec@1 56.960 Prec@5 95.440\n",
      "\t - Epoch: [0][0/196]\tTime 7.011 (7.011)\tLoss 6.9693 (6.9693)\tPrec@1 0.000 (0.000)\tPrec@5 0.000 (0.000)\n",
      "\t - Epoch: [0][100/196]\tTime 0.713 (0.795)\tLoss 1.6580 (2.0260)\tPrec@1 39.453 (29.042)\tPrec@5 91.406 (80.210)\n",
      "Validation_time 16.544 Prec@1 46.870 Prec@5 92.120\n",
      "\t - Epoch: [1][0/196]\tTime 6.830 (6.830)\tLoss 1.4441 (1.4441)\tPrec@1 48.828 (48.828)\tPrec@5 89.844 (89.844)\n",
      "\t - Epoch: [1][100/196]\tTime 0.690 (0.793)\tLoss 1.2202 (1.3004)\tPrec@1 57.422 (52.541)\tPrec@5 94.531 (93.978)\n",
      "Validation_time 16.613 Prec@1 59.470 Prec@5 95.740\n",
      "\t - Epoch: [0][0/196]\tTime 7.175 (7.175)\tLoss 6.8922 (6.8922)\tPrec@1 0.000 (0.000)\tPrec@5 0.000 (0.000)\n",
      "\t - Epoch: [0][100/196]\tTime 0.845 (0.942)\tLoss 1.8210 (2.0538)\tPrec@1 30.469 (28.218)\tPrec@5 88.281 (80.229)\n",
      "Validation_time 18.767 Prec@1 41.410 Prec@5 91.830\n",
      "\t - Epoch: [1][0/196]\tTime 6.728 (6.728)\tLoss 1.4952 (1.4952)\tPrec@1 41.797 (41.797)\tPrec@5 90.234 (90.234)\n",
      "\t - Epoch: [1][100/196]\tTime 0.902 (0.944)\tLoss 1.2399 (1.3314)\tPrec@1 53.125 (51.296)\tPrec@5 94.922 (93.715)\n",
      "Validation_time 18.816 Prec@1 59.220 Prec@5 95.920\n",
      "\t - Epoch: [0][0/196]\tTime 6.896 (6.896)\tLoss 6.9913 (6.9913)\tPrec@1 0.000 (0.000)\tPrec@5 0.000 (0.000)\n",
      "\t - Epoch: [0][100/196]\tTime 0.886 (0.943)\tLoss 1.6518 (2.0369)\tPrec@1 36.719 (29.061)\tPrec@5 89.453 (80.252)\n",
      "Validation_time 18.756 Prec@1 44.510 Prec@5 92.250\n",
      "\t - Epoch: [1][0/196]\tTime 7.041 (7.041)\tLoss 1.4288 (1.4288)\tPrec@1 50.781 (50.781)\tPrec@5 93.359 (93.359)\n",
      "\t - Epoch: [1][100/196]\tTime 0.922 (0.944)\tLoss 1.1385 (1.2668)\tPrec@1 60.938 (54.100)\tPrec@5 92.969 (94.435)\n",
      "Validation_time 18.734 Prec@1 61.970 Prec@5 96.160\n",
      "\t - Epoch: [0][0/196]\tTime 6.793 (6.793)\tLoss 6.8678 (6.8678)\tPrec@1 0.000 (0.000)\tPrec@5 0.000 (0.000)\n",
      "\t - Epoch: [0][100/196]\tTime 0.573 (0.610)\tLoss 1.6357 (2.0246)\tPrec@1 41.016 (29.916)\tPrec@5 91.016 (80.689)\n",
      "Validation_time 14.347 Prec@1 47.110 Prec@5 92.650\n",
      "\t - Epoch: [1][0/196]\tTime 6.761 (6.761)\tLoss 1.4251 (1.4251)\tPrec@1 50.000 (50.000)\tPrec@5 94.141 (94.141)\n",
      "\t - Epoch: [1][100/196]\tTime 0.542 (0.613)\tLoss 1.2196 (1.3233)\tPrec@1 55.859 (51.845)\tPrec@5 95.312 (94.025)\n",
      "Validation_time 14.795 Prec@1 58.750 Prec@5 95.840\n",
      "\t - Epoch: [0][0/196]\tTime 7.292 (7.292)\tLoss 7.0092 (7.0092)\tPrec@1 0.000 (0.000)\tPrec@5 0.000 (0.000)\n",
      "\t - Epoch: [0][100/196]\tTime 0.865 (0.948)\tLoss 1.5537 (1.9720)\tPrec@1 41.406 (31.026)\tPrec@5 90.625 (81.583)\n",
      "Validation_time 18.929 Prec@1 46.440 Prec@5 92.450\n",
      "\t - Epoch: [1][0/196]\tTime 7.262 (7.262)\tLoss 1.4855 (1.4855)\tPrec@1 44.531 (44.531)\tPrec@5 91.797 (91.797)\n",
      "\t - Epoch: [1][100/196]\tTime 0.900 (0.948)\tLoss 1.2428 (1.2879)\tPrec@1 56.250 (53.140)\tPrec@5 94.141 (94.013)\n",
      "Validation_time 18.567 Prec@1 60.870 Prec@5 96.260\n",
      "\t - Epoch: [0][0/196]\tTime 7.104 (7.104)\tLoss 6.9322 (6.9322)\tPrec@1 0.000 (0.000)\tPrec@5 0.000 (0.000)\n",
      "\t - Epoch: [0][100/196]\tTime 0.787 (0.864)\tLoss 1.7248 (1.9763)\tPrec@1 35.938 (31.463)\tPrec@5 88.672 (81.884)\n",
      "Validation_time 17.800 Prec@1 39.850 Prec@5 89.170\n",
      "\t - Epoch: [1][0/196]\tTime 6.821 (6.821)\tLoss 1.3706 (1.3706)\tPrec@1 48.828 (48.828)\tPrec@5 94.141 (94.141)\n",
      "\t - Epoch: [1][100/196]\tTime 0.837 (0.860)\tLoss 1.1135 (1.2438)\tPrec@1 58.203 (54.947)\tPrec@5 96.094 (94.728)\n",
      "Validation_time 17.589 Prec@1 62.300 Prec@5 96.490\n",
      "gen\tevals\tmin                            \tmax                              \tevals_time\tgen_time\n",
      "0  \t8    \t[-6.2300000e+01  1.5689408e+09]\t[-5.69600000e+01  2.14100378e+09]\t          \t        \n",
      "Initialization is finished at 2019-08-16 06:27:13\n",
      "\n",
      "##### 1 th generation starts at 2019-08-16 06:27:13\n",
      "##### Evaluation starts\n"
     ]
    },
    {
     "name": "stderr",
     "output_type": "stream",
     "text": [
      "--- Logging error ---\n",
      "Traceback (most recent call last):\n",
      "  File \"/usr/lib/python3.5/logging/__init__.py\", line 980, in emit\n",
      "    msg = self.format(record)\n",
      "  File \"/usr/lib/python3.5/logging/__init__.py\", line 830, in format\n",
      "    return fmt.format(record)\n",
      "  File \"/usr/lib/python3.5/logging/__init__.py\", line 567, in format\n",
      "    record.message = record.getMessage()\n",
      "  File \"/usr/lib/python3.5/logging/__init__.py\", line 330, in getMessage\n",
      "    msg = msg % self.args\n",
      "TypeError: not all arguments converted during string formatting\n",
      "Call stack:\n",
      "  File \"/usr/lib/python3.5/runpy.py\", line 184, in _run_module_as_main\n",
      "    \"__main__\", mod_spec)\n",
      "  File \"/usr/lib/python3.5/runpy.py\", line 85, in _run_code\n",
      "    exec(code, run_globals)\n",
      "  File \"/usr/local/lib/python3.5/dist-packages/ipykernel_launcher.py\", line 16, in <module>\n",
      "    app.launch_new_instance()\n",
      "  File \"/usr/local/lib/python3.5/dist-packages/traitlets/config/application.py\", line 658, in launch_instance\n",
      "    app.start()\n",
      "  File \"/usr/local/lib/python3.5/dist-packages/ipykernel/kernelapp.py\", line 505, in start\n",
      "    self.io_loop.start()\n",
      "  File \"/usr/local/lib/python3.5/dist-packages/tornado/platform/asyncio.py\", line 132, in start\n",
      "    self.asyncio_loop.run_forever()\n",
      "  File \"/usr/lib/python3.5/asyncio/base_events.py\", line 345, in run_forever\n",
      "    self._run_once()\n",
      "  File \"/usr/lib/python3.5/asyncio/base_events.py\", line 1312, in _run_once\n",
      "    handle._run()\n",
      "  File \"/usr/lib/python3.5/asyncio/events.py\", line 125, in _run\n",
      "    self._callback(*self._args)\n",
      "  File \"/usr/local/lib/python3.5/dist-packages/tornado/ioloop.py\", line 758, in _run_callback\n",
      "    ret = callback()\n",
      "  File \"/usr/local/lib/python3.5/dist-packages/tornado/stack_context.py\", line 300, in null_wrapper\n",
      "    return fn(*args, **kwargs)\n",
      "  File \"/usr/local/lib/python3.5/dist-packages/tornado/gen.py\", line 1233, in inner\n",
      "    self.run()\n",
      "  File \"/usr/local/lib/python3.5/dist-packages/tornado/gen.py\", line 1147, in run\n",
      "    yielded = self.gen.send(value)\n",
      "  File \"/usr/local/lib/python3.5/dist-packages/ipykernel/kernelbase.py\", line 357, in process_one\n",
      "    yield gen.maybe_future(dispatch(*args))\n",
      "  File \"/usr/local/lib/python3.5/dist-packages/tornado/gen.py\", line 326, in wrapper\n",
      "    yielded = next(result)\n",
      "  File \"/usr/local/lib/python3.5/dist-packages/ipykernel/kernelbase.py\", line 267, in dispatch_shell\n",
      "    yield gen.maybe_future(handler(stream, idents, msg))\n",
      "  File \"/usr/local/lib/python3.5/dist-packages/tornado/gen.py\", line 326, in wrapper\n",
      "    yielded = next(result)\n",
      "  File \"/usr/local/lib/python3.5/dist-packages/ipykernel/kernelbase.py\", line 534, in execute_request\n",
      "    user_expressions, allow_stdin,\n",
      "  File \"/usr/local/lib/python3.5/dist-packages/tornado/gen.py\", line 326, in wrapper\n",
      "    yielded = next(result)\n",
      "  File \"/usr/local/lib/python3.5/dist-packages/ipykernel/ipkernel.py\", line 294, in do_execute\n",
      "    res = shell.run_cell(code, store_history=store_history, silent=silent)\n",
      "  File \"/usr/local/lib/python3.5/dist-packages/ipykernel/zmqshell.py\", line 536, in run_cell\n",
      "    return super(ZMQInteractiveShell, self).run_cell(*args, **kwargs)\n",
      "  File \"/usr/local/lib/python3.5/dist-packages/IPython/core/interactiveshell.py\", line 2819, in run_cell\n",
      "    raw_cell, store_history, silent, shell_futures)\n",
      "  File \"/usr/local/lib/python3.5/dist-packages/IPython/core/interactiveshell.py\", line 2845, in _run_cell\n",
      "    return runner(coro)\n",
      "  File \"/usr/local/lib/python3.5/dist-packages/IPython/core/async_helpers.py\", line 67, in _pseudo_sync_runner\n",
      "    coro.send(None)\n",
      "  File \"/usr/local/lib/python3.5/dist-packages/IPython/core/interactiveshell.py\", line 3020, in run_cell_async\n",
      "    interactivity=interactivity, compiler=compiler, result=result)\n",
      "  File \"/usr/local/lib/python3.5/dist-packages/IPython/core/interactiveshell.py\", line 3185, in run_ast_nodes\n",
      "    if (yield from self.run_code(code, result)):\n",
      "  File \"/usr/local/lib/python3.5/dist-packages/IPython/core/interactiveshell.py\", line 3267, in run_code\n",
      "    exec(code_obj, self.user_global_ns, self.user_ns)\n",
      "  File \"<ipython-input-7-c2ca882974b7>\", line 59, in <module>\n",
      "    logging.info(gen, \"th generation starts at\", now_str)\n",
      "Message: 1\n",
      "Arguments: ('th generation starts at', '2019-08-16 06:27:13')\n"
     ]
    },
    {
     "name": "stdout",
     "output_type": "stream",
     "text": [
      "\t - Epoch: [0][0/196]\tTime 6.618 (6.618)\tLoss 6.9369 (6.9369)\tPrec@1 0.000 (0.000)\tPrec@5 0.000 (0.000)\n",
      "\t - Epoch: [0][100/196]\tTime 0.657 (0.711)\tLoss 1.5242 (1.9415)\tPrec@1 42.188 (31.973)\tPrec@5 91.797 (83.087)\n",
      "Validation_time 15.933 Prec@1 49.490 Prec@5 93.830\n",
      "\t - Epoch: [1][0/196]\tTime 6.885 (6.885)\tLoss 1.3132 (1.3132)\tPrec@1 50.000 (50.000)\tPrec@5 96.094 (96.094)\n",
      "\t - Epoch: [1][100/196]\tTime 0.647 (0.716)\tLoss 1.3213 (1.1743)\tPrec@1 53.125 (57.797)\tPrec@5 93.750 (95.494)\n",
      "Validation_time 15.793 Prec@1 62.970 Prec@5 96.620\n",
      "\t - Epoch: [0][0/196]\tTime 7.269 (7.269)\tLoss 6.8912 (6.8912)\tPrec@1 0.000 (0.000)\tPrec@5 0.000 (0.000)\n",
      "\t - Epoch: [0][100/196]\tTime 0.902 (0.976)\tLoss 1.8350 (2.0809)\tPrec@1 30.469 (27.634)\tPrec@5 81.641 (78.419)\n",
      "Validation_time 19.417 Prec@1 39.490 Prec@5 89.890\n",
      "\t - Epoch: [1][0/196]\tTime 7.174 (7.174)\tLoss 1.5667 (1.5667)\tPrec@1 41.016 (41.016)\tPrec@5 88.672 (88.672)\n",
      "\t - Epoch: [1][100/196]\tTime 0.894 (0.975)\tLoss 1.3427 (1.4510)\tPrec@1 48.438 (46.442)\tPrec@5 92.969 (92.253)\n",
      "Validation_time 19.098 Prec@1 52.640 Prec@5 94.520\n",
      "\t - Epoch: [0][0/196]\tTime 7.310 (7.310)\tLoss 6.8902 (6.8902)\tPrec@1 0.000 (0.000)\tPrec@5 0.391 (0.391)\n",
      "\t - Epoch: [0][100/196]\tTime 1.011 (1.043)\tLoss 1.5397 (1.9943)\tPrec@1 40.234 (29.985)\tPrec@5 88.672 (81.370)\n",
      "Validation_time 20.197 Prec@1 49.470 Prec@5 93.260\n",
      "\t - Epoch: [1][0/196]\tTime 6.855 (6.855)\tLoss 1.2765 (1.2765)\tPrec@1 53.516 (53.516)\tPrec@5 93.750 (93.750)\n",
      "\t - Epoch: [1][100/196]\tTime 0.965 (1.041)\tLoss 1.1569 (1.2355)\tPrec@1 62.500 (55.237)\tPrec@5 97.266 (94.790)\n",
      "Validation_time 20.245 Prec@1 62.560 Prec@5 96.290\n",
      "\t - Epoch: [0][0/196]\tTime 6.898 (6.898)\tLoss 6.8874 (6.8874)\tPrec@1 0.000 (0.000)\tPrec@5 0.000 (0.000)\n",
      "\t - Epoch: [0][100/196]\tTime 0.852 (0.934)\tLoss 1.5042 (2.0236)\tPrec@1 42.578 (29.173)\tPrec@5 91.016 (80.217)\n",
      "Validation_time 18.319 Prec@1 48.770 Prec@5 93.410\n",
      "\t - Epoch: [1][0/196]\tTime 7.424 (7.424)\tLoss 1.2291 (1.2291)\tPrec@1 55.078 (55.078)\tPrec@5 94.922 (94.922)\n",
      "\t - Epoch: [1][100/196]\tTime 0.839 (0.936)\tLoss 1.0698 (1.2882)\tPrec@1 63.281 (53.539)\tPrec@5 97.266 (94.392)\n",
      "Validation_time 18.393 Prec@1 61.510 Prec@5 95.950\n",
      "\t - Epoch: [0][0/196]\tTime 7.283 (7.283)\tLoss 6.9378 (6.9378)\tPrec@1 0.000 (0.000)\tPrec@5 0.000 (0.000)\n",
      "\t - Epoch: [0][100/196]\tTime 0.756 (0.820)\tLoss 1.5100 (2.0164)\tPrec@1 42.578 (29.107)\tPrec@5 91.797 (80.600)\n",
      "Validation_time 17.606 Prec@1 47.100 Prec@5 93.480\n",
      "\t - Epoch: [1][0/196]\tTime 7.109 (7.109)\tLoss 1.3618 (1.3618)\tPrec@1 49.219 (49.219)\tPrec@5 96.484 (96.484)\n",
      "\t - Epoch: [1][100/196]\tTime 0.785 (0.821)\tLoss 1.0528 (1.2465)\tPrec@1 60.547 (54.463)\tPrec@5 97.266 (94.682)\n",
      "Validation_time 17.076 Prec@1 62.170 Prec@5 96.650\n",
      "\t - Epoch: [0][0/196]\tTime 6.756 (6.756)\tLoss 6.8531 (6.8531)\tPrec@1 0.000 (0.000)\tPrec@5 1.562 (1.562)\n",
      "\t - Epoch: [0][100/196]\tTime 0.718 (0.805)\tLoss 1.4377 (1.9820)\tPrec@1 46.484 (30.743)\tPrec@5 92.969 (81.784)\n",
      "Validation_time 17.056 Prec@1 50.040 Prec@5 93.380\n",
      "\t - Epoch: [1][0/196]\tTime 6.806 (6.806)\tLoss 1.4200 (1.4200)\tPrec@1 48.047 (48.047)\tPrec@5 92.578 (92.578)\n",
      "\t - Epoch: [1][100/196]\tTime 0.732 (0.806)\tLoss 1.1370 (1.2626)\tPrec@1 60.156 (54.223)\tPrec@5 94.922 (94.473)\n",
      "Validation_time 16.971 Prec@1 62.070 Prec@5 96.270\n",
      "\t - Epoch: [0][0/196]\tTime 7.334 (7.334)\tLoss 6.9229 (6.9229)\tPrec@1 0.000 (0.000)\tPrec@5 0.391 (0.391)\n",
      "\t - Epoch: [0][100/196]\tTime 0.743 (0.777)\tLoss 1.6775 (1.9984)\tPrec@1 36.719 (30.009)\tPrec@5 89.844 (82.105)\n",
      "Validation_time 17.304 Prec@1 43.590 Prec@5 91.480\n",
      "\t - Epoch: [1][0/196]\tTime 7.104 (7.104)\tLoss 1.5952 (1.5952)\tPrec@1 42.578 (42.578)\tPrec@5 89.062 (89.062)\n",
      "\t - Epoch: [1][100/196]\tTime 0.690 (0.777)\tLoss 1.1906 (1.3101)\tPrec@1 55.469 (52.104)\tPrec@5 95.703 (93.982)\n",
      "Validation_time 16.959 Prec@1 58.750 Prec@5 95.660\n",
      "\t - Epoch: [0][0/196]\tTime 7.089 (7.089)\tLoss 6.9532 (6.9532)\tPrec@1 0.000 (0.000)\tPrec@5 0.000 (0.000)\n",
      "\t - Epoch: [0][100/196]\tTime 0.854 (0.916)\tLoss 1.6985 (2.0435)\tPrec@1 37.891 (29.247)\tPrec@5 86.719 (80.585)\n",
      "Validation_time 18.362 Prec@1 42.450 Prec@5 91.360\n",
      "\t - Epoch: [1][0/196]\tTime 7.157 (7.157)\tLoss 1.5938 (1.5938)\tPrec@1 40.234 (40.234)\tPrec@5 89.453 (89.453)\n",
      "\t - Epoch: [1][100/196]\tTime 0.857 (0.917)\tLoss 1.2147 (1.3760)\tPrec@1 55.859 (49.609)\tPrec@5 95.703 (93.236)\n",
      "Validation_time 18.103 Prec@1 57.840 Prec@5 95.620\n",
      "##### Evaluation ends (Time : 2940.775)\n",
      "##### [gen_time: 2940.776s] 1 th generation is finished.\n",
      "1  \t8    \t[-6.2970000e+01  1.5689408e+09]\t[-5.87500000e+01  2.05443725e+09]\t2940.78   \t2940.78 \n",
      "##### 2 th generation starts at 2019-08-16 07:16:14\n",
      "##### Evaluation starts\n"
     ]
    },
    {
     "name": "stderr",
     "output_type": "stream",
     "text": [
      "--- Logging error ---\n",
      "Traceback (most recent call last):\n",
      "  File \"/usr/lib/python3.5/logging/__init__.py\", line 980, in emit\n",
      "    msg = self.format(record)\n",
      "  File \"/usr/lib/python3.5/logging/__init__.py\", line 830, in format\n",
      "    return fmt.format(record)\n",
      "  File \"/usr/lib/python3.5/logging/__init__.py\", line 567, in format\n",
      "    record.message = record.getMessage()\n",
      "  File \"/usr/lib/python3.5/logging/__init__.py\", line 330, in getMessage\n",
      "    msg = msg % self.args\n",
      "TypeError: not all arguments converted during string formatting\n",
      "Call stack:\n",
      "  File \"/usr/lib/python3.5/runpy.py\", line 184, in _run_module_as_main\n",
      "    \"__main__\", mod_spec)\n",
      "  File \"/usr/lib/python3.5/runpy.py\", line 85, in _run_code\n",
      "    exec(code, run_globals)\n",
      "  File \"/usr/local/lib/python3.5/dist-packages/ipykernel_launcher.py\", line 16, in <module>\n",
      "    app.launch_new_instance()\n",
      "  File \"/usr/local/lib/python3.5/dist-packages/traitlets/config/application.py\", line 658, in launch_instance\n",
      "    app.start()\n",
      "  File \"/usr/local/lib/python3.5/dist-packages/ipykernel/kernelapp.py\", line 505, in start\n",
      "    self.io_loop.start()\n",
      "  File \"/usr/local/lib/python3.5/dist-packages/tornado/platform/asyncio.py\", line 132, in start\n",
      "    self.asyncio_loop.run_forever()\n",
      "  File \"/usr/lib/python3.5/asyncio/base_events.py\", line 345, in run_forever\n",
      "    self._run_once()\n",
      "  File \"/usr/lib/python3.5/asyncio/base_events.py\", line 1312, in _run_once\n",
      "    handle._run()\n",
      "  File \"/usr/lib/python3.5/asyncio/events.py\", line 125, in _run\n",
      "    self._callback(*self._args)\n",
      "  File \"/usr/local/lib/python3.5/dist-packages/tornado/ioloop.py\", line 758, in _run_callback\n",
      "    ret = callback()\n",
      "  File \"/usr/local/lib/python3.5/dist-packages/tornado/stack_context.py\", line 300, in null_wrapper\n",
      "    return fn(*args, **kwargs)\n",
      "  File \"/usr/local/lib/python3.5/dist-packages/tornado/gen.py\", line 1233, in inner\n",
      "    self.run()\n",
      "  File \"/usr/local/lib/python3.5/dist-packages/tornado/gen.py\", line 1147, in run\n",
      "    yielded = self.gen.send(value)\n",
      "  File \"/usr/local/lib/python3.5/dist-packages/ipykernel/kernelbase.py\", line 357, in process_one\n",
      "    yield gen.maybe_future(dispatch(*args))\n",
      "  File \"/usr/local/lib/python3.5/dist-packages/tornado/gen.py\", line 326, in wrapper\n",
      "    yielded = next(result)\n",
      "  File \"/usr/local/lib/python3.5/dist-packages/ipykernel/kernelbase.py\", line 267, in dispatch_shell\n",
      "    yield gen.maybe_future(handler(stream, idents, msg))\n",
      "  File \"/usr/local/lib/python3.5/dist-packages/tornado/gen.py\", line 326, in wrapper\n",
      "    yielded = next(result)\n",
      "  File \"/usr/local/lib/python3.5/dist-packages/ipykernel/kernelbase.py\", line 534, in execute_request\n",
      "    user_expressions, allow_stdin,\n",
      "  File \"/usr/local/lib/python3.5/dist-packages/tornado/gen.py\", line 326, in wrapper\n",
      "    yielded = next(result)\n",
      "  File \"/usr/local/lib/python3.5/dist-packages/ipykernel/ipkernel.py\", line 294, in do_execute\n",
      "    res = shell.run_cell(code, store_history=store_history, silent=silent)\n",
      "  File \"/usr/local/lib/python3.5/dist-packages/ipykernel/zmqshell.py\", line 536, in run_cell\n",
      "    return super(ZMQInteractiveShell, self).run_cell(*args, **kwargs)\n",
      "  File \"/usr/local/lib/python3.5/dist-packages/IPython/core/interactiveshell.py\", line 2819, in run_cell\n",
      "    raw_cell, store_history, silent, shell_futures)\n",
      "  File \"/usr/local/lib/python3.5/dist-packages/IPython/core/interactiveshell.py\", line 2845, in _run_cell\n",
      "    return runner(coro)\n",
      "  File \"/usr/local/lib/python3.5/dist-packages/IPython/core/async_helpers.py\", line 67, in _pseudo_sync_runner\n",
      "    coro.send(None)\n",
      "  File \"/usr/local/lib/python3.5/dist-packages/IPython/core/interactiveshell.py\", line 3020, in run_cell_async\n",
      "    interactivity=interactivity, compiler=compiler, result=result)\n",
      "  File \"/usr/local/lib/python3.5/dist-packages/IPython/core/interactiveshell.py\", line 3185, in run_ast_nodes\n",
      "    if (yield from self.run_code(code, result)):\n",
      "  File \"/usr/local/lib/python3.5/dist-packages/IPython/core/interactiveshell.py\", line 3267, in run_code\n",
      "    exec(code_obj, self.user_global_ns, self.user_ns)\n",
      "  File \"<ipython-input-7-c2ca882974b7>\", line 59, in <module>\n",
      "    logging.info(gen, \"th generation starts at\", now_str)\n",
      "Message: 2\n",
      "Arguments: ('th generation starts at', '2019-08-16 07:16:14')\n"
     ]
    },
    {
     "name": "stdout",
     "output_type": "stream",
     "text": [
      "\t - Epoch: [0][0/196]\tTime 5.246 (5.246)\tLoss 6.9441 (6.9441)\tPrec@1 0.000 (0.000)\tPrec@5 0.000 (0.000)\n",
      "\t - Epoch: [0][100/196]\tTime 0.557 (0.564)\tLoss 1.6109 (1.9857)\tPrec@1 39.453 (30.438)\tPrec@5 89.844 (81.962)\n",
      "Validation_time 13.666 Prec@1 50.400 Prec@5 94.210\n",
      "\t - Epoch: [1][0/196]\tTime 6.881 (6.881)\tLoss 1.2025 (1.2025)\tPrec@1 55.859 (55.859)\tPrec@5 96.094 (96.094)\n",
      "\t - Epoch: [1][100/196]\tTime 0.505 (0.566)\tLoss 0.9451 (1.1774)\tPrec@1 66.797 (57.553)\tPrec@5 96.875 (95.220)\n",
      "Validation_time 13.543 Prec@1 65.230 Prec@5 96.760\n",
      "\t - Epoch: [0][0/196]\tTime 6.278 (6.278)\tLoss 6.8723 (6.8723)\tPrec@1 0.000 (0.000)\tPrec@5 3.516 (3.516)\n",
      "\t - Epoch: [0][100/196]\tTime 0.439 (0.508)\tLoss 1.6377 (2.0317)\tPrec@1 39.062 (29.107)\tPrec@5 88.672 (80.825)\n",
      "Validation_time 12.667 Prec@1 43.210 Prec@5 92.350\n",
      "\t - Epoch: [1][0/196]\tTime 6.038 (6.038)\tLoss 1.4892 (1.4892)\tPrec@1 42.969 (42.969)\tPrec@5 93.359 (93.359)\n",
      "\t - Epoch: [1][100/196]\tTime 0.450 (0.511)\tLoss 1.3088 (1.3331)\tPrec@1 53.906 (51.207)\tPrec@5 96.094 (93.928)\n",
      "Validation_time 12.699 Prec@1 58.510 Prec@5 95.560\n",
      "\t - Epoch: [0][0/196]\tTime 7.115 (7.115)\tLoss 6.8280 (6.8280)\tPrec@1 0.000 (0.000)\tPrec@5 0.391 (0.391)\n",
      "\t - Epoch: [0][100/196]\tTime 0.834 (0.839)\tLoss 1.7333 (2.0341)\tPrec@1 39.453 (28.933)\tPrec@5 85.547 (79.989)\n",
      "Validation_time 17.357 Prec@1 47.790 Prec@5 93.410\n",
      "\t - Epoch: [1][0/196]\tTime 7.025 (7.025)\tLoss 1.4534 (1.4534)\tPrec@1 48.828 (48.828)\tPrec@5 91.406 (91.406)\n",
      "\t - Epoch: [1][100/196]\tTime 0.775 (0.845)\tLoss 1.1627 (1.2709)\tPrec@1 58.203 (53.968)\tPrec@5 94.531 (94.477)\n",
      "Validation_time 17.529 Prec@1 62.490 Prec@5 96.280\n",
      "\t - Epoch: [0][0/196]\tTime 6.792 (6.792)\tLoss 6.8399 (6.8399)\tPrec@1 0.000 (0.000)\tPrec@5 0.000 (0.000)\n",
      "\t - Epoch: [0][100/196]\tTime 0.471 (0.556)\tLoss 1.7322 (2.0835)\tPrec@1 35.547 (27.893)\tPrec@5 86.719 (78.752)\n",
      "Validation_time 13.506 Prec@1 42.860 Prec@5 92.200\n",
      "\t - Epoch: [1][0/196]\tTime 6.330 (6.330)\tLoss 1.6289 (1.6289)\tPrec@1 40.625 (40.625)\tPrec@5 88.281 (88.281)\n",
      "\t - Epoch: [1][100/196]\tTime 0.474 (0.557)\tLoss 1.2976 (1.3819)\tPrec@1 53.906 (49.540)\tPrec@5 95.703 (93.224)\n",
      "Validation_time 13.565 Prec@1 56.160 Prec@5 95.290\n",
      "\t - Epoch: [0][0/196]\tTime 7.019 (7.019)\tLoss 6.9835 (6.9835)\tPrec@1 0.000 (0.000)\tPrec@5 0.000 (0.000)\n",
      "\t - Epoch: [0][100/196]\tTime 0.560 (0.654)\tLoss 1.6535 (2.0418)\tPrec@1 37.500 (28.980)\tPrec@5 87.891 (80.399)\n",
      "Validation_time 14.696 Prec@1 45.880 Prec@5 92.150\n",
      "\t - Epoch: [1][0/196]\tTime 5.893 (5.893)\tLoss 1.4231 (1.4231)\tPrec@1 48.828 (48.828)\tPrec@5 92.188 (92.188)\n",
      "\t - Epoch: [1][100/196]\tTime 0.619 (0.647)\tLoss 1.2190 (1.3165)\tPrec@1 57.812 (51.903)\tPrec@5 92.578 (93.932)\n",
      "Validation_time 14.743 Prec@1 59.690 Prec@5 95.740\n",
      "\t - Epoch: [0][0/196]\tTime 6.530 (6.530)\tLoss 6.8858 (6.8858)\tPrec@1 0.000 (0.000)\tPrec@5 0.000 (0.000)\n",
      "\t - Epoch: [0][100/196]\tTime 0.755 (0.822)\tLoss 1.6138 (1.9759)\tPrec@1 39.453 (30.264)\tPrec@5 89.062 (81.830)\n",
      "Validation_time 17.160 Prec@1 48.810 Prec@5 92.420\n",
      "\t - Epoch: [1][0/196]\tTime 7.129 (7.129)\tLoss 1.2433 (1.2433)\tPrec@1 50.781 (50.781)\tPrec@5 96.875 (96.875)\n",
      "\t - Epoch: [1][100/196]\tTime 0.758 (0.828)\tLoss 1.2013 (1.2451)\tPrec@1 57.031 (54.773)\tPrec@5 94.922 (94.624)\n",
      "Validation_time 17.351 Prec@1 61.520 Prec@5 96.600\n",
      "\t - Epoch: [0][0/196]\tTime 6.567 (6.567)\tLoss 6.9051 (6.9051)\tPrec@1 0.000 (0.000)\tPrec@5 1.953 (1.953)\n",
      "\t - Epoch: [0][100/196]\tTime 0.694 (0.747)\tLoss 1.6564 (2.0060)\tPrec@1 33.984 (29.533)\tPrec@5 87.500 (80.999)\n",
      "Validation_time 15.945 Prec@1 42.830 Prec@5 90.750\n",
      "\t - Epoch: [1][0/196]\tTime 6.816 (6.816)\tLoss 1.4371 (1.4371)\tPrec@1 46.484 (46.484)\tPrec@5 93.750 (93.750)\n",
      "\t - Epoch: [1][100/196]\tTime 0.704 (0.748)\tLoss 1.1922 (1.3366)\tPrec@1 56.641 (50.870)\tPrec@5 94.922 (93.665)\n",
      "Validation_time 15.742 Prec@1 57.740 Prec@5 95.570\n",
      "\t - Epoch: [0][0/196]\tTime 6.696 (6.696)\tLoss 6.8988 (6.8988)\tPrec@1 0.000 (0.000)\tPrec@5 0.000 (0.000)\n",
      "\t - Epoch: [0][100/196]\tTime 0.573 (0.615)\tLoss 1.5113 (1.9627)\tPrec@1 46.094 (31.730)\tPrec@5 93.359 (81.490)\n",
      "Validation_time 14.445 Prec@1 47.200 Prec@5 93.180\n",
      "\t - Epoch: [1][0/196]\tTime 6.706 (6.706)\tLoss 1.3802 (1.3802)\tPrec@1 48.438 (48.438)\tPrec@5 96.094 (96.094)\n",
      "\t - Epoch: [1][100/196]\tTime 0.545 (0.620)\tLoss 1.1212 (1.1955)\tPrec@1 60.156 (56.803)\tPrec@5 96.875 (95.193)\n",
      "Validation_time 14.129 Prec@1 62.770 Prec@5 96.420\n",
      "##### Evaluation ends (Time : 2238.901)\n",
      "##### [gen_time: 2238.901s] 2 th generation is finished.\n",
      "2  \t8    \t[-6.52300000e+01  1.35696742e+09]\t[-5.61600000e+01  1.80627277e+09]\t2238.9    \t2238.9  \n",
      "##### 3 th generation starts at 2019-08-16 07:53:33\n",
      "##### Evaluation starts\n"
     ]
    },
    {
     "name": "stderr",
     "output_type": "stream",
     "text": [
      "--- Logging error ---\n",
      "Traceback (most recent call last):\n",
      "  File \"/usr/lib/python3.5/logging/__init__.py\", line 980, in emit\n",
      "    msg = self.format(record)\n",
      "  File \"/usr/lib/python3.5/logging/__init__.py\", line 830, in format\n",
      "    return fmt.format(record)\n",
      "  File \"/usr/lib/python3.5/logging/__init__.py\", line 567, in format\n",
      "    record.message = record.getMessage()\n",
      "  File \"/usr/lib/python3.5/logging/__init__.py\", line 330, in getMessage\n",
      "    msg = msg % self.args\n",
      "TypeError: not all arguments converted during string formatting\n",
      "Call stack:\n",
      "  File \"/usr/lib/python3.5/runpy.py\", line 184, in _run_module_as_main\n",
      "    \"__main__\", mod_spec)\n",
      "  File \"/usr/lib/python3.5/runpy.py\", line 85, in _run_code\n",
      "    exec(code, run_globals)\n",
      "  File \"/usr/local/lib/python3.5/dist-packages/ipykernel_launcher.py\", line 16, in <module>\n",
      "    app.launch_new_instance()\n",
      "  File \"/usr/local/lib/python3.5/dist-packages/traitlets/config/application.py\", line 658, in launch_instance\n",
      "    app.start()\n",
      "  File \"/usr/local/lib/python3.5/dist-packages/ipykernel/kernelapp.py\", line 505, in start\n",
      "    self.io_loop.start()\n",
      "  File \"/usr/local/lib/python3.5/dist-packages/tornado/platform/asyncio.py\", line 132, in start\n",
      "    self.asyncio_loop.run_forever()\n",
      "  File \"/usr/lib/python3.5/asyncio/base_events.py\", line 345, in run_forever\n",
      "    self._run_once()\n",
      "  File \"/usr/lib/python3.5/asyncio/base_events.py\", line 1312, in _run_once\n",
      "    handle._run()\n",
      "  File \"/usr/lib/python3.5/asyncio/events.py\", line 125, in _run\n",
      "    self._callback(*self._args)\n",
      "  File \"/usr/local/lib/python3.5/dist-packages/tornado/ioloop.py\", line 758, in _run_callback\n",
      "    ret = callback()\n",
      "  File \"/usr/local/lib/python3.5/dist-packages/tornado/stack_context.py\", line 300, in null_wrapper\n",
      "    return fn(*args, **kwargs)\n",
      "  File \"/usr/local/lib/python3.5/dist-packages/tornado/gen.py\", line 1233, in inner\n",
      "    self.run()\n",
      "  File \"/usr/local/lib/python3.5/dist-packages/tornado/gen.py\", line 1147, in run\n",
      "    yielded = self.gen.send(value)\n",
      "  File \"/usr/local/lib/python3.5/dist-packages/ipykernel/kernelbase.py\", line 357, in process_one\n",
      "    yield gen.maybe_future(dispatch(*args))\n",
      "  File \"/usr/local/lib/python3.5/dist-packages/tornado/gen.py\", line 326, in wrapper\n",
      "    yielded = next(result)\n",
      "  File \"/usr/local/lib/python3.5/dist-packages/ipykernel/kernelbase.py\", line 267, in dispatch_shell\n",
      "    yield gen.maybe_future(handler(stream, idents, msg))\n",
      "  File \"/usr/local/lib/python3.5/dist-packages/tornado/gen.py\", line 326, in wrapper\n",
      "    yielded = next(result)\n",
      "  File \"/usr/local/lib/python3.5/dist-packages/ipykernel/kernelbase.py\", line 534, in execute_request\n",
      "    user_expressions, allow_stdin,\n",
      "  File \"/usr/local/lib/python3.5/dist-packages/tornado/gen.py\", line 326, in wrapper\n",
      "    yielded = next(result)\n",
      "  File \"/usr/local/lib/python3.5/dist-packages/ipykernel/ipkernel.py\", line 294, in do_execute\n",
      "    res = shell.run_cell(code, store_history=store_history, silent=silent)\n",
      "  File \"/usr/local/lib/python3.5/dist-packages/ipykernel/zmqshell.py\", line 536, in run_cell\n",
      "    return super(ZMQInteractiveShell, self).run_cell(*args, **kwargs)\n",
      "  File \"/usr/local/lib/python3.5/dist-packages/IPython/core/interactiveshell.py\", line 2819, in run_cell\n",
      "    raw_cell, store_history, silent, shell_futures)\n",
      "  File \"/usr/local/lib/python3.5/dist-packages/IPython/core/interactiveshell.py\", line 2845, in _run_cell\n",
      "    return runner(coro)\n",
      "  File \"/usr/local/lib/python3.5/dist-packages/IPython/core/async_helpers.py\", line 67, in _pseudo_sync_runner\n",
      "    coro.send(None)\n",
      "  File \"/usr/local/lib/python3.5/dist-packages/IPython/core/interactiveshell.py\", line 3020, in run_cell_async\n",
      "    interactivity=interactivity, compiler=compiler, result=result)\n",
      "  File \"/usr/local/lib/python3.5/dist-packages/IPython/core/interactiveshell.py\", line 3185, in run_ast_nodes\n",
      "    if (yield from self.run_code(code, result)):\n",
      "  File \"/usr/local/lib/python3.5/dist-packages/IPython/core/interactiveshell.py\", line 3267, in run_code\n",
      "    exec(code_obj, self.user_global_ns, self.user_ns)\n",
      "  File \"<ipython-input-7-c2ca882974b7>\", line 59, in <module>\n",
      "    logging.info(gen, \"th generation starts at\", now_str)\n",
      "Message: 3\n",
      "Arguments: ('th generation starts at', '2019-08-16 07:53:33')\n"
     ]
    },
    {
     "name": "stdout",
     "output_type": "stream",
     "text": [
      "\t - Epoch: [0][0/196]\tTime 7.072 (7.072)\tLoss 6.9270 (6.9270)\tPrec@1 0.000 (0.000)\tPrec@5 0.000 (0.000)\n",
      "\t - Epoch: [0][100/196]\tTime 0.831 (0.904)\tLoss 1.6655 (2.0109)\tPrec@1 39.453 (29.974)\tPrec@5 89.844 (80.461)\n",
      "Validation_time 18.288 Prec@1 43.920 Prec@5 92.290\n",
      "\t - Epoch: [1][0/196]\tTime 6.976 (6.976)\tLoss 1.3937 (1.3937)\tPrec@1 48.438 (48.438)\tPrec@5 94.141 (94.141)\n",
      "\t - Epoch: [1][100/196]\tTime 0.825 (0.905)\tLoss 1.1953 (1.3282)\tPrec@1 57.422 (51.779)\tPrec@5 94.141 (93.560)\n",
      "Validation_time 18.386 Prec@1 59.240 Prec@5 95.760\n",
      "\t - Epoch: [0][0/196]\tTime 6.751 (6.751)\tLoss 6.9071 (6.9071)\tPrec@1 0.000 (0.000)\tPrec@5 0.000 (0.000)\n",
      "\t - Epoch: [0][100/196]\tTime 0.539 (0.626)\tLoss 1.6264 (1.9632)\tPrec@1 39.062 (31.467)\tPrec@5 88.672 (82.406)\n",
      "Validation_time 14.329 Prec@1 48.260 Prec@5 92.530\n",
      "\t - Epoch: [1][0/196]\tTime 6.921 (6.921)\tLoss 1.3816 (1.3816)\tPrec@1 49.609 (49.609)\tPrec@5 93.359 (93.359)\n",
      "\t - Epoch: [1][100/196]\tTime 0.581 (0.622)\tLoss 1.2318 (1.2563)\tPrec@1 55.859 (54.753)\tPrec@5 94.531 (94.543)\n",
      "Validation_time 14.720 Prec@1 60.250 Prec@5 95.850\n",
      "\t - Epoch: [0][0/196]\tTime 6.972 (6.972)\tLoss 6.9427 (6.9427)\tPrec@1 0.000 (0.000)\tPrec@5 0.391 (0.391)\n",
      "\t - Epoch: [0][100/196]\tTime 0.693 (0.738)\tLoss 1.6639 (2.0201)\tPrec@1 43.359 (29.575)\tPrec@5 89.453 (80.925)\n"
     ]
    }
   ],
   "source": [
    "\"\"\"\n",
    "4. Algorithms\n",
    " For the purpose of completeness we will develop the complete generational algorithm.\n",
    "\"\"\"\n",
    "\n",
    "POP_SIZE = 8    # population size\n",
    "NGEN = 10    # number of Generation\n",
    "CXPB = 0.5    # crossover probability \n",
    "MUTPB = 0.5    # mutation probability\n",
    "\n",
    "\n",
    "# log에 기록할 stats\n",
    "stats = tools.Statistics(lambda ind: ind.fitness.values)\n",
    "stats.register(\"min\", np.min, axis=0)\n",
    "stats.register(\"max\", np.max, axis=0)\n",
    "\n",
    "logbook = tools.Logbook()\n",
    "logbook.header = \"gen\", \"evals\", \"min\", \"max\", \"evals_time\", \"gen_time\"\n",
    "\n",
    "# population 생성.  (toolbox.population은 creator.Individual n개를 담은 list를 반환. (=> population)\n",
    "now = datetime.datetime.now()\n",
    "now_str = now.strftime('%Y-%m-%d %H:%M:%S')\n",
    "print(\"Initialion starts ...\")\n",
    "logging.info(\"Initialion starts at \" + now_str)\n",
    "init_start_time = time.time()\n",
    "\n",
    "pop = toolbox.population(n=POP_SIZE)\n",
    "\n",
    "# Evaluate the individuals with an invalid fitness\n",
    "invalid_ind = [ind for ind in pop if not ind.fitness.valid]\n",
    "fitnesses = toolbox.map(toolbox.evaluate, invalid_ind)    # .evaluate는 tuple을 반환. 따라서 fitnesses는 튜플을 원소로 가지는 list\n",
    "for ind, fit in zip(invalid_ind, fitnesses):\n",
    "    ind.fitness.values = fit   # ind.fitness.values = (val_accuracy, flops) 튜플\n",
    "\n",
    "# This is just to assign the crowding distance to the individuals\n",
    "# no actual selection is done\n",
    "pop = toolbox.select(pop, len(pop))\n",
    "\n",
    "record = stats.compile(pop)\n",
    "logbook.record(gen=0, evals=len(invalid_ind), **record)\n",
    "print(logbook.stream)\n",
    "\n",
    "now = datetime.datetime.now()\n",
    "now_str = now.strftime('%Y-%m-%d %H:%M:%S')\n",
    "print(\"Initialization is finished at\", now_str)\n",
    "logging.info(\"Initialion is finished at \" + now_str)\n",
    "\n",
    "init_time = time.time() - init_start_time\n",
    "logging.info(\"Initialion time = \" + str(init_time) + \"s\")\n",
    "\n",
    "\n",
    "print()\n",
    "\n",
    "# Begin the generational process\n",
    "for gen in range(1, NGEN):\n",
    "    now = datetime.datetime.now()\n",
    "    now_str = now.strftime('%Y-%m-%d %H:%M:%S')\n",
    "    print(\"#####\", gen, \"th generation starts at\", now_str)\n",
    "    logging.info(str(gen) + \"th generation starts at\" + now_str)\n",
    "    \n",
    "    start_gen = time.time()\n",
    "    # Vary the population\n",
    "    offspring = tools.selTournamentDCD(pop, len(pop))\n",
    "    offspring = [toolbox.clone(ind) for ind in offspring]\n",
    "\n",
    "    for ind1, ind2 in zip(offspring[::2], offspring[1::2]):\n",
    "        if random.random() <= CXPB:\n",
    "            toolbox.mate(ind1, ind2)\n",
    "\n",
    "        toolbox.mutate(ind1, indpb=MUTPB)\n",
    "        toolbox.mutate(ind2, indpb=MUTPB)\n",
    "        del ind1.fitness.values, ind2.fitness.values\n",
    "\n",
    "    # Evaluate the individuals with an invalid fitness\n",
    "    print(\"##### Evaluation starts\")\n",
    "    start_time = time.time()\n",
    "    \n",
    "    invalid_ind = [ind for ind in offspring if not ind.fitness.valid]\n",
    "    fitnesses = toolbox.map(toolbox.evaluate, invalid_ind)\n",
    "    for ind, fit in zip(invalid_ind, fitnesses):\n",
    "        ind.fitness.values = fit\n",
    "        \n",
    "    eval_time_for_one_generation = time.time() - start_time        \n",
    "    print(\"##### Evaluation ends (Time : %.3f)\" % eval_time_for_one_generation)\n",
    "    \n",
    "    # Select the next generation population\n",
    "    pop = toolbox.select(pop + offspring, POP_SIZE)\n",
    "    \n",
    "    gen_time = time.time() - start_gen\n",
    "    print('##### [gen_time: %.3fs]' % gen_time, gen, 'th generation is finished.')\n",
    "    \n",
    "    record = stats.compile(pop)\n",
    "    logbook.record(gen=gen, evals=len(invalid_ind), **record,\n",
    "                   evals_time=eval_time_for_one_generation, gen_time=gen_time)\n",
    "    \n",
    "    logging.info('Gen [%03d/%03d] -- evals: %03d, evals_time: %.4fs, gen_time: %.4fs' % (gen, NGEN, len(invalid_ind), eval_time_for_one_generation, gen_time))\n",
    "    print(logbook.stream)"
   ]
  },
  {
   "cell_type": "code",
   "execution_count": 8,
   "metadata": {
    "scrolled": true
   },
   "outputs": [
    {
     "data": {
      "text/plain": [
       "[{'evals': 8,\n",
       "  'gen': 0,\n",
       "  'max': array([-5.69600000e+01,  2.14100378e+09]),\n",
       "  'min': array([-6.2300000e+01,  1.5689408e+09])},\n",
       " {'evals': 8,\n",
       "  'evals_time': 2940.775217294693,\n",
       "  'gen': 1,\n",
       "  'gen_time': 2940.7760870456696,\n",
       "  'max': array([-5.87500000e+01,  2.05443725e+09]),\n",
       "  'min': array([-6.2970000e+01,  1.5689408e+09])},\n",
       " {'evals': 8,\n",
       "  'evals_time': 2238.9005932807922,\n",
       "  'gen': 2,\n",
       "  'gen_time': 2238.901383161545,\n",
       "  'max': array([-5.61600000e+01,  1.80627277e+09]),\n",
       "  'min': array([-6.52300000e+01,  1.35696742e+09])},\n",
       " {'evals': 8,\n",
       "  'evals_time': 2318.383440732956,\n",
       "  'gen': 3,\n",
       "  'gen_time': 2318.3843405246735,\n",
       "  'max': array([-5.85100000e+01,  1.79992755e+09]),\n",
       "  'min': array([-6.52300000e+01,  1.35696742e+09])},\n",
       " {'evals': 8,\n",
       "  'evals_time': 2142.6277430057526,\n",
       "  'gen': 4,\n",
       "  'gen_time': 2142.6286928653717,\n",
       "  'max': array([-5.8510000e+01,  1.7974921e+09]),\n",
       "  'min': array([-6.52300000e+01,  1.34000448e+09])},\n",
       " {'evals': 8,\n",
       "  'evals_time': 2459.421911239624,\n",
       "  'gen': 5,\n",
       "  'gen_time': 2459.422822713852,\n",
       "  'max': array([-5.8880000e+01,  1.7974921e+09]),\n",
       "  'min': array([-6.52300000e+01,  1.30043827e+09])},\n",
       " {'evals': 8,\n",
       "  'evals_time': 2507.3026077747345,\n",
       "  'gen': 6,\n",
       "  'gen_time': 2507.303516626358,\n",
       "  'max': array([-5.88800000e+01,  1.78770739e+09]),\n",
       "  'min': array([-6.52300000e+01,  1.30043827e+09])},\n",
       " {'evals': 8,\n",
       "  'evals_time': 2405.98623919487,\n",
       "  'gen': 7,\n",
       "  'gen_time': 2405.9870162010193,\n",
       "  'max': array([-5.88800000e+01,  1.78770739e+09]),\n",
       "  'min': array([-6.52300000e+01,  1.30043827e+09])},\n",
       " {'evals': 8,\n",
       "  'evals_time': 2245.225948572159,\n",
       "  'gen': 8,\n",
       "  'gen_time': 2245.226856470108,\n",
       "  'max': array([-5.88800000e+01,  1.78770739e+09]),\n",
       "  'min': array([-6.72700000e+01,  1.30043827e+09])},\n",
       " {'evals': 8,\n",
       "  'evals_time': 2383.8044476509094,\n",
       "  'gen': 9,\n",
       "  'gen_time': 2383.8053340911865,\n",
       "  'max': array([-5.88800000e+01,  1.78770739e+09]),\n",
       "  'min': array([-6.7270000e+01,  1.2909527e+09])}]"
      ]
     },
     "execution_count": 8,
     "metadata": {},
     "output_type": "execute_result"
    }
   ],
   "source": [
    "# Check logbook\n",
    "logbook"
   ]
  },
  {
   "cell_type": "markdown",
   "metadata": {},
   "source": [
    "### logbook - plot"
   ]
  },
  {
   "cell_type": "code",
   "execution_count": 11,
   "metadata": {},
   "outputs": [
    {
     "data": {
      "text/plain": [
       "deap.tools.support.Logbook"
      ]
     },
     "execution_count": 11,
     "metadata": {},
     "output_type": "execute_result"
    }
   ],
   "source": [
    "type(logbook)"
   ]
  },
  {
   "cell_type": "code",
   "execution_count": 13,
   "metadata": {},
   "outputs": [
    {
     "data": {
      "text/plain": [
       "10"
      ]
     },
     "execution_count": 13,
     "metadata": {},
     "output_type": "execute_result"
    }
   ],
   "source": [
    "len(logbook)"
   ]
  },
  {
   "cell_type": "code",
   "execution_count": 15,
   "metadata": {},
   "outputs": [
    {
     "data": {
      "text/plain": [
       "{'evals': 8,\n",
       " 'gen': 0,\n",
       " 'max': array([-5.69600000e+01,  2.14100378e+09]),\n",
       " 'min': array([-6.2300000e+01,  1.5689408e+09])}"
      ]
     },
     "execution_count": 15,
     "metadata": {},
     "output_type": "execute_result"
    }
   ],
   "source": [
    "logbook[0]"
   ]
  },
  {
   "cell_type": "code",
   "execution_count": 17,
   "metadata": {},
   "outputs": [
    {
     "data": {
      "text/plain": [
       "array([-6.2300000e+01,  1.5689408e+09])"
      ]
     },
     "execution_count": 17,
     "metadata": {},
     "output_type": "execute_result"
    }
   ],
   "source": [
    "logbook[0]['min']"
   ]
  },
  {
   "cell_type": "code",
   "execution_count": 20,
   "metadata": {},
   "outputs": [
    {
     "data": {
      "text/plain": [
       "(62.3, 1568940800.0)"
      ]
     },
     "execution_count": 20,
     "metadata": {},
     "output_type": "execute_result"
    }
   ],
   "source": [
    "-logbook[0]['min'][0], logbook[0]['min'][1]"
   ]
  },
  {
   "cell_type": "code",
   "execution_count": 23,
   "metadata": {},
   "outputs": [],
   "source": [
    "min_val_acc = []\n",
    "min_flops = []\n",
    "\n",
    "max_val_acc = []\n",
    "max_flops = []\n",
    "\n",
    "for i in range(len(logbook)):\n",
    "    min_val_acc_i, min_flops_i = -logbook[i]['min'][0], logbook[i]['min'][1]\n",
    "    max_val_acc_i, max_flops_i = -logbook[i]['max'][0], logbook[i]['max'][1]\n",
    "    \n",
    "    min_val_acc.append(min_val_acc_i)\n",
    "    min_flops.append(min_flops_i)\n",
    "    max_val_acc.append(max_val_acc_i)\n",
    "    max_flops.append(max_flops_i)    "
   ]
  },
  {
   "cell_type": "code",
   "execution_count": 24,
   "metadata": {},
   "outputs": [],
   "source": [
    "from matplotlib import pyplot as plt\n",
    "%matplotlib inline"
   ]
  },
  {
   "cell_type": "code",
   "execution_count": 26,
   "metadata": {},
   "outputs": [
    {
     "data": {
      "image/png": "[encoded data removed]",
      "text/plain": [
       "<Figure size 432x288 with 1 Axes>"
      ]
     },
     "metadata": {
      "needs_background": "light"
     },
     "output_type": "display_data"
    }
   ],
   "source": [
    "# NSGA-2가 제대로 동작함을 알 수 있음.\n",
    "plt.plot(min_val_acc, min_flops)\n",
    "\n",
    "plt.xlabel('min_val_acc')\n",
    "plt.ylabel('min_flops')\n",
    "plt.title('Experiment Result')\n",
    "\n",
    "plt.show()"
   ]
  },
  {
   "cell_type": "code",
   "execution_count": 33,
   "metadata": {},
   "outputs": [],
   "source": [
    "# gen time 확인\n",
    "gen_time_list = []\n",
    "\n",
    "for i in range(1, len(logbook)):\n",
    "    # 첫번째 initialize 에는 gen_time이 없음\n",
    "    gen_time_i = logbook[i]['gen_time']\n",
    "    gen_time_list.append(gen_time_i)"
   ]
  },
  {
   "cell_type": "code",
   "execution_count": 35,
   "metadata": {},
   "outputs": [
    {
     "data": {
      "image/png": "[encoded data removed]",
      "text/plain": [
       "<Figure size 432x288 with 1 Axes>"
      ]
     },
     "metadata": {
      "needs_background": "light"
     },
     "output_type": "display_data"
    }
   ],
   "source": [
    "plt.plot(gen_time_list)\n",
    "\n",
    "plt.xlabel('generation')\n",
    "plt.ylabel('gen_time_list')\n",
    "plt.title('Experiment Result')\n",
    "\n",
    "plt.show()"
   ]
  },
  {
   "cell_type": "code",
   "execution_count": null,
   "metadata": {},
   "outputs": [],
   "source": []
  }
 ],
 "metadata": {
  "kernelspec": {
   "display_name": "Python 3",
   "language": "python",
   "name": "python3"
  },
  "language_info": {
   "codemirror_mode": {
    "name": "ipython",
    "version": 3
   },
   "file_extension": ".py",
   "mimetype": "text/x-python",
   "name": "python",
   "nbconvert_exporter": "python",
   "pygments_lexer": "ipython3",
   "version": "3.5.2"
  }
 },
 "nbformat": 4,
 "nbformat_minor": 2
}
