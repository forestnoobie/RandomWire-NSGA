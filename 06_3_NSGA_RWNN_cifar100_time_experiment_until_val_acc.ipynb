{
 "cells": [
  {
   "cell_type": "markdown",
   "metadata": {},
   "source": [
    "# CIFAR-100. val-accuracy 줄어들지 않을 때까지 학습시켜보기"
   ]
  },
  {
   "cell_type": "markdown",
   "metadata": {},
   "source": [
    "[Reference] https://pytorch.org/tutorials/intermediate/ddp_tutorial.html"
   ]
  },
  {
   "cell_type": "markdown",
   "metadata": {},
   "source": [
    "# Main"
   ]
  },
  {
   "cell_type": "code",
   "execution_count": 1,
   "metadata": {},
   "outputs": [],
   "source": [
    "import os\n",
    "import logging\n",
    "from easydict import EasyDict\n",
    "import numpy as np\n",
    "import random\n",
    "\n",
    "import time\n",
    "import datetime\n",
    "\n",
    "from deap import tools"
   ]
  },
  {
   "cell_type": "code",
   "execution_count": 2,
   "metadata": {},
   "outputs": [],
   "source": [
    "from utils_kyy.utils_graph import make_random_graph\n",
    "from utils_kyy.create_toolbox_cifar100 import create_toolbox_for_NSGA_RWNN"
   ]
  },
  {
   "cell_type": "markdown",
   "metadata": {},
   "source": [
    "## 1. generation pool 구성하기 (Small RWNN 대상)"
   ]
  },
  {
   "cell_type": "code",
   "execution_count": 3,
   "metadata": {},
   "outputs": [],
   "source": [
    "# 실험을 위한 환경 셋팅\n",
    "run_code = 'test_kyy_CIFAR100_time_check'\n",
    "stage_pool_path = './graph_pool' + '/' + run_code + '/'\n",
    "log_path = './logs/' + run_code + '/'\n",
    "\n",
    "# check & make the directory\n",
    "if not os.path.exists(stage_pool_path): os.makedirs(stage_pool_path)\n",
    "if not os.path.isdir(log_path): os.makedirs(log_path)\n",
    "\n",
    "# write the log\n",
    "log_file_name = log_path + 'logging.log'\n",
    "logging.basicConfig(filename=log_file_name, level=logging.INFO)\n",
    "logging.info('Start to write log.')"
   ]
  },
  {
   "cell_type": "code",
   "execution_count": 4,
   "metadata": {},
   "outputs": [
    {
     "name": "stdout",
     "output_type": "stream",
     "text": [
      "Start to make random graph pool...\n",
      "Finished\n"
     ]
    }
   ],
   "source": [
    "# make random graph pool\n",
    "num_graph = 100\n",
    "make_random_graph(num_graph, stage_pool_path)\n",
    "\n",
    "######################################################\n",
    "# => 최종적으로, num_graph와 stage_pool_path 를 인수로 받아서, 해당 path에 num_graph 수 만큼의 그래프 떨궈주는 함수 만들기\n",
    "#    일단은 정해진 graph_model은 'WS', K, P 는 인수로 받지 말고 구현\n",
    "#      =>  이후에 확장하기.\n",
    "######################################################"
   ]
  },
  {
   "cell_type": "markdown",
   "metadata": {},
   "source": [
    "## 2. Main NSGA_RWNN"
   ]
  },
  {
   "cell_type": "code",
   "execution_count": 5,
   "metadata": {},
   "outputs": [],
   "source": [
    "# define 'args_train' for evaluation\n",
    "args_train = EasyDict({\n",
    "    'lr_mode': 'cosine',\n",
    "    'warmup_mode': 'linear',    # default\n",
    "    'base_lr': 0.1,\n",
    "    'momentum': 0.9, \n",
    "    'weight_decay': 0.00005,\n",
    "    'print_freq': 100,\n",
    "\n",
    "    'epochs': -1,    # -1: val_accuracy가 증가하는 한 계속. 즉, 3 epoch 기다려보고 증가하지 않으면 멈추기.\n",
    "    'batch_size': 256,   # 128 => 256\n",
    "\n",
    "    'workers': 32,  # 2 => \n",
    "\n",
    "    'warmup_epochs': 0,\n",
    "    'warmup_lr': 0.0,\n",
    "    'targetlr': 0.0,\n",
    "\n",
    "})"
   ]
  },
  {
   "cell_type": "code",
   "execution_count": 6,
   "metadata": {},
   "outputs": [],
   "source": [
    "# create custom_toolbox\n",
    "# num_graph, args_train, stage_pool_path => to define the 'evaluate' function \n",
    "toolbox = create_toolbox_for_NSGA_RWNN(num_graph, args_train, stage_pool_path, log_file_name)"
   ]
  },
  {
   "cell_type": "code",
   "execution_count": 7,
   "metadata": {
    "scrolled": true
   },
   "outputs": [
    {
     "name": "stdout",
     "output_type": "stream",
     "text": [
      "Initialion starts ...\n",
      "Files already downloaded and verified\n",
      "Files already downloaded and verified\n",
      "\t - Epoch: [0][0/196]\tTime 14.505 (14.505)\tLoss 6.9288 (6.9288)\tPrec@1 0.000 (0.000)\tPrec@5 0.781 (0.781)\n",
      "\t - Epoch: [0][100/196]\tTime 0.690 (0.784)\tLoss 3.8885 (4.4187)\tPrec@1 9.766 (5.036)\tPrec@5 28.906 (19.086)\n",
      "##### Validation_time 15.225 Prec@1 15.570 Prec@5 41.120 #####\n",
      "\t - Epoch: [1][0/196]\tTime 7.577 (7.577)\tLoss 3.5685 (3.5685)\tPrec@1 14.062 (14.062)\tPrec@5 39.453 (39.453)\n",
      "\t - Epoch: [1][100/196]\tTime 0.627 (0.716)\tLoss 3.6931 (3.5705)\tPrec@1 12.109 (15.114)\tPrec@5 35.938 (39.817)\n",
      "##### Validation_time 14.597 Prec@1 13.250 Prec@5 36.820 #####\n",
      "\t - Epoch: [2][0/196]\tTime 6.056 (6.056)\tLoss 3.4154 (3.4154)\tPrec@1 15.234 (15.234)\tPrec@5 40.625 (40.625)\n",
      "\t - Epoch: [2][100/196]\tTime 0.663 (0.719)\tLoss 3.0281 (3.3016)\tPrec@1 27.734 (19.446)\tPrec@5 55.078 (47.567)\n",
      "##### Validation_time 14.813 Prec@1 29.940 Prec@5 60.320 #####\n",
      "gen\tevals\tmin                              \tmax                              \tevals_time\tgen_time\n",
      "0  \t1    \t[-2.99400000e+01  1.73641306e+09]\t[-2.99400000e+01  1.73641306e+09]\t          \t        \n",
      "Initialization is finished at 2019-08-22 02:25:59\n",
      "\n"
     ]
    }
   ],
   "source": [
    "\"\"\"\n",
    "4. Algorithms\n",
    " For the purpose of completeness we will develop the complete generational algorithm.\n",
    "\"\"\"\n",
    "\n",
    "POP_SIZE = 1    # population size\n",
    "NGEN = 1    # number of Generation\n",
    "CXPB = 0   # crossover probability \n",
    "MUTPB = 0    # mutation probability\n",
    "\n",
    "\n",
    "# log에 기록할 stats\n",
    "stats = tools.Statistics(lambda ind: ind.fitness.values)\n",
    "stats.register(\"min\", np.min, axis=0)\n",
    "stats.register(\"max\", np.max, axis=0)\n",
    "\n",
    "logbook = tools.Logbook()\n",
    "logbook.header = \"gen\", \"evals\", \"min\", \"max\", \"evals_time\", \"gen_time\"\n",
    "\n",
    "# population 생성.  (toolbox.population은 creator.Individual n개를 담은 list를 반환. (=> population)\n",
    "now = datetime.datetime.now()\n",
    "now_str = now.strftime('%Y-%m-%d %H:%M:%S')\n",
    "print(\"Initialion starts ...\")\n",
    "logging.info(\"Initialion starts at \" + now_str)\n",
    "init_start_time = time.time()\n",
    "\n",
    "pop = toolbox.population(n=POP_SIZE)\n",
    "\n",
    "# Evaluate the individuals with an invalid fitness\n",
    "invalid_ind = [ind for ind in pop if not ind.fitness.valid]\n",
    "fitnesses = toolbox.map(toolbox.evaluate, invalid_ind)    # .evaluate는 tuple을 반환. 따라서 fitnesses는 튜플을 원소로 가지는 list\n",
    "for ind, fit in zip(invalid_ind, fitnesses):\n",
    "    ind.fitness.values = fit   # ind.fitness.values = (val_accuracy, flops) 튜플\n",
    "\n",
    "# This is just to assign the crowding distance to the individuals\n",
    "# no actual selection is done\n",
    "pop = toolbox.select(pop, len(pop))\n",
    "\n",
    "record = stats.compile(pop)\n",
    "logbook.record(gen=0, evals=len(invalid_ind), **record)\n",
    "print(logbook.stream)\n",
    "\n",
    "now = datetime.datetime.now()\n",
    "now_str = now.strftime('%Y-%m-%d %H:%M:%S')\n",
    "print(\"Initialization is finished at\", now_str)\n",
    "logging.info(\"Initialion is finished at \" + now_str)\n",
    "\n",
    "init_time = time.time() - init_start_time\n",
    "logging.info(\"Initialion time = \" + str(init_time) + \"s\")\n",
    "\n",
    "\n",
    "print()\n",
    "\n",
    "# Begin the generational process\n",
    "for gen in range(1, NGEN):\n",
    "    now = datetime.datetime.now()\n",
    "    now_str = now.strftime('%Y-%m-%d %H:%M:%S')\n",
    "    print(\"#####\", gen, \"th generation starts at\", now_str)\n",
    "    logging.info(str(gen) + \"th generation starts at\" + now_str)\n",
    "    \n",
    "    start_gen = time.time()\n",
    "    # Vary the population\n",
    "    offspring = tools.selTournamentDCD(pop, len(pop))\n",
    "    offspring = [toolbox.clone(ind) for ind in offspring]\n",
    "\n",
    "    for ind1, ind2 in zip(offspring[::2], offspring[1::2]):\n",
    "        if random.random() <= CXPB:\n",
    "            toolbox.mate(ind1, ind2)\n",
    "\n",
    "        toolbox.mutate(ind1, indpb=MUTPB)\n",
    "        toolbox.mutate(ind2, indpb=MUTPB)\n",
    "        del ind1.fitness.values, ind2.fitness.values\n",
    "\n",
    "    # Evaluate the individuals with an invalid fitness\n",
    "    print(\"##### Evaluation starts\")\n",
    "    start_time = time.time()\n",
    "    \n",
    "    invalid_ind = [ind for ind in offspring if not ind.fitness.valid]\n",
    "    fitnesses = toolbox.map(toolbox.evaluate, invalid_ind)\n",
    "    for ind, fit in zip(invalid_ind, fitnesses):\n",
    "        ind.fitness.values = fit\n",
    "        \n",
    "    eval_time_for_one_generation = time.time() - start_time        \n",
    "    print(\"##### Evaluation ends (Time : %.3f)\" % eval_time_for_one_generation)\n",
    "    \n",
    "    # Select the next generation population\n",
    "    pop = toolbox.select(pop + offspring, POP_SIZE)\n",
    "    \n",
    "    gen_time = time.time() - start_gen\n",
    "    print('##### [gen_time: %.3fs]' % gen_time, gen, 'th generation is finished.')\n",
    "    \n",
    "    record = stats.compile(pop)\n",
    "    logbook.record(gen=gen, evals=len(invalid_ind), **record,\n",
    "                   evals_time=eval_time_for_one_generation, gen_time=gen_time)\n",
    "    \n",
    "    logging.info('Gen [%03d/%03d] -- evals: %03d, evals_time: %.4fs, gen_time: %.4fs' % (gen, NGEN, len(invalid_ind), eval_time_for_one_generation, gen_time))\n",
    "    print(logbook.stream)"
   ]
  },
  {
   "cell_type": "code",
   "execution_count": 8,
   "metadata": {},
   "outputs": [
    {
     "data": {
      "text/plain": [
       "[{'evals': 1,\n",
       "  'gen': 0,\n",
       "  'max': array([-2.99400000e+01,  1.73641306e+09]),\n",
       "  'min': array([-2.99400000e+01,  1.73641306e+09])}]"
      ]
     },
     "execution_count": 8,
     "metadata": {},
     "output_type": "execute_result"
    }
   ],
   "source": [
    "# Check logbook\n",
    "logbook"
   ]
  },
  {
   "cell_type": "code",
   "execution_count": null,
   "metadata": {},
   "outputs": [],
   "source": []
  },
  {
   "cell_type": "code",
   "execution_count": null,
   "metadata": {},
   "outputs": [],
   "source": []
  },
  {
   "cell_type": "code",
   "execution_count": null,
   "metadata": {},
   "outputs": [],
   "source": []
  },
  {
   "cell_type": "code",
   "execution_count": null,
   "metadata": {},
   "outputs": [],
   "source": []
  }
 ],
 "metadata": {
  "kernelspec": {
   "display_name": "Python 3",
   "language": "python",
   "name": "python3"
  },
  "language_info": {
   "codemirror_mode": {
    "name": "ipython",
    "version": 3
   },
   "file_extension": ".py",
   "mimetype": "text/x-python",
   "name": "python",
   "nbconvert_exporter": "python",
   "pygments_lexer": "ipython3",
   "version": "3.5.2"
  }
 },
 "nbformat": 4,
 "nbformat_minor": 2
}
