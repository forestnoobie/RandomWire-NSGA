{
 "cells": [
  {
   "cell_type": "markdown",
   "metadata": {},
   "source": [
    "# 06 => Cifar-10. 30 에폭 학습시켜보기. val_accuracy의 변화 추이 알아보기\n",
    "\n",
    "\n",
    "=> 이후에는 CIFAR-10, CIFAR-100, ImageNet dataset에 대해 validation accuracy 줄어들지 않을 때까지 몇 epoch 학습시켜야하며, 시간 얼마나 소요되는지 실험 진행해야함."
   ]
  },
  {
   "cell_type": "markdown",
   "metadata": {},
   "source": [
    "[Reference] https://pytorch.org/tutorials/intermediate/ddp_tutorial.html"
   ]
  },
  {
   "cell_type": "markdown",
   "metadata": {},
   "source": [
    "# Main"
   ]
  },
  {
   "cell_type": "code",
   "execution_count": 1,
   "metadata": {},
   "outputs": [],
   "source": [
    "import sys\n",
    "import os\n",
    "import logging\n",
    "from easydict import EasyDict\n",
    "import numpy as np\n",
    "import random\n",
    "\n",
    "import time\n",
    "import datetime\n",
    "\n",
    "from deap import tools"
   ]
  },
  {
   "cell_type": "code",
   "execution_count": 2,
   "metadata": {},
   "outputs": [],
   "source": [
    "sys.path.insert(0,'../')\n",
    "from utils_kyy.utils_graph import make_random_graph\n",
    "from utils_kyy.create_toolbox import create_toolbox_for_NSGA_RWNN"
   ]
  },
  {
   "cell_type": "markdown",
   "metadata": {},
   "source": [
    "## 1. generation pool 구성하기 (Small RWNN 대상)"
   ]
  },
  {
   "cell_type": "code",
   "execution_count": 3,
   "metadata": {},
   "outputs": [],
   "source": [
    "# 실험을 위한 환경 셋팅\n",
    "run_code = 'test_kyy_CIFAR10_time_check'\n",
    "stage_pool_path = '../graph_pool' + '/' + run_code + '/'\n",
    "log_path = '../logs/' + run_code + '/'\n",
    "\n",
    "# check & make the directory\n",
    "if not os.path.exists(stage_pool_path): os.makedirs(stage_pool_path)\n",
    "if not os.path.isdir(log_path): os.makedirs(log_path)\n",
    "\n",
    "# write the log\n",
    "log_file_name = log_path + 'logging.log'\n",
    "logging.basicConfig(filename=log_file_name, level=logging.INFO)\n",
    "logging.info('Start to write log.')"
   ]
  },
  {
   "cell_type": "code",
   "execution_count": 4,
   "metadata": {},
   "outputs": [
    {
     "name": "stdout",
     "output_type": "stream",
     "text": [
      "Start to make random graph pool...\n",
      "Finished\n"
     ]
    }
   ],
   "source": [
    "# make random graph pool\n",
    "num_graph = 100\n",
    "make_random_graph(num_graph, stage_pool_path)\n",
    "\n",
    "######################################################\n",
    "# => 최종적으로, num_graph와 stage_pool_path 를 인수로 받아서, 해당 path에 num_graph 수 만큼의 그래프 떨궈주는 함수 만들기\n",
    "#    일단은 정해진 graph_model은 'WS', K, P 는 인수로 받지 말고 구현\n",
    "#      =>  이후에 확장하기.\n",
    "######################################################"
   ]
  },
  {
   "cell_type": "markdown",
   "metadata": {},
   "source": [
    "## 2. Main NSGA_RWNN"
   ]
  },
  {
   "cell_type": "code",
   "execution_count": 5,
   "metadata": {},
   "outputs": [],
   "source": [
    "# define 'args_train' for evaluation\n",
    "args_train = EasyDict({\n",
    "    'lr_mode': 'cosine',\n",
    "    'warmup_mode': 'linear',    # default\n",
    "    'base_lr': 0.1,\n",
    "    'momentum': 0.9, \n",
    "    'weight_decay': 0.00005,\n",
    "    'print_freq': 100,\n",
    "\n",
    "    'epochs': 1,\n",
    "    'batch_size': 32,   # 128 => 256\n",
    "\n",
    "    'workers': 4,  # 2 => \n",
    "\n",
    "    'warmup_epochs': 0,\n",
    "    'warmup_lr': 0.0,\n",
    "    'targetlr': 0.0,\n",
    "\n",
    "})"
   ]
  },
  {
   "cell_type": "code",
   "execution_count": 6,
   "metadata": {
    "scrolled": true
   },
   "outputs": [],
   "source": [
    "# create custom_toolbox\n",
    "# num_graph, args_train, stage_pool_path => to define the 'evaluate' function \n",
    "\n",
    "data_path = 'D:/data/cifar10/'\n",
    "toolbox = create_toolbox_for_NSGA_RWNN(num_graph, args_train, stage_pool_path, data_path ,log_file_name)\n"
   ]
  },
  {
   "cell_type": "code",
   "execution_count": 7,
   "metadata": {
    "scrolled": false
   },
   "outputs": [
    {
     "name": "stdout",
     "output_type": "stream",
     "text": [
      "Initialion starts ...\n",
      "Files already downloaded and verified\n",
      "Files already downloaded and verified\n",
      "\t - Epoch: [0][0/1563]\tTime 7.287 (7.287)\tLoss 6.9324 (6.9324)\tPrec@1 0.000 (0.000)\tPrec@5 0.000 (0.000)\n",
      "\t - Epoch: [0][100/1563]\tTime 0.625 (0.649)\tLoss 2.2371 (2.5518)\tPrec@1 15.625 (15.625)\tPrec@5 78.125 (61.015)\n",
      "\t - Epoch: [0][200/1563]\tTime 0.595 (0.617)\tLoss 1.8860 (2.3488)\tPrec@1 25.000 (17.864)\tPrec@5 93.750 (68.097)\n",
      "\t - Epoch: [0][300/1563]\tTime 0.564 (0.605)\tLoss 2.1227 (2.2472)\tPrec@1 18.750 (19.923)\tPrec@5 75.000 (71.865)\n",
      "\t - Epoch: [0][400/1563]\tTime 0.562 (0.601)\tLoss 2.0643 (2.1770)\tPrec@1 21.875 (21.766)\tPrec@5 81.250 (74.213)\n",
      "\t - Epoch: [0][500/1563]\tTime 0.579 (0.598)\tLoss 1.8191 (2.1159)\tPrec@1 40.625 (23.646)\tPrec@5 84.375 (75.979)\n",
      "\t - Epoch: [0][600/1563]\tTime 0.565 (0.595)\tLoss 1.6630 (2.0713)\tPrec@1 31.250 (24.808)\tPrec@5 90.625 (77.262)\n",
      "\t - Epoch: [0][700/1563]\tTime 0.594 (0.594)\tLoss 1.8579 (2.0295)\tPrec@1 28.125 (26.092)\tPrec@5 81.250 (78.504)\n",
      "\t - Epoch: [0][800/1563]\tTime 0.643 (0.593)\tLoss 1.7586 (1.9930)\tPrec@1 34.375 (27.380)\tPrec@5 90.625 (79.639)\n",
      "\t - Epoch: [0][900/1563]\tTime 0.580 (0.591)\tLoss 1.7611 (1.9601)\tPrec@1 34.375 (28.451)\tPrec@5 81.250 (80.657)\n",
      "\t - Epoch: [0][1000/1563]\tTime 0.580 (0.590)\tLoss 1.5053 (1.9259)\tPrec@1 50.000 (29.586)\tPrec@5 90.625 (81.531)\n",
      "\t - Epoch: [0][1100/1563]\tTime 0.579 (0.589)\tLoss 1.4142 (1.8941)\tPrec@1 50.000 (30.762)\tPrec@5 96.875 (82.331)\n",
      "\t - Epoch: [0][1200/1563]\tTime 0.565 (0.588)\tLoss 1.6214 (1.8646)\tPrec@1 43.750 (31.776)\tPrec@5 87.500 (83.056)\n",
      "\t - Epoch: [0][1300/1563]\tTime 0.564 (0.588)\tLoss 1.2948 (1.8371)\tPrec@1 40.625 (32.804)\tPrec@5 87.500 (83.688)\n",
      "\t - Epoch: [0][1400/1563]\tTime 0.549 (0.587)\tLoss 1.5847 (1.8095)\tPrec@1 43.750 (33.840)\tPrec@5 84.375 (84.317)\n",
      "\t - Epoch: [0][1500/1563]\tTime 0.564 (0.587)\tLoss 1.4951 (1.7867)\tPrec@1 43.750 (34.637)\tPrec@5 90.625 (84.816)\n",
      "##### Validation_time 47.916 Prec@1 48.900 Prec@5 92.550 #####\n",
      "Files already downloaded and verified\n",
      "Files already downloaded and verified\n",
      "\t - Epoch: [0][0/1563]\tTime 6.665 (6.665)\tLoss 6.7934 (6.7934)\tPrec@1 0.000 (0.000)\tPrec@5 0.000 (0.000)\n",
      "\t - Epoch: [0][100/1563]\tTime 0.453 (0.537)\tLoss 2.2687 (2.6342)\tPrec@1 21.875 (13.490)\tPrec@5 53.125 (53.929)\n",
      "\t - Epoch: [0][200/1563]\tTime 0.486 (0.507)\tLoss 2.2416 (2.4315)\tPrec@1 31.250 (15.625)\tPrec@5 65.625 (61.412)\n",
      "\t - Epoch: [0][300/1563]\tTime 0.470 (0.498)\tLoss 2.0028 (2.3015)\tPrec@1 31.250 (18.137)\tPrec@5 71.875 (66.902)\n",
      "\t - Epoch: [0][400/1563]\tTime 0.547 (0.493)\tLoss 1.8059 (2.2176)\tPrec@1 34.375 (19.966)\tPrec@5 84.375 (70.340)\n",
      "\t - Epoch: [0][500/1563]\tTime 0.474 (0.491)\tLoss 1.8364 (2.1512)\tPrec@1 21.875 (21.538)\tPrec@5 87.500 (72.748)\n",
      "\t - Epoch: [0][600/1563]\tTime 0.526 (0.497)\tLoss 1.6803 (2.1027)\tPrec@1 34.375 (23.118)\tPrec@5 81.250 (74.657)\n",
      "\t - Epoch: [0][700/1563]\tTime 0.491 (0.500)\tLoss 1.7694 (2.0513)\tPrec@1 31.250 (24.795)\tPrec@5 84.375 (76.418)\n",
      "\t - Epoch: [0][800/1563]\tTime 0.488 (0.507)\tLoss 1.8362 (2.0067)\tPrec@1 34.375 (26.455)\tPrec@5 81.250 (77.875)\n",
      "\t - Epoch: [0][900/1563]\tTime 0.488 (0.507)\tLoss 1.7174 (1.9702)\tPrec@1 40.625 (27.757)\tPrec@5 84.375 (78.978)\n",
      "\t - Epoch: [0][1000/1563]\tTime 0.582 (0.509)\tLoss 1.5673 (1.9317)\tPrec@1 40.625 (29.074)\tPrec@5 93.750 (79.958)\n",
      "\t - Epoch: [0][1100/1563]\tTime 0.588 (0.509)\tLoss 1.6804 (1.8968)\tPrec@1 37.500 (30.262)\tPrec@5 81.250 (80.909)\n",
      "\t - Epoch: [0][1200/1563]\tTime 0.480 (0.509)\tLoss 1.4875 (1.8646)\tPrec@1 50.000 (31.380)\tPrec@5 90.625 (81.835)\n",
      "\t - Epoch: [0][1300/1563]\tTime 0.470 (0.509)\tLoss 1.4331 (1.8316)\tPrec@1 50.000 (32.653)\tPrec@5 87.500 (82.636)\n",
      "\t - Epoch: [0][1400/1563]\tTime 0.547 (0.509)\tLoss 1.0946 (1.8031)\tPrec@1 62.500 (33.713)\tPrec@5 100.000 (83.318)\n",
      "\t - Epoch: [0][1500/1563]\tTime 0.497 (0.508)\tLoss 1.4306 (1.7753)\tPrec@1 46.875 (34.787)\tPrec@5 93.750 (83.963)\n",
      "##### Validation_time 39.226 Prec@1 50.590 Prec@5 93.880 #####\n",
      "Files already downloaded and verified\n",
      "Files already downloaded and verified\n",
      "\t - Epoch: [0][0/1563]\tTime 6.706 (6.706)\tLoss 6.8662 (6.8662)\tPrec@1 0.000 (0.000)\tPrec@5 0.000 (0.000)\n",
      "\t - Epoch: [0][100/1563]\tTime 0.428 (0.492)\tLoss 2.0828 (2.5382)\tPrec@1 21.875 (15.873)\tPrec@5 75.000 (64.325)\n",
      "\t - Epoch: [0][200/1563]\tTime 0.412 (0.457)\tLoss 2.1063 (2.3293)\tPrec@1 21.875 (18.688)\tPrec@5 71.875 (70.134)\n",
      "\t - Epoch: [0][300/1563]\tTime 0.415 (0.447)\tLoss 2.0320 (2.2281)\tPrec@1 18.750 (20.608)\tPrec@5 78.125 (73.328)\n",
      "\t - Epoch: [0][400/1563]\tTime 0.410 (0.441)\tLoss 2.0311 (2.1508)\tPrec@1 25.000 (22.498)\tPrec@5 78.125 (75.678)\n",
      "\t - Epoch: [0][500/1563]\tTime 0.396 (0.438)\tLoss 1.7229 (2.0997)\tPrec@1 43.750 (23.859)\tPrec@5 84.375 (77.096)\n",
      "\t - Epoch: [0][600/1563]\tTime 0.409 (0.436)\tLoss 1.7488 (2.0569)\tPrec@1 37.500 (25.255)\tPrec@5 84.375 (78.229)\n",
      "\t - Epoch: [0][700/1563]\tTime 0.425 (0.434)\tLoss 1.6025 (2.0219)\tPrec@1 34.375 (26.409)\tPrec@5 93.750 (79.039)\n",
      "\t - Epoch: [0][800/1563]\tTime 0.409 (0.433)\tLoss 1.4974 (1.9878)\tPrec@1 34.375 (27.446)\tPrec@5 96.875 (80.072)\n",
      "\t - Epoch: [0][900/1563]\tTime 0.437 (0.431)\tLoss 1.9038 (1.9564)\tPrec@1 28.125 (28.406)\tPrec@5 78.125 (80.837)\n",
      "\t - Epoch: [0][1000/1563]\tTime 0.472 (0.430)\tLoss 1.8803 (1.9255)\tPrec@1 28.125 (29.530)\tPrec@5 78.125 (81.684)\n",
      "\t - Epoch: [0][1100/1563]\tTime 0.442 (0.430)\tLoss 1.8592 (1.8958)\tPrec@1 40.625 (30.504)\tPrec@5 87.500 (82.394)\n",
      "\t - Epoch: [0][1200/1563]\tTime 0.418 (0.430)\tLoss 1.7181 (1.8678)\tPrec@1 31.250 (31.482)\tPrec@5 87.500 (83.074)\n",
      "\t - Epoch: [0][1300/1563]\tTime 0.407 (0.429)\tLoss 1.9485 (1.8439)\tPrec@1 31.250 (32.374)\tPrec@5 78.125 (83.642)\n",
      "\t - Epoch: [0][1400/1563]\tTime 0.412 (0.428)\tLoss 1.2778 (1.8167)\tPrec@1 46.875 (33.443)\tPrec@5 96.875 (84.261)\n",
      "\t - Epoch: [0][1500/1563]\tTime 0.416 (0.428)\tLoss 1.5326 (1.7936)\tPrec@1 43.750 (34.288)\tPrec@5 90.625 (84.775)\n",
      "##### Validation_time 35.288 Prec@1 48.120 Prec@5 92.930 #####\n",
      "Files already downloaded and verified\n",
      "Files already downloaded and verified\n",
      "\t - Epoch: [0][0/1563]\tTime 6.668 (6.668)\tLoss 6.9526 (6.9526)\tPrec@1 0.000 (0.000)\tPrec@5 0.000 (0.000)\n",
      "\t - Epoch: [0][100/1563]\tTime 0.355 (0.464)\tLoss 2.0009 (2.5613)\tPrec@1 28.125 (15.934)\tPrec@5 81.250 (63.490)\n",
      "\t - Epoch: [0][200/1563]\tTime 0.467 (0.434)\tLoss 2.1031 (2.3617)\tPrec@1 28.125 (17.537)\tPrec@5 65.625 (68.455)\n",
      "\t - Epoch: [0][300/1563]\tTime 0.375 (0.421)\tLoss 2.0635 (2.2597)\tPrec@1 12.500 (19.414)\tPrec@5 78.125 (71.740)\n",
      "\t - Epoch: [0][400/1563]\tTime 0.375 (0.415)\tLoss 1.8904 (2.1848)\tPrec@1 28.125 (21.665)\tPrec@5 84.375 (73.652)\n",
      "\t - Epoch: [0][500/1563]\tTime 0.384 (0.413)\tLoss 1.8684 (2.1242)\tPrec@1 34.375 (23.478)\tPrec@5 78.125 (75.717)\n",
      "\t - Epoch: [0][600/1563]\tTime 0.451 (0.412)\tLoss 1.7331 (2.0767)\tPrec@1 40.625 (24.870)\tPrec@5 93.750 (77.158)\n",
      "\t - Epoch: [0][700/1563]\tTime 0.378 (0.409)\tLoss 1.6657 (2.0353)\tPrec@1 37.500 (26.217)\tPrec@5 93.750 (78.357)\n",
      "\t - Epoch: [0][800/1563]\tTime 0.364 (0.407)\tLoss 1.7915 (1.9965)\tPrec@1 31.250 (27.353)\tPrec@5 87.500 (79.549)\n",
      "\t - Epoch: [0][900/1563]\tTime 0.369 (0.405)\tLoss 1.7021 (1.9647)\tPrec@1 34.375 (28.285)\tPrec@5 87.500 (80.452)\n",
      "\t - Epoch: [0][1000/1563]\tTime 0.361 (0.406)\tLoss 1.6684 (1.9313)\tPrec@1 21.875 (29.439)\tPrec@5 90.625 (81.384)\n",
      "\t - Epoch: [0][1100/1563]\tTime 0.377 (0.405)\tLoss 1.6767 (1.9029)\tPrec@1 34.375 (30.384)\tPrec@5 90.625 (82.138)\n",
      "\t - Epoch: [0][1200/1563]\tTime 0.386 (0.405)\tLoss 1.5037 (1.8727)\tPrec@1 50.000 (31.456)\tPrec@5 87.500 (82.915)\n",
      "\t - Epoch: [0][1300/1563]\tTime 0.435 (0.404)\tLoss 1.3939 (1.8460)\tPrec@1 37.500 (32.326)\tPrec@5 96.875 (83.546)\n",
      "\t - Epoch: [0][1400/1563]\tTime 0.378 (0.404)\tLoss 1.4099 (1.8195)\tPrec@1 59.375 (33.257)\tPrec@5 90.625 (84.116)\n",
      "\t - Epoch: [0][1500/1563]\tTime 0.452 (0.403)\tLoss 1.5144 (1.7977)\tPrec@1 43.750 (34.042)\tPrec@5 90.625 (84.654)\n",
      "##### Validation_time 32.158 Prec@1 47.790 Prec@5 92.930 #####\n",
      "gen\tevals\tmin                              \tmax                              \tevals_time\tgen_time\n",
      "0  \t4    \t[-5.05900000e+01  7.92123008e+08]\t[-4.77900000e+01  9.94054464e+08]\t          \t        \n",
      "Initialization is finished at 2019-10-04 13:12:46\n",
      "\n"
     ]
    }
   ],
   "source": [
    "\"\"\"\n",
    "4. Algorithms\n",
    " For the purpose of completeness we will develop the complete generational algorithm.\n",
    "\"\"\"\n",
    "\n",
    "POP_SIZE = 4    # population size\n",
    "NGEN = 1    # number of Generation\n",
    "CXPB = 0.5    # crossover probability \n",
    "MUTPB = 0.5    # mutation probability\n",
    "\n",
    "\n",
    "# log에 기록할 stats\n",
    "stats = tools.Statistics(lambda ind: ind.fitness.values)\n",
    "stats.register(\"min\", np.min, axis=0)\n",
    "stats.register(\"max\", np.max, axis=0)\n",
    "\n",
    "logbook = tools.Logbook()\n",
    "logbook.header = \"gen\", \"evals\", \"min\", \"max\", \"evals_time\", \"gen_time\"\n",
    "\n",
    "# population 생성.  (toolbox.population은 creator.Individual n개를 담은 list를 반환. (=> population)\n",
    "now = datetime.datetime.now()\n",
    "now_str = now.strftime('%Y-%m-%d %H:%M:%S')\n",
    "print(\"Initialion starts ...\")\n",
    "logging.info(\"Initialion starts at \" + now_str)\n",
    "init_start_time = time.time()\n",
    "\n",
    "pop = toolbox.population(n=POP_SIZE)\n",
    "\n",
    "# Evaluate the individuals with an invalid fitness\n",
    "invalid_ind = [ind for ind in pop if not ind.fitness.valid]\n",
    "fitnesses = toolbox.map(toolbox.evaluate, invalid_ind)    # .evaluate는 tuple을 반환. 따라서 fitnesses는 튜플을 원소로 가지는 list\n",
    "for ind, fit in zip(invalid_ind, fitnesses):\n",
    "    ind.fitness.values = fit   # ind.fitness.values = (val_accuracy, flops) 튜플\n",
    "\n",
    "# This is just to assign the crowding distance to the individuals\n",
    "# no actual selection is done\n",
    "pop = toolbox.select(pop, len(pop))\n",
    "\n",
    "record = stats.compile(pop)\n",
    "logbook.record(gen=0, evals=len(invalid_ind), **record)\n",
    "print(logbook.stream)\n",
    "\n",
    "now = datetime.datetime.now()\n",
    "now_str = now.strftime('%Y-%m-%d %H:%M:%S')\n",
    "print(\"Initialization is finished at\", now_str)\n",
    "logging.info(\"Initialion is finished at \" + now_str)\n",
    "\n",
    "init_time = time.time() - init_start_time\n",
    "logging.info(\"Initialion time = \" + str(init_time) + \"s\")\n",
    "\n",
    "\n",
    "print()\n",
    "\n",
    "# Begin the generational process\n",
    "for gen in range(1, NGEN):\n",
    "    now = datetime.datetime.now()\n",
    "    now_str = now.strftime('%Y-%m-%d %H:%M:%S')\n",
    "    print(\"#####\", gen, \"th generation starts at\", now_str)\n",
    "    logging.info(str(gen) + \"th generation starts at\" + now_str)\n",
    "    \n",
    "    start_gen = time.time()\n",
    "    # Vary the population\n",
    "    offspring = tools.selTournamentDCD(pop, len(pop))\n",
    "    offspring = [toolbox.clone(ind) for ind in offspring]\n",
    "\n",
    "    for ind1, ind2 in zip(offspring[::2], offspring[1::2]):\n",
    "        if random.random() <= CXPB:\n",
    "            toolbox.mate(ind1, ind2)\n",
    "\n",
    "        toolbox.mutate(ind1, indpb=MUTPB)\n",
    "        toolbox.mutate(ind2, indpb=MUTPB)\n",
    "        del ind1.fitness.values, ind2.fitness.values\n",
    "\n",
    "    # Evaluate the individuals with an invalid fitness\n",
    "    print(\"##### Evaluation starts\")\n",
    "    start_time = time.time()\n",
    "    \n",
    "    invalid_ind = [ind for ind in offspring if not ind.fitness.valid]\n",
    "    fitnesses = toolbox.map(toolbox.evaluate, invalid_ind)\n",
    "    for ind, fit in zip(invalid_ind, fitnesses):\n",
    "        ind.fitness.values = fit\n",
    "        \n",
    "    eval_time_for_one_generation = time.time() - start_time        \n",
    "    print(\"##### Evaluation ends (Time : %.3f)\" % eval_time_for_one_generation)\n",
    "    \n",
    "    # Select the next generation population\n",
    "    pop = toolbox.select(pop + offspring, POP_SIZE)\n",
    "    \n",
    "    gen_time = time.time() - start_gen\n",
    "    print('##### [gen_time: %.3fs]' % gen_time, gen, 'th generation is finished.')\n",
    "    \n",
    "    record = stats.compile(pop)\n",
    "    logbook.record(gen=gen, evals=len(invalid_ind), **record,\n",
    "                   evals_time=eval_time_for_one_generation, gen_time=gen_time)\n",
    "    \n",
    "    logging.info('Gen [%03d/%03d] -- evals: %03d, evals_time: %.4fs, gen_time: %.4fs' % (gen, NGEN, len(invalid_ind), eval_time_for_one_generation, gen_time))\n",
    "    print(logbook.stream)"
   ]
  },
  {
   "cell_type": "code",
   "execution_count": 8,
   "metadata": {},
   "outputs": [
    {
     "data": {
      "text/plain": [
       "[{'gen': 0,\n",
       "  'evals': 4,\n",
       "  'min': array([-5.05900000e+01,  7.92123008e+08]),\n",
       "  'max': array([-4.77900000e+01,  9.94054464e+08])}]"
      ]
     },
     "execution_count": 8,
     "metadata": {},
     "output_type": "execute_result"
    }
   ],
   "source": [
    "# Check logbook\n",
    "logbook"
   ]
  },
  {
   "cell_type": "code",
   "execution_count": null,
   "metadata": {},
   "outputs": [],
   "source": []
  },
  {
   "cell_type": "code",
   "execution_count": null,
   "metadata": {},
   "outputs": [],
   "source": []
  },
  {
   "cell_type": "code",
   "execution_count": null,
   "metadata": {},
   "outputs": [],
   "source": []
  },
  {
   "cell_type": "markdown",
   "metadata": {},
   "source": [
    "### logbook - plot"
   ]
  },
  {
   "cell_type": "code",
   "execution_count": 9,
   "metadata": {},
   "outputs": [
    {
     "data": {
      "text/plain": [
       "deap.tools.support.Logbook"
      ]
     },
     "execution_count": 9,
     "metadata": {},
     "output_type": "execute_result"
    }
   ],
   "source": [
    "type(logbook)"
   ]
  },
  {
   "cell_type": "code",
   "execution_count": 10,
   "metadata": {},
   "outputs": [
    {
     "data": {
      "text/plain": [
       "1"
      ]
     },
     "execution_count": 10,
     "metadata": {},
     "output_type": "execute_result"
    }
   ],
   "source": [
    "len(logbook)"
   ]
  },
  {
   "cell_type": "code",
   "execution_count": 11,
   "metadata": {},
   "outputs": [
    {
     "data": {
      "text/plain": [
       "{'gen': 0,\n",
       " 'evals': 4,\n",
       " 'min': array([-5.05900000e+01,  7.92123008e+08]),\n",
       " 'max': array([-4.77900000e+01,  9.94054464e+08])}"
      ]
     },
     "execution_count": 11,
     "metadata": {},
     "output_type": "execute_result"
    }
   ],
   "source": [
    "logbook[0]"
   ]
  },
  {
   "cell_type": "code",
   "execution_count": 12,
   "metadata": {},
   "outputs": [
    {
     "data": {
      "text/plain": [
       "array([-5.05900000e+01,  7.92123008e+08])"
      ]
     },
     "execution_count": 12,
     "metadata": {},
     "output_type": "execute_result"
    }
   ],
   "source": [
    "logbook[0]['min']"
   ]
  },
  {
   "cell_type": "code",
   "execution_count": 13,
   "metadata": {},
   "outputs": [
    {
     "data": {
      "text/plain": [
       "(50.59, 792123008.0)"
      ]
     },
     "execution_count": 13,
     "metadata": {},
     "output_type": "execute_result"
    }
   ],
   "source": [
    "-logbook[0]['min'][0], logbook[0]['min'][1]"
   ]
  },
  {
   "cell_type": "code",
   "execution_count": 14,
   "metadata": {},
   "outputs": [],
   "source": [
    "min_val_acc = []\n",
    "min_flops = []\n",
    "\n",
    "max_val_acc = []\n",
    "max_flops = []\n",
    "\n",
    "for i in range(len(logbook)):\n",
    "    min_val_acc_i, min_flops_i = -logbook[i]['min'][0], logbook[i]['min'][1]\n",
    "    max_val_acc_i, max_flops_i = -logbook[i]['max'][0], logbook[i]['max'][1]\n",
    "    \n",
    "    min_val_acc.append(min_val_acc_i)\n",
    "    min_flops.append(min_flops_i)\n",
    "    max_val_acc.append(max_val_acc_i)\n",
    "    max_flops.append(max_flops_i)    "
   ]
  },
  {
   "cell_type": "code",
   "execution_count": 15,
   "metadata": {},
   "outputs": [
    {
     "ename": "ModuleNotFoundError",
     "evalue": "No module named 'matplotlib'",
     "output_type": "error",
     "traceback": [
      "\u001b[1;31m---------------------------------------------------------------------------\u001b[0m",
      "\u001b[1;31mModuleNotFoundError\u001b[0m                       Traceback (most recent call last)",
      "\u001b[1;32m<ipython-input-15-b5c1b06a2025>\u001b[0m in \u001b[0;36m<module>\u001b[1;34m\u001b[0m\n\u001b[1;32m----> 1\u001b[1;33m \u001b[1;32mfrom\u001b[0m \u001b[0mmatplotlib\u001b[0m \u001b[1;32mimport\u001b[0m \u001b[0mpyplot\u001b[0m \u001b[1;32mas\u001b[0m \u001b[0mplt\u001b[0m\u001b[1;33m\u001b[0m\u001b[1;33m\u001b[0m\u001b[0m\n\u001b[0m\u001b[0;32m      2\u001b[0m \u001b[0mget_ipython\u001b[0m\u001b[1;33m(\u001b[0m\u001b[1;33m)\u001b[0m\u001b[1;33m.\u001b[0m\u001b[0mrun_line_magic\u001b[0m\u001b[1;33m(\u001b[0m\u001b[1;34m'matplotlib'\u001b[0m\u001b[1;33m,\u001b[0m \u001b[1;34m'inline'\u001b[0m\u001b[1;33m)\u001b[0m\u001b[1;33m\u001b[0m\u001b[1;33m\u001b[0m\u001b[0m\n",
      "\u001b[1;31mModuleNotFoundError\u001b[0m: No module named 'matplotlib'"
     ]
    }
   ],
   "source": [
    "from matplotlib import pyplot as plt\n",
    "%matplotlib inline"
   ]
  },
  {
   "cell_type": "code",
   "execution_count": 17,
   "metadata": {},
   "outputs": [
    {
     "ename": "NameError",
     "evalue": "name 'plt' is not defined",
     "output_type": "error",
     "traceback": [
      "\u001b[1;31m---------------------------------------------------------------------------\u001b[0m",
      "\u001b[1;31mNameError\u001b[0m                                 Traceback (most recent call last)",
      "\u001b[1;32m<ipython-input-17-9d4627e96185>\u001b[0m in \u001b[0;36m<module>\u001b[1;34m\u001b[0m\n\u001b[0;32m      1\u001b[0m \u001b[1;31m# NSGA-2가 제대로 동작함을 알 수 있음.\u001b[0m\u001b[1;33m\u001b[0m\u001b[1;33m\u001b[0m\u001b[1;33m\u001b[0m\u001b[0m\n\u001b[1;32m----> 2\u001b[1;33m \u001b[0mplt\u001b[0m\u001b[1;33m.\u001b[0m\u001b[0mplot\u001b[0m\u001b[1;33m(\u001b[0m\u001b[0mmin_val_acc\u001b[0m\u001b[1;33m,\u001b[0m \u001b[0mmin_flops\u001b[0m\u001b[1;33m)\u001b[0m\u001b[1;33m\u001b[0m\u001b[1;33m\u001b[0m\u001b[0m\n\u001b[0m\u001b[0;32m      3\u001b[0m \u001b[1;33m\u001b[0m\u001b[0m\n\u001b[0;32m      4\u001b[0m \u001b[0mplt\u001b[0m\u001b[1;33m.\u001b[0m\u001b[0mxlabel\u001b[0m\u001b[1;33m(\u001b[0m\u001b[1;34m'min_val_acc'\u001b[0m\u001b[1;33m)\u001b[0m\u001b[1;33m\u001b[0m\u001b[1;33m\u001b[0m\u001b[0m\n\u001b[0;32m      5\u001b[0m \u001b[0mplt\u001b[0m\u001b[1;33m.\u001b[0m\u001b[0mylabel\u001b[0m\u001b[1;33m(\u001b[0m\u001b[1;34m'min_flops'\u001b[0m\u001b[1;33m)\u001b[0m\u001b[1;33m\u001b[0m\u001b[1;33m\u001b[0m\u001b[0m\n",
      "\u001b[1;31mNameError\u001b[0m: name 'plt' is not defined"
     ]
    }
   ],
   "source": [
    "# NSGA-2가 제대로 동작함을 알 수 있음.\n",
    "plt.plot(min_val_acc, min_flops)\n",
    "\n",
    "plt.xlabel('min_val_acc')\n",
    "plt.ylabel('min_flops')\n",
    "plt.title('Experiment Result')\n",
    "\n",
    "plt.show()"
   ]
  },
  {
   "cell_type": "code",
   "execution_count": null,
   "metadata": {},
   "outputs": [],
   "source": [
    "# gen time 확인\n",
    "gen_time_list = []\n",
    "\n",
    "for i in range(1, len(logbook)):\n",
    "    # 첫번째 initialize 에는 gen_time이 없음\n",
    "    gen_time_i = logbook[i]['gen_time']\n",
    "    gen_time_list.append(gen_time_i)"
   ]
  },
  {
   "cell_type": "code",
   "execution_count": null,
   "metadata": {},
   "outputs": [],
   "source": [
    "plt.plot(gen_time_list)\n",
    "\n",
    "plt.xlabel('generation')\n",
    "plt.ylabel('gen_time_list')\n",
    "plt.title('Experiment Result')\n",
    "\n",
    "plt.show()"
   ]
  },
  {
   "cell_type": "code",
   "execution_count": null,
   "metadata": {},
   "outputs": [],
   "source": []
  }
 ],
 "metadata": {
  "kernelspec": {
   "display_name": "'newrw'",
   "language": "python",
   "name": "newrw"
  },
  "language_info": {
   "codemirror_mode": {
    "name": "ipython",
    "version": 3
   },
   "file_extension": ".py",
   "mimetype": "text/x-python",
   "name": "python",
   "nbconvert_exporter": "python",
   "pygments_lexer": "ipython3",
   "version": "3.6.7"
  },
  "toc": {
   "base_numbering": 1,
   "nav_menu": {},
   "number_sections": true,
   "sideBar": true,
   "skip_h1_title": false,
   "title_cell": "Table of Contents",
   "title_sidebar": "Contents",
   "toc_cell": false,
   "toc_position": {},
   "toc_section_display": true,
   "toc_window_display": false
  }
 },
 "nbformat": 4,
 "nbformat_minor": 2
}
