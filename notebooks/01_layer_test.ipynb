{
 "cells": [
  {
   "cell_type": "markdown",
   "metadata": {},
   "source": [
    "### torch.nn.Parameter\n",
    "\n",
    "- model.py / Node_OP class 에서 input 받아올 때"
   ]
  },
  {
   "cell_type": "code",
   "execution_count": 3,
   "metadata": {},
   "outputs": [],
   "source": [
    "# origin source\n",
    "# self.mean_weight = nn.Parameter(torch.ones(self.input_nums))\n",
    "# self.sigmoid = nn.Sigmoid()"
   ]
  },
  {
   "cell_type": "code",
   "execution_count": 5,
   "metadata": {},
   "outputs": [],
   "source": [
    "import torch\n",
    "import torch.nn as nn"
   ]
  },
  {
   "cell_type": "code",
   "execution_count": 6,
   "metadata": {},
   "outputs": [],
   "source": [
    "input_nums = 10\n",
    "temp = nn.Parameter(torch.ones(input_nums))"
   ]
  },
  {
   "cell_type": "code",
   "execution_count": 9,
   "metadata": {},
   "outputs": [
    {
     "name": "stdout",
     "output_type": "stream",
     "text": [
      "<class 'torch.nn.parameter.Parameter'>\n",
      "torch.Size([10])\n"
     ]
    },
    {
     "data": {
      "text/plain": [
       "Parameter containing:\n",
       "tensor([1., 1., 1., 1., 1., 1., 1., 1., 1., 1.], requires_grad=True)"
      ]
     },
     "execution_count": 9,
     "metadata": {},
     "output_type": "execute_result"
    }
   ],
   "source": [
    "print(type(temp))\n",
    "print(temp.shape)\n",
    "temp"
   ]
  },
  {
   "cell_type": "code",
   "execution_count": 10,
   "metadata": {},
   "outputs": [
    {
     "data": {
      "text/plain": [
       "tensor(1., grad_fn=<SelectBackward>)"
      ]
     },
     "execution_count": 10,
     "metadata": {},
     "output_type": "execute_result"
    }
   ],
   "source": [
    "temp[0]"
   ]
  },
  {
   "cell_type": "code",
   "execution_count": 18,
   "metadata": {},
   "outputs": [
    {
     "data": {
      "text/plain": [
       "tensor(0.7311, grad_fn=<SigmoidBackward>)"
      ]
     },
     "execution_count": 18,
     "metadata": {},
     "output_type": "execute_result"
    }
   ],
   "source": [
    "nn.Sigmoid()(temp[0])"
   ]
  },
  {
   "cell_type": "code",
   "execution_count": 19,
   "metadata": {
    "scrolled": true
   },
   "outputs": [
    {
     "data": {
      "text/plain": [
       "tensor([0.7311])"
      ]
     },
     "execution_count": 19,
     "metadata": {},
     "output_type": "execute_result"
    }
   ],
   "source": [
    "nn.Sigmoid()(torch.ones(1))"
   ]
  },
  {
   "cell_type": "markdown",
   "metadata": {},
   "source": [
    "# utils_graph.py의 함수들"
   ]
  },
  {
   "cell_type": "code",
   "execution_count": 20,
   "metadata": {},
   "outputs": [],
   "source": [
    "import networkx as nx\n",
    "import collections"
   ]
  },
  {
   "cell_type": "code",
   "execution_count": null,
   "metadata": {},
   "outputs": [],
   "source": [
    "Node = collections.namedtuple('Node', ['id', 'inputs', 'type'])\n",
    "\n",
    "def get_graph_info(graph):\n",
    "  input_nodes = []\n",
    "  output_nodes = []\n",
    "  Nodes = []\n",
    "  for node in range(graph.number_of_nodes()):\n",
    "    tmp = list(graph.neighbors(node))\n",
    "    tmp.sort()\n",
    "    type = -1\n",
    "    if node < tmp[0]:\n",
    "      input_nodes.append(node)\n",
    "      type = 0\n",
    "    if node > tmp[-1]:\n",
    "      output_nodes.append(node)\n",
    "      type = 1\n",
    "    Nodes.append(Node(node, [n for n in tmp if n < node], type))\n",
    "  return Nodes, input_nodes, output_nodes\n",
    "\n",
    "\n",
    "def build_graph(Nodes, args):\n",
    "  if args.graph_model == 'ER':\n",
    "    return nx.random_graphs.erdos_renyi_graph(Nodes, args.P, args.seed)\n",
    "  elif args.graph_model == 'BA':\n",
    "    return nx.random_graphs.barabasi_albert_graph(Nodes, args.M, args.seed)\n",
    "  elif args.graph_model == 'WS':\n",
    "    return nx.random_graphs.connected_watts_strogatz_graph(Nodes, args.K, args.P, tries=200, seed=args.seed)\n",
    "\n",
    "\n",
    "def save_graph(graph, path):\n",
    "  nx.write_yaml(graph, path)\n",
    "\n",
    "\n",
    "def load_graph(path):\n",
    "  return nx.read_yaml(path)"
   ]
  },
  {
   "cell_type": "code",
   "execution_count": 29,
   "metadata": {},
   "outputs": [],
   "source": [
    "# build_graph\n",
    "nodes = 32\n",
    "P = 0.75\n",
    "K = 4\n",
    "seed = 1\n",
    "save_path = './graph_ER.yaml'\n",
    "\n",
    "graph_ER = nx.random_graphs.erdos_renyi_graph(nodes, P, seed)"
   ]
  },
  {
   "cell_type": "code",
   "execution_count": 30,
   "metadata": {},
   "outputs": [],
   "source": [
    "# save_graph\n",
    "nx.write_yaml(graph_ER, save_path)   "
   ]
  },
  {
   "cell_type": "code",
   "execution_count": 31,
   "metadata": {},
   "outputs": [],
   "source": [
    "# load graph\n",
    "graph_ER_saved = nx.read_yaml(save_path)"
   ]
  },
  {
   "cell_type": "code",
   "execution_count": 41,
   "metadata": {
    "scrolled": true
   },
   "outputs": [
    {
     "name": "stdout",
     "output_type": "stream",
     "text": [
      "32\n",
      "[1, 4, 5, 6, 7, 9, 10, 12, 14, 15, 16, 17, 20, 21, 22, 24, 25, 26, 27, 28, 29, 30, 31]\n",
      "[0, 2, 3, 4, 5, 6, 8, 9, 10, 13, 14, 15, 16, 18, 20, 21, 22, 25, 26, 27, 28, 30, 31]\n",
      "[1, 3, 4, 5, 6, 7, 8, 10, 11, 12, 13, 14, 15, 17, 18, 19, 20, 23, 25, 26, 28, 29, 30, 31]\n",
      "[1, 2, 5, 9, 11, 12, 13, 14, 16, 17, 18, 19, 20, 21, 22, 23, 24, 25, 26, 27, 28, 29]\n",
      "[0, 1, 2, 7, 9, 10, 11, 12, 14, 15, 16, 17, 18, 19, 20, 21, 22, 23, 24, 25, 26, 27, 28, 29, 30, 31]\n",
      "[0, 1, 2, 3, 7, 8, 9, 11, 12, 13, 14, 15, 16, 17, 18, 19, 22, 23, 24, 25, 26, 27, 28, 29, 30]\n",
      "[0, 1, 2, 8, 10, 12, 13, 14, 15, 17, 20, 21, 24, 25, 26, 27, 28, 29, 30, 31]\n",
      "[0, 2, 4, 5, 8, 9, 10, 11, 12, 15, 16, 17, 20, 21, 22, 25, 27, 28, 30, 31]\n",
      "[1, 2, 5, 6, 7, 9, 10, 12, 14, 16, 17, 18, 20, 23, 24, 25, 26, 27, 31]\n",
      "[0, 1, 3, 4, 5, 7, 8, 10, 12, 13, 14, 15, 16, 18, 20, 21, 24, 25, 26, 27, 29, 30]\n",
      "[0, 1, 2, 4, 6, 7, 8, 9, 11, 12, 13, 14, 15, 16, 18, 21, 22, 23, 24, 25, 26, 27, 29, 30, 31]\n",
      "[2, 3, 4, 5, 7, 10, 12, 13, 17, 18, 19, 21, 22, 23, 24, 25, 26, 27, 28, 29, 31]\n",
      "[0, 2, 3, 4, 5, 6, 7, 8, 9, 10, 11, 13, 14, 16, 17, 18, 19, 22, 23, 24, 25, 26, 27, 28, 29, 30, 31]\n",
      "[1, 2, 3, 5, 6, 9, 10, 11, 12, 14, 15, 16, 17, 19, 21, 22, 24, 26, 30, 31]\n",
      "[0, 1, 2, 3, 4, 5, 6, 8, 9, 10, 12, 13, 15, 17, 19, 21, 22, 27, 28, 29, 30, 31]\n",
      "[0, 1, 2, 4, 5, 6, 7, 9, 10, 13, 14, 16, 17, 18, 19, 22, 23, 25, 26, 27, 28, 29, 30, 31]\n",
      "[0, 1, 3, 4, 5, 7, 8, 9, 10, 12, 13, 15, 17, 18, 19, 20, 21, 22, 24, 25, 26, 27, 28, 29, 30, 31]\n",
      "[0, 2, 3, 4, 5, 6, 7, 8, 11, 12, 13, 14, 15, 16, 18, 19, 20, 21, 22, 23, 24, 25, 26, 29, 30, 31]\n",
      "[1, 2, 3, 4, 5, 8, 9, 10, 11, 12, 15, 16, 17, 19, 20, 22, 25, 26, 28, 29, 30, 31]\n",
      "[2, 3, 4, 5, 11, 12, 13, 14, 15, 16, 17, 18, 23, 24, 25, 26, 27, 29, 30, 31]\n",
      "[0, 1, 2, 3, 4, 6, 7, 8, 9, 16, 17, 18, 21, 22, 23, 24, 25, 28, 29]\n",
      "[0, 1, 3, 4, 6, 7, 9, 10, 11, 13, 14, 16, 17, 20, 22, 25, 26, 27, 30]\n",
      "[0, 1, 3, 4, 5, 7, 10, 11, 12, 13, 14, 15, 16, 17, 18, 20, 21, 23, 24, 25, 26, 29, 30, 31]\n",
      "[2, 3, 4, 5, 8, 10, 11, 12, 15, 17, 19, 20, 22, 24, 25, 26, 27, 28, 29, 30, 31]\n",
      "[0, 3, 4, 5, 6, 8, 9, 10, 11, 12, 13, 16, 17, 19, 20, 22, 23, 25, 26, 28, 29, 30, 31]\n",
      "[0, 1, 2, 3, 4, 5, 6, 7, 8, 9, 10, 11, 12, 15, 16, 17, 18, 19, 20, 21, 22, 23, 24, 26, 27, 28]\n",
      "[0, 1, 2, 3, 4, 5, 6, 8, 9, 10, 11, 12, 13, 15, 16, 17, 18, 19, 21, 22, 23, 24, 25, 27, 28, 31]\n",
      "[0, 1, 3, 4, 5, 6, 7, 8, 9, 10, 11, 12, 14, 15, 16, 19, 21, 23, 25, 26, 28, 29, 30]\n",
      "[0, 1, 2, 3, 4, 5, 6, 7, 11, 12, 14, 15, 16, 18, 20, 23, 24, 25, 26, 27, 29, 30, 31]\n",
      "[0, 2, 3, 4, 5, 6, 9, 10, 11, 12, 14, 15, 16, 17, 18, 19, 20, 22, 23, 24, 27, 28]\n",
      "[0, 1, 2, 4, 5, 6, 7, 9, 10, 12, 13, 14, 15, 16, 17, 18, 19, 21, 22, 23, 24, 27, 28]\n",
      "[0, 1, 2, 4, 6, 7, 8, 10, 11, 12, 13, 14, 15, 16, 17, 18, 19, 22, 23, 24, 26, 28]\n"
     ]
    }
   ],
   "source": [
    "# get_graph_info\n",
    "input_nodes = []\n",
    "output_nodes = []\n",
    "Nodes = []\n",
    "\n",
    "print(graph_ER_saved.number_of_nodes())\n",
    "for i in range(graph_ER_saved.number_of_nodes()):\n",
    "    print(list(graph_ER_saved.neighbors(i)))"
   ]
  },
  {
   "cell_type": "code",
   "execution_count": 46,
   "metadata": {},
   "outputs": [
    {
     "name": "stdout",
     "output_type": "stream",
     "text": [
      "[0, 1, 2, 4, 6, 7, 8, 9, 11, 12, 13, 14, 15, 16, 18, 21, 22, 23, 24, 25, 26, 27, 29, 30, 31]\n"
     ]
    }
   ],
   "source": [
    "tmp = list(graph_ER_saved.neighbors(10))\n",
    "tmp.sort()\n",
    "print(tmp)"
   ]
  },
  {
   "cell_type": "code",
   "execution_count": 49,
   "metadata": {},
   "outputs": [],
   "source": [
    "Node = collections.namedtuple('Node', ['id', 'inputs', 'type'])\n",
    "\n",
    "for node in range(graph_ER_saved.number_of_nodes()):\n",
    "    # node i 에 대해\n",
    "    tmp = list(graph_ER_saved.neighbors(node))\n",
    "    tmp.sort()\n",
    "    # node type 정의\n",
    "    type = -1    # input node도, output node도 아닌. 그래프의 중간에 매개자처럼 있는 중간 node.\n",
    "    if node < tmp[0]:  # id 가장 작은 노드보다 작으면, 이건 외부에서 input을 받는 노드. 즉 input node.\n",
    "        input_nodes.append(node)\n",
    "        type = 0\n",
    "    if node > tmp[-1]:  # id 가장 큰 노드보다 크면, 이건 외부로 output 내보내는 노드. 즉 output node.\n",
    "        output_nodes.append(node)\n",
    "        type = 1\n",
    "    # dag로 변환 (자신의 id보다 작은 노드들과의 연결만 남기기)\n",
    "    Nodes.append(Node(node, [n for n in tmp if n < node], type))"
   ]
  },
  {
   "cell_type": "code",
   "execution_count": 50,
   "metadata": {
    "scrolled": true
   },
   "outputs": [
    {
     "data": {
      "text/plain": [
       "[Node(id=0, inputs=[], type=0),\n",
       " Node(id=1, inputs=[0], type=-1),\n",
       " Node(id=2, inputs=[1], type=-1),\n",
       " Node(id=3, inputs=[1, 2], type=-1),\n",
       " Node(id=4, inputs=[0, 1, 2], type=-1),\n",
       " Node(id=5, inputs=[0, 1, 2, 3], type=-1),\n",
       " Node(id=6, inputs=[0, 1, 2], type=-1),\n",
       " Node(id=7, inputs=[0, 2, 4, 5], type=-1),\n",
       " Node(id=8, inputs=[1, 2, 5, 6, 7], type=-1),\n",
       " Node(id=9, inputs=[0, 1, 3, 4, 5, 7, 8], type=-1),\n",
       " Node(id=10, inputs=[0, 1, 2, 4, 6, 7, 8, 9], type=-1),\n",
       " Node(id=11, inputs=[2, 3, 4, 5, 7, 10], type=-1),\n",
       " Node(id=12, inputs=[0, 2, 3, 4, 5, 6, 7, 8, 9, 10, 11], type=-1),\n",
       " Node(id=13, inputs=[1, 2, 3, 5, 6, 9, 10, 11, 12], type=-1),\n",
       " Node(id=14, inputs=[0, 1, 2, 3, 4, 5, 6, 8, 9, 10, 12, 13], type=-1),\n",
       " Node(id=15, inputs=[0, 1, 2, 4, 5, 6, 7, 9, 10, 13, 14], type=-1),\n",
       " Node(id=16, inputs=[0, 1, 3, 4, 5, 7, 8, 9, 10, 12, 13, 15], type=-1),\n",
       " Node(id=17, inputs=[0, 2, 3, 4, 5, 6, 7, 8, 11, 12, 13, 14, 15, 16], type=-1),\n",
       " Node(id=18, inputs=[1, 2, 3, 4, 5, 8, 9, 10, 11, 12, 15, 16, 17], type=-1),\n",
       " Node(id=19, inputs=[2, 3, 4, 5, 11, 12, 13, 14, 15, 16, 17, 18], type=-1),\n",
       " Node(id=20, inputs=[0, 1, 2, 3, 4, 6, 7, 8, 9, 16, 17, 18], type=-1),\n",
       " Node(id=21, inputs=[0, 1, 3, 4, 6, 7, 9, 10, 11, 13, 14, 16, 17, 20], type=-1),\n",
       " Node(id=22, inputs=[0, 1, 3, 4, 5, 7, 10, 11, 12, 13, 14, 15, 16, 17, 18, 20, 21], type=-1),\n",
       " Node(id=23, inputs=[2, 3, 4, 5, 8, 10, 11, 12, 15, 17, 19, 20, 22], type=-1),\n",
       " Node(id=24, inputs=[0, 3, 4, 5, 6, 8, 9, 10, 11, 12, 13, 16, 17, 19, 20, 22, 23], type=-1),\n",
       " Node(id=25, inputs=[0, 1, 2, 3, 4, 5, 6, 7, 8, 9, 10, 11, 12, 15, 16, 17, 18, 19, 20, 21, 22, 23, 24], type=-1),\n",
       " Node(id=26, inputs=[0, 1, 2, 3, 4, 5, 6, 8, 9, 10, 11, 12, 13, 15, 16, 17, 18, 19, 21, 22, 23, 24, 25], type=-1),\n",
       " Node(id=27, inputs=[0, 1, 3, 4, 5, 6, 7, 8, 9, 10, 11, 12, 14, 15, 16, 19, 21, 23, 25, 26], type=-1),\n",
       " Node(id=28, inputs=[0, 1, 2, 3, 4, 5, 6, 7, 11, 12, 14, 15, 16, 18, 20, 23, 24, 25, 26, 27], type=-1),\n",
       " Node(id=29, inputs=[0, 2, 3, 4, 5, 6, 9, 10, 11, 12, 14, 15, 16, 17, 18, 19, 20, 22, 23, 24, 27, 28], type=1),\n",
       " Node(id=30, inputs=[0, 1, 2, 4, 5, 6, 7, 9, 10, 12, 13, 14, 15, 16, 17, 18, 19, 21, 22, 23, 24, 27, 28], type=1),\n",
       " Node(id=31, inputs=[0, 1, 2, 4, 6, 7, 8, 10, 11, 12, 13, 14, 15, 16, 17, 18, 19, 22, 23, 24, 26, 28], type=1)]"
      ]
     },
     "execution_count": 50,
     "metadata": {},
     "output_type": "execute_result"
    }
   ],
   "source": [
    "Nodes"
   ]
  },
  {
   "cell_type": "code",
   "execution_count": 51,
   "metadata": {},
   "outputs": [
    {
     "data": {
      "text/plain": [
       "[0, 0]"
      ]
     },
     "execution_count": 51,
     "metadata": {},
     "output_type": "execute_result"
    }
   ],
   "source": [
    "input_nodes"
   ]
  },
  {
   "cell_type": "code",
   "execution_count": 52,
   "metadata": {},
   "outputs": [
    {
     "data": {
      "text/plain": [
       "[29, 30, 31]"
      ]
     },
     "execution_count": 52,
     "metadata": {},
     "output_type": "execute_result"
    }
   ],
   "source": [
    "output_nodes"
   ]
  },
  {
   "cell_type": "markdown",
   "metadata": {},
   "source": [
    "# => 최종 Stage Block"
   ]
  },
  {
   "cell_type": "code",
   "execution_count": 60,
   "metadata": {},
   "outputs": [
    {
     "name": "stdout",
     "output_type": "stream",
     "text": [
      "1 [3, 2] 4 5\n"
     ]
    }
   ],
   "source": [
    "# unpack list\n",
    "# function(a, b), 즉 2개의 argument가 들어가는 함수에 *[1 ,2]를 input으로 넣을 수 있음\n",
    "a = [1, [3, 2], 4, 5]\n",
    "print(*a)"
   ]
  },
  {
   "cell_type": "code",
   "execution_count": null,
   "metadata": {},
   "outputs": [],
   "source": []
  },
  {
   "cell_type": "code",
   "execution_count": null,
   "metadata": {},
   "outputs": [],
   "source": []
  },
  {
   "cell_type": "code",
   "execution_count": null,
   "metadata": {},
   "outputs": [],
   "source": []
  },
  {
   "cell_type": "code",
   "execution_count": null,
   "metadata": {},
   "outputs": [],
   "source": []
  }
 ],
 "metadata": {
  "kernelspec": {
   "display_name": "Python 3",
   "language": "python",
   "name": "python3"
  },
  "language_info": {
   "codemirror_mode": {
    "name": "ipython",
    "version": 3
   },
   "file_extension": ".py",
   "mimetype": "text/x-python",
   "name": "python",
   "nbconvert_exporter": "python",
   "pygments_lexer": "ipython3",
   "version": "3.5.2"
  }
 },
 "nbformat": 4,
 "nbformat_minor": 2
}
