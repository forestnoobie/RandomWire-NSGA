{
 "cells": [
  {
   "cell_type": "markdown",
   "metadata": {},
   "source": [
    "## Check Point and Evaluation\n"
   ]
  },
  {
   "cell_type": "markdown",
   "metadata": {},
   "source": [
    "### Check Point and Logs\n",
    "* generation 끝날 때마다 least parameter, best accuracy\n",
    "* 마지막 generation 끝날 때는 전체 모델 저장?\n",
    "* chkpt path -> out_dir 넘겨야\n",
    "* logs는 다 저장"
   ]
  },
  {
   "cell_type": "markdown",
   "metadata": {},
   "source": [
    "* 현재 로그가 로그북에 저장되고 있다\n",
    "* 확인해봐야 할 것\n",
    "* 현재 로그 북을 통해서 특정 generation 에서 특정 모델을 꺼낼 수 있나 \n",
    "-> 바로 베스트 워스트 저장\n",
    "\n",
    "* 모델 저장하는 방법 -> 기존 코드 참고\n",
    "\n"
   ]
  },
  {
   "cell_type": "code",
   "execution_count": 5,
   "metadata": {},
   "outputs": [],
   "source": [
    "import os \n",
    "out_dir = '../checkpoint/'\n",
    "\n",
    "if not os.path.isdir(out_dir):\n",
    "    os.makedirs(out_dir)\n",
    "\n",
    "num = len(os.listdir(out_dir))\n",
    "out_name = 'experiment' +'_'+str(num)\n",
    "out_dir = os.path.join(out_dir,out_name)\n",
    "\n",
    "if not os.path.isdir(out_dir):\n",
    "    os.makedirs(out_dir)"
   ]
  },
  {
   "cell_type": "code",
   "execution_count": null,
   "metadata": {},
   "outputs": [],
   "source": [
    "\"\"\"\n",
    "4. Algorithms\n",
    " For the purpose of completeness we will develop the complete generational algorithm.\n",
    "\"\"\"\n",
    "\n",
    "POP_SIZE = 2    # population size\n",
    "NGEN = 2    # number of Generation\n",
    "CXPB = 0.5    # crossover probability \n",
    "MUTPB = 0.5    # mutation probability\n",
    "\n",
    "\n",
    "# log에 기록할 stats\n",
    "stats = tools.Statistics(lambda ind: ind.fitness.values)\n",
    "stats.register(\"min\", np.min, axis=0)\n",
    "stats.register(\"max\", np.max, axis=0)\n",
    "\n",
    "logbook = tools.Logbook()\n",
    "logbook.header = \"gen\", \"evals\", \"min\", \"max\", \"evals_time\", \"gen_time\"\n",
    "\n",
    "# population 생성.  (toolbox.population은 creator.Individual n개를 담은 list를 반환. (=> population)\n",
    "now = datetime.datetime.now()\n",
    "now_str = now.strftime('%Y-%m-%d %H:%M:%S')\n",
    "print(\"Initialion starts ...\")\n",
    "logging.info(\"Initialion starts at \" + now_str)\n",
    "init_start_time = time.time()\n",
    "\n",
    "pop = toolbox.population(n=POP_SIZE)\n",
    "\n",
    "# Evaluate the individuals with an invalid fitness\n",
    "invalid_ind = [ind for ind in pop if not ind.fitness.valid]\n",
    "fitnesses = toolbox.map(toolbox.evaluate, invalid_ind)    # .evaluate는 tuple을 반환. 따라서 fitnesses는 튜플을 원소로 가지는 list\n",
    "for ind, fit in zip(invalid_ind, fitnesses):\n",
    "    ind.fitness.values = fit   # ind.fitness.values = (val_accuracy, flops) 튜플\n",
    "\n",
    "# This is just to assign the crowding distance to the individuals\n",
    "# no actual selection is done\n",
    "pop = toolbox.select(pop, len(pop))\n",
    "\n",
    "record = stats.compile(pop)\n",
    "logbook.record(gen=0, evals=len(invalid_ind), **record)\n",
    "print(logbook.stream)\n",
    "\n",
    "now = datetime.datetime.now()\n",
    "now_str = now.strftime('%Y-%m-%d %H:%M:%S')\n",
    "print(\"Initialization is finished at\", now_str)\n",
    "logging.info(\"Initialion is finished at \" + now_str)\n",
    "\n",
    "init_time = time.time() - init_start_time\n",
    "logging.info(\"Initialion time = \" + str(init_time) + \"s\")\n",
    "\n",
    "\n",
    "print()\n",
    "\n",
    "# Begin the generational process\n",
    "for gen in range(1, NGEN):\n",
    "    now = datetime.datetime.now()\n",
    "    now_str = now.strftime('%Y-%m-%d %H:%M:%S')\n",
    "    print(\"#####\", gen, \"th generation starts at\", now_str)\n",
    "    logging.info(str(gen) + \"th generation starts at\" + now_str)\n",
    "    \n",
    "    start_gen = time.time()\n",
    "    # Vary the population\n",
    "    offspring = tools.selTournamentDCD(pop, len(pop))\n",
    "    offspring = [toolbox.clone(ind) for ind in offspring]\n",
    "\n",
    "    for ind1, ind2 in zip(offspring[::2], offspring[1::2]):\n",
    "        if random.random() <= CXPB:\n",
    "            toolbox.mate(ind1, ind2)\n",
    "\n",
    "        toolbox.mutate(ind1, indpb=MUTPB)\n",
    "        toolbox.mutate(ind2, indpb=MUTPB)\n",
    "        del ind1.fitness.values, ind2.fitness.values\n",
    "\n",
    "    # Evaluate the individuals with an invalid fitness\n",
    "    print(\"##### Evaluation starts\")\n",
    "    start_time = time.time()\n",
    "    \n",
    "    invalid_ind = [ind for ind in offspring if not ind.fitness.valid]\n",
    "    fitnesses = toolbox.map(toolbox.evaluate, invalid_ind)\n",
    "    for ind, fit in zip(invalid_ind, fitnesses):\n",
    "        ind.fitness.values = fit\n",
    "        \n",
    "    eval_time_for_one_generation = time.time() - start_time        \n",
    "    print(\"##### Evaluation ends (Time : %.3f)\" % eval_time_for_one_generation)\n",
    "    \n",
    "    \n",
    "    ### 여기서 모델 저장, 마지막 gen은 전체 저장/ 도중에는 가장 좋은 것 두 개\n",
    "    \n",
    "    ### 여기서 로그 저장\n",
    "    \n",
    "    # Select the next generation population\n",
    "    pop = toolbox.select(pop + offspring, POP_SIZE)\n",
    "    \n",
    "    gen_time = time.time() - start_gen\n",
    "    print('##### [gen_time: %.3fs]' % gen_time, gen, 'th generation is finished.')\n",
    "    \n",
    "    record = stats.compile(pop)\n",
    "    logbook.record(gen=gen, evals=len(invalid_ind), **record,\n",
    "                   evals_time=eval_time_for_one_generation, gen_time=gen_time)\n",
    "    \n",
    "    logging.info('Gen [%03d/%03d] -- evals: %03d, evals_time: %.4fs, gen_time: %.4fs' % (gen, NGEN, len(invalid_ind), eval_time_for_one_generation, gen_time))\n",
    "    print(logbook.stream)"
   ]
  },
  {
   "cell_type": "code",
   "execution_count": null,
   "metadata": {},
   "outputs": [],
   "source": []
  },
  {
   "cell_type": "markdown",
   "metadata": {},
   "source": [
    "### Evaluation\n",
    "* val_acc 안 오를 때까지\n",
    "* 특정 epoch"
   ]
  },
  {
   "cell_type": "code",
   "execution_count": 1,
   "metadata": {},
   "outputs": [],
   "source": [
    "import pprint"
   ]
  },
  {
   "cell_type": "markdown",
   "metadata": {},
   "source": [
    "## Dataset 바꾸기"
   ]
  },
  {
   "cell_type": "code",
   "execution_count": null,
   "metadata": {},
   "outputs": [],
   "source": []
  }
 ],
 "metadata": {
  "kernelspec": {
   "display_name": "'newrw'",
   "language": "python",
   "name": "newrw"
  },
  "toc": {
   "base_numbering": 1,
   "nav_menu": {},
   "number_sections": true,
   "sideBar": true,
   "skip_h1_title": false,
   "title_cell": "Table of Contents",
   "title_sidebar": "Contents",
   "toc_cell": false,
   "toc_position": {},
   "toc_section_display": true,
   "toc_window_display": false
  }
 },
 "nbformat": 4,
 "nbformat_minor": 2
}
